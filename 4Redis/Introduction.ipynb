{
 "cells": [
  {
   "cell_type": "markdown",
   "metadata": {},
   "source": [
    "# Introduction"
   ]
  },
  {
   "cell_type": "markdown",
   "metadata": {},
   "source": [
    "## Présentation"
   ]
  },
  {
   "cell_type": "markdown",
   "metadata": {},
   "source": [
    "Redis est une base de données NoSQL qui se classe dans la catégorie \"data structure server\". C'est  un système permettant de traiter, de manière très performante, des données sous la forme clés/valeurs. Cette performance est obtenue car les données sont stockées directement sur la mémoire RAM. Cela permet d'accéder très facilement aux données \n",
    "\n",
    "La clé permet de récupérer et d'identifier de manière unique la donnée. Redis ne permet pas de stocker des modèles de données très complexes il faut donc ruser pour créer une structure de données complète et complexe."
   ]
  },
  {
   "cell_type": "markdown",
   "metadata": {},
   "source": [
    "## Les données "
   ]
  },
  {
   "cell_type": "markdown",
   "metadata": {},
   "source": [
    "\n",
    "\n",
    "Les valeurs peuvent appartenir aux types suivants:\n",
    "\n",
    "- chaînes de caractères\n",
    "- compteurs numériques (les données numériques seront stockées dans la base sous la forme de chaîne de caractères)\n",
    "- listes \n",
    "- sets ou sets ordonnées\n",
    "- dictionnaires"
   ]
  },
  {
   "cell_type": "markdown",
   "metadata": {},
   "source": [
    "## Installation"
   ]
  },
  {
   "cell_type": "markdown",
   "metadata": {},
   "source": [
    "Pour installer la librairie de Python permettant d'intéragir avec Redis\n",
    "\n",
    "`pip install redis`\n",
    "\n",
    "ou si on utilise pipenv comme dans notre cas \n",
    "\n",
    "`pipenv install redis`"
   ]
  },
  {
   "cell_type": "markdown",
   "metadata": {},
   "source": [
    "# Let's play"
   ]
  },
  {
   "cell_type": "code",
   "execution_count": 1,
   "metadata": {
    "ExecuteTime": {
     "end_time": "2018-12-04T08:25:39.071270Z",
     "start_time": "2018-12-04T08:25:39.068233Z"
    }
   },
   "outputs": [],
   "source": [
    "import redis\n",
    "\n",
    "LOCAL = False"
   ]
  },
  {
   "cell_type": "code",
   "execution_count": 2,
   "metadata": {
    "ExecuteTime": {
     "end_time": "2018-12-04T08:25:39.317259Z",
     "start_time": "2018-12-04T08:25:39.312951Z"
    }
   },
   "outputs": [],
   "source": [
    "redis_client = redis.StrictRedis(host='localhost' if LOCAL else 'redis')"
   ]
  },
  {
   "cell_type": "markdown",
   "metadata": {},
   "source": [
    "Pour tester la connexion on peut pinguer la base de données :"
   ]
  },
  {
   "cell_type": "code",
   "execution_count": 3,
   "metadata": {
    "ExecuteTime": {
     "end_time": "2018-12-04T08:25:40.167383Z",
     "start_time": "2018-12-04T08:25:40.159274Z"
    }
   },
   "outputs": [
    {
     "data": {
      "text/plain": [
       "True"
      ]
     },
     "execution_count": 3,
     "metadata": {},
     "output_type": "execute_result"
    }
   ],
   "source": [
    "redis_client.ping()"
   ]
  },
  {
   "cell_type": "markdown",
   "metadata": {},
   "source": [
    "Vous pouvez regarder toutes les configurations utilisé par Redis, beaucoup ne sont pas utiles à notre niveau mais vous pouvez voir par exemple, `database`, `maxclients`, `port` , `timeout` qui peuvent être utile de modifier pour différentes applications"
   ]
  },
  {
   "cell_type": "code",
   "execution_count": 4,
   "metadata": {
    "ExecuteTime": {
     "end_time": "2018-12-04T08:25:40.857904Z",
     "start_time": "2018-12-04T08:25:40.847839Z"
    }
   },
   "outputs": [
    {
     "data": {
      "text/plain": [
       "{'rdbchecksum': 'yes',\n",
       " 'daemonize': 'no',\n",
       " 'io-threads-do-reads': 'no',\n",
       " 'lua-replicate-commands': 'yes',\n",
       " 'always-show-logo': 'no',\n",
       " 'protected-mode': 'no',\n",
       " 'rdbcompression': 'yes',\n",
       " 'rdb-del-sync-files': 'no',\n",
       " 'activerehashing': 'yes',\n",
       " 'stop-writes-on-bgsave-error': 'yes',\n",
       " 'set-proc-title': 'yes',\n",
       " 'dynamic-hz': 'yes',\n",
       " 'lazyfree-lazy-eviction': 'no',\n",
       " 'lazyfree-lazy-expire': 'no',\n",
       " 'lazyfree-lazy-server-del': 'no',\n",
       " 'lazyfree-lazy-user-del': 'no',\n",
       " 'lazyfree-lazy-user-flush': 'no',\n",
       " 'repl-disable-tcp-nodelay': 'no',\n",
       " 'repl-diskless-sync': 'no',\n",
       " 'gopher-enabled': 'no',\n",
       " 'aof-rewrite-incremental-fsync': 'yes',\n",
       " 'no-appendfsync-on-rewrite': 'no',\n",
       " 'cluster-require-full-coverage': 'yes',\n",
       " 'rdb-save-incremental-fsync': 'yes',\n",
       " 'aof-load-truncated': 'yes',\n",
       " 'aof-use-rdb-preamble': 'yes',\n",
       " 'cluster-replica-no-failover': 'no',\n",
       " 'cluster-slave-no-failover': 'no',\n",
       " 'replica-lazy-flush': 'no',\n",
       " 'slave-lazy-flush': 'no',\n",
       " 'replica-serve-stale-data': 'yes',\n",
       " 'slave-serve-stale-data': 'yes',\n",
       " 'replica-read-only': 'yes',\n",
       " 'slave-read-only': 'yes',\n",
       " 'replica-ignore-maxmemory': 'yes',\n",
       " 'slave-ignore-maxmemory': 'yes',\n",
       " 'jemalloc-bg-thread': 'yes',\n",
       " 'activedefrag': 'no',\n",
       " 'syslog-enabled': 'no',\n",
       " 'cluster-enabled': 'no',\n",
       " 'appendonly': 'no',\n",
       " 'cluster-allow-reads-when-down': 'no',\n",
       " 'crash-log-enabled': 'yes',\n",
       " 'crash-memcheck-enabled': 'yes',\n",
       " 'use-exit-on-panic': 'no',\n",
       " 'disable-thp': 'yes',\n",
       " 'cluster-allow-replica-migration': 'yes',\n",
       " 'replica-announced': 'yes',\n",
       " 'aclfile': '',\n",
       " 'unixsocket': '',\n",
       " 'pidfile': '',\n",
       " 'replica-announce-ip': '',\n",
       " 'slave-announce-ip': '',\n",
       " 'masteruser': '',\n",
       " 'cluster-announce-ip': '',\n",
       " 'syslog-ident': 'redis',\n",
       " 'dbfilename': 'dump.rdb',\n",
       " 'appendfilename': 'appendonly.aof',\n",
       " 'server_cpulist': '',\n",
       " 'bio_cpulist': '',\n",
       " 'aof_rewrite_cpulist': '',\n",
       " 'bgsave_cpulist': '',\n",
       " 'ignore-warnings': '',\n",
       " 'proc-title-template': '{title} {listen-addr} {server-mode}',\n",
       " 'masterauth': '',\n",
       " 'requirepass': '',\n",
       " 'supervised': 'no',\n",
       " 'syslog-facility': 'local0',\n",
       " 'repl-diskless-load': 'disabled',\n",
       " 'loglevel': 'notice',\n",
       " 'maxmemory-policy': 'noeviction',\n",
       " 'appendfsync': 'everysec',\n",
       " 'oom-score-adj': 'no',\n",
       " 'acl-pubsub-default': 'allchannels',\n",
       " 'sanitize-dump-payload': 'no',\n",
       " 'databases': '16',\n",
       " 'port': '6379',\n",
       " 'io-threads': '1',\n",
       " 'auto-aof-rewrite-percentage': '100',\n",
       " 'cluster-replica-validity-factor': '10',\n",
       " 'cluster-slave-validity-factor': '10',\n",
       " 'list-max-ziplist-size': '-2',\n",
       " 'tcp-keepalive': '300',\n",
       " 'cluster-migration-barrier': '1',\n",
       " 'active-defrag-cycle-min': '1',\n",
       " 'active-defrag-cycle-max': '25',\n",
       " 'active-defrag-threshold-lower': '10',\n",
       " 'active-defrag-threshold-upper': '100',\n",
       " 'lfu-log-factor': '10',\n",
       " 'lfu-decay-time': '1',\n",
       " 'replica-priority': '100',\n",
       " 'slave-priority': '100',\n",
       " 'repl-diskless-sync-delay': '5',\n",
       " 'maxmemory-samples': '5',\n",
       " 'maxmemory-eviction-tenacity': '10',\n",
       " 'timeout': '0',\n",
       " 'replica-announce-port': '0',\n",
       " 'slave-announce-port': '0',\n",
       " 'tcp-backlog': '511',\n",
       " 'cluster-announce-bus-port': '0',\n",
       " 'cluster-announce-port': '0',\n",
       " 'cluster-announce-tls-port': '0',\n",
       " 'repl-timeout': '60',\n",
       " 'repl-ping-replica-period': '10',\n",
       " 'repl-ping-slave-period': '10',\n",
       " 'list-compress-depth': '0',\n",
       " 'rdb-key-save-delay': '0',\n",
       " 'key-load-delay': '0',\n",
       " 'active-expire-effort': '1',\n",
       " 'hz': '10',\n",
       " 'min-replicas-to-write': '0',\n",
       " 'min-slaves-to-write': '0',\n",
       " 'min-replicas-max-lag': '10',\n",
       " 'min-slaves-max-lag': '10',\n",
       " 'maxclients': '10000',\n",
       " 'active-defrag-max-scan-fields': '1000',\n",
       " 'slowlog-max-len': '128',\n",
       " 'acllog-max-len': '128',\n",
       " 'lua-time-limit': '5000',\n",
       " 'cluster-node-timeout': '15000',\n",
       " 'slowlog-log-slower-than': '10000',\n",
       " 'latency-monitor-threshold': '0',\n",
       " 'proto-max-bulk-len': '536870912',\n",
       " 'stream-node-max-entries': '100',\n",
       " 'repl-backlog-size': '1048576',\n",
       " 'maxmemory': '0',\n",
       " 'hash-max-ziplist-entries': '512',\n",
       " 'set-max-intset-entries': '512',\n",
       " 'zset-max-ziplist-entries': '128',\n",
       " 'active-defrag-ignore-bytes': '104857600',\n",
       " 'hash-max-ziplist-value': '64',\n",
       " 'stream-node-max-bytes': '4096',\n",
       " 'zset-max-ziplist-value': '64',\n",
       " 'hll-sparse-max-bytes': '3000',\n",
       " 'tracking-table-max-keys': '1000000',\n",
       " 'client-query-buffer-limit': '1073741824',\n",
       " 'repl-backlog-ttl': '3600',\n",
       " 'auto-aof-rewrite-min-size': '67108864',\n",
       " 'tls-port': '0',\n",
       " 'tls-session-cache-size': '20480',\n",
       " 'tls-session-cache-timeout': '300',\n",
       " 'tls-cluster': 'no',\n",
       " 'tls-replication': 'no',\n",
       " 'tls-auth-clients': 'yes',\n",
       " 'tls-prefer-server-ciphers': 'no',\n",
       " 'tls-session-caching': 'yes',\n",
       " 'tls-cert-file': '',\n",
       " 'tls-key-file': '',\n",
       " 'tls-key-file-pass': '',\n",
       " 'tls-client-cert-file': '',\n",
       " 'tls-client-key-file': '',\n",
       " 'tls-client-key-file-pass': '',\n",
       " 'tls-dh-params-file': '',\n",
       " 'tls-ca-cert-file': '',\n",
       " 'tls-ca-cert-dir': '',\n",
       " 'tls-protocols': '',\n",
       " 'tls-ciphers': '',\n",
       " 'tls-ciphersuites': '',\n",
       " 'logfile': '',\n",
       " 'watchdog-period': '0',\n",
       " 'dir': '/data',\n",
       " 'save': '3600 1 300 100 60 10000',\n",
       " 'client-output-buffer-limit': 'normal 0 0 0 slave 268435456 67108864 60 pubsub 33554432 8388608 60',\n",
       " 'unixsocketperm': '0',\n",
       " 'slaveof': '',\n",
       " 'notify-keyspace-events': '',\n",
       " 'bind': '',\n",
       " 'oom-score-adj-values': '0 200 800'}"
      ]
     },
     "execution_count": 4,
     "metadata": {},
     "output_type": "execute_result"
    }
   ],
   "source": [
    "redis_client.config_get()"
   ]
  },
  {
   "cell_type": "markdown",
   "metadata": {},
   "source": [
    "## Stockage clé valeurs"
   ]
  },
  {
   "cell_type": "markdown",
   "metadata": {},
   "source": [
    "Pour stocker une valeur correspondant à une clé "
   ]
  },
  {
   "cell_type": "code",
   "execution_count": 5,
   "metadata": {
    "ExecuteTime": {
     "end_time": "2018-12-04T08:25:41.694243Z",
     "start_time": "2018-12-04T08:25:41.688105Z"
    }
   },
   "outputs": [
    {
     "data": {
      "text/plain": [
       "True"
      ]
     },
     "execution_count": 5,
     "metadata": {},
     "output_type": "execute_result"
    }
   ],
   "source": [
    "KEY = \"name\"\n",
    "VALUE = \"yourname\"\n",
    "redis_client.set(KEY, VALUE)"
   ]
  },
  {
   "cell_type": "markdown",
   "metadata": {},
   "source": [
    "True montre que le stockage s'est bien déroulé. "
   ]
  },
  {
   "cell_type": "markdown",
   "metadata": {},
   "source": [
    "Pour récupérer la valeur stocké il suffit d'appeler la méthode `GET` sur cette clé"
   ]
  },
  {
   "cell_type": "code",
   "execution_count": 6,
   "metadata": {
    "ExecuteTime": {
     "end_time": "2018-12-04T08:25:42.688807Z",
     "start_time": "2018-12-04T08:25:42.682023Z"
    }
   },
   "outputs": [
    {
     "data": {
      "text/plain": [
       "b'yourname'"
      ]
     },
     "execution_count": 6,
     "metadata": {},
     "output_type": "execute_result"
    }
   ],
   "source": [
    "redis_client.get(KEY)"
   ]
  },
  {
   "cell_type": "markdown",
   "metadata": {},
   "source": [
    "Vous pouvez voir que à l'aide du `b` que la réponse n'est pas exactement ce que l'on a stocké mais une représentation en bytes de notre chaine de charactères. "
   ]
  },
  {
   "cell_type": "code",
   "execution_count": 7,
   "metadata": {
    "ExecuteTime": {
     "end_time": "2018-12-04T08:25:43.214343Z",
     "start_time": "2018-12-04T08:25:43.204141Z"
    }
   },
   "outputs": [
    {
     "ename": "AssertionError",
     "evalue": "Les valeurs ne correspondent pas",
     "output_type": "error",
     "traceback": [
      "\u001b[0;31m---------------------------------------------------------------------------\u001b[0m",
      "\u001b[0;31mAssertionError\u001b[0m                            Traceback (most recent call last)",
      "\u001b[0;32m/tmp/ipykernel_15/3167113908.py\u001b[0m in \u001b[0;36m<module>\u001b[0;34m\u001b[0m\n\u001b[0;32m----> 1\u001b[0;31m \u001b[0;32massert\u001b[0m \u001b[0mredis_client\u001b[0m\u001b[0;34m.\u001b[0m\u001b[0mget\u001b[0m\u001b[0;34m(\u001b[0m\u001b[0mKEY\u001b[0m\u001b[0;34m)\u001b[0m \u001b[0;34m==\u001b[0m \u001b[0mVALUE\u001b[0m\u001b[0;34m,\u001b[0m \u001b[0;34m\"Les valeurs ne correspondent pas\"\u001b[0m\u001b[0;34m\u001b[0m\u001b[0;34m\u001b[0m\u001b[0m\n\u001b[0m",
      "\u001b[0;31mAssertionError\u001b[0m: Les valeurs ne correspondent pas"
     ]
    }
   ],
   "source": [
    "assert redis_client.get(KEY) == VALUE, \"Les valeurs ne correspondent pas\""
   ]
  },
  {
   "cell_type": "markdown",
   "metadata": {},
   "source": [
    "Pour cela, en python, il faut appeler la méthode `decode()` pour transformer des bytes en string "
   ]
  },
  {
   "cell_type": "code",
   "execution_count": 8,
   "metadata": {
    "ExecuteTime": {
     "end_time": "2018-12-04T08:25:44.385530Z",
     "start_time": "2018-12-04T08:25:44.381006Z"
    }
   },
   "outputs": [],
   "source": [
    "assert redis_client.get(KEY).decode() == VALUE, \"les valeurs ne correspondent pas\""
   ]
  },
  {
   "cell_type": "markdown",
   "metadata": {},
   "source": [
    "On peut préciser au client de décoder les réponses et de les transformer directement en strings"
   ]
  },
  {
   "cell_type": "code",
   "execution_count": 9,
   "metadata": {
    "ExecuteTime": {
     "end_time": "2018-12-04T08:26:03.568675Z",
     "start_time": "2018-12-04T08:26:03.563799Z"
    }
   },
   "outputs": [],
   "source": [
    "redis_client = redis.StrictRedis(host='localhost' if LOCAL else 'redis', port=6379, charset='utf-8', decode_responses=True)"
   ]
  },
  {
   "cell_type": "code",
   "execution_count": 10,
   "metadata": {
    "ExecuteTime": {
     "end_time": "2018-12-04T08:26:04.033465Z",
     "start_time": "2018-12-04T08:26:04.023275Z"
    }
   },
   "outputs": [],
   "source": [
    "assert redis_client.get(KEY) == VALUE"
   ]
  },
  {
   "cell_type": "markdown",
   "metadata": {},
   "source": [
    "Les valeurs peuvent aussi être des entiers"
   ]
  },
  {
   "cell_type": "code",
   "execution_count": 11,
   "metadata": {
    "ExecuteTime": {
     "end_time": "2018-12-04T08:26:06.379973Z",
     "start_time": "2018-12-04T08:26:06.373205Z"
    }
   },
   "outputs": [
    {
     "data": {
      "text/plain": [
       "True"
      ]
     },
     "execution_count": 11,
     "metadata": {},
     "output_type": "execute_result"
    }
   ],
   "source": [
    "KEY = \"age\"\n",
    "VALUE = 20\n",
    "\n",
    "redis_client.set(KEY, VALUE)"
   ]
  },
  {
   "cell_type": "code",
   "execution_count": 12,
   "metadata": {
    "ExecuteTime": {
     "end_time": "2018-12-04T08:26:07.073320Z",
     "start_time": "2018-12-04T08:26:07.066581Z"
    }
   },
   "outputs": [
    {
     "data": {
      "text/plain": [
       "'20'"
      ]
     },
     "execution_count": 12,
     "metadata": {},
     "output_type": "execute_result"
    }
   ],
   "source": [
    "redis_client.get(KEY)"
   ]
  },
  {
   "cell_type": "markdown",
   "metadata": {},
   "source": [
    "Vous pouvez alors utiliser la méthode `incr` pour incrémenter cet entier. Il faut faire attention puisque redis renvoie toujours les entiers comme des chaines de charactères."
   ]
  },
  {
   "cell_type": "code",
   "execution_count": 14,
   "metadata": {
    "ExecuteTime": {
     "end_time": "2018-12-04T08:26:07.706424Z",
     "start_time": "2018-12-04T08:26:07.699705Z"
    }
   },
   "outputs": [
    {
     "data": {
      "text/plain": [
       "int"
      ]
     },
     "execution_count": 14,
     "metadata": {},
     "output_type": "execute_result"
    }
   ],
   "source": [
    "type(redis_client.incr(KEY))"
   ]
  },
  {
   "cell_type": "markdown",
   "metadata": {},
   "source": [
    "## Exemple "
   ]
  },
  {
   "cell_type": "code",
   "execution_count": 15,
   "metadata": {
    "ExecuteTime": {
     "end_time": "2018-12-04T08:26:08.699775Z",
     "start_time": "2018-12-04T08:26:08.696428Z"
    }
   },
   "outputs": [],
   "source": [
    "from ipywidgets import widgets, interact\n",
    "from IPython.display import display"
   ]
  },
  {
   "cell_type": "code",
   "execution_count": 16,
   "metadata": {
    "ExecuteTime": {
     "end_time": "2018-12-04T08:26:09.194404Z",
     "start_time": "2018-12-04T08:26:09.176035Z"
    }
   },
   "outputs": [
    {
     "data": {
      "application/vnd.jupyter.widget-view+json": {
       "model_id": "96d0f047985d4856894866635995298c",
       "version_major": 2,
       "version_minor": 0
      },
      "text/plain": [
       "Button(description='Click me!', style=ButtonStyle())"
      ]
     },
     "metadata": {},
     "output_type": "display_data"
    },
    {
     "name": "stdout",
     "output_type": "stream",
     "text": [
      "Le bouton à été cliqué 1 fois\n",
      "Le bouton à été cliqué 2 fois\n",
      "Le bouton à été cliqué 3 fois\n",
      "Le bouton à été cliqué 4 fois\n",
      "Le bouton à été cliqué 5 fois\n",
      "Le bouton à été cliqué 6 fois\n",
      "Le bouton à été cliqué 7 fois\n",
      "Le bouton à été cliqué 8 fois\n",
      "Le bouton à été cliqué 9 fois\n",
      "Le bouton à été cliqué 10 fois\n",
      "Le bouton à été cliqué 11 fois\n",
      "Le bouton à été cliqué 12 fois\n",
      "Le bouton à été cliqué 13 fois\n",
      "Le bouton à été cliqué 14 fois\n",
      "Le bouton à été cliqué 15 fois\n"
     ]
    }
   ],
   "source": [
    "KEY = \"click_number\"\n",
    "DEFAULT_VALUE = 0\n",
    "\n",
    "redis_client.set(KEY, DEFAULT_VALUE)\n",
    "\n",
    "button = widgets.Button(description=\"Click me!\")\n",
    "def on_button_clicked(button):\n",
    "    redis_client.incr(KEY)\n",
    "    print(f\"Le bouton à été cliqué {redis_client.get(KEY)} fois\")\n",
    "    button.description = \"Click me more !\"\n",
    "    \n",
    "button.on_click(on_button_clicked)\n",
    "display(button)"
   ]
  },
  {
   "cell_type": "markdown",
   "metadata": {},
   "source": [
    "## Les Listes"
   ]
  },
  {
   "cell_type": "markdown",
   "metadata": {},
   "source": [
    "Redis permet aussi de stocker des valeurs de type `list`, pour cela nous avons à notre disposition un ensemble de méthodes :  \n",
    "\n",
    "- La méthode `LPUSH`  permet d'ajouter un élément en tête de list la complexité est de O(1).  \n",
    "- La méthode `RPUSH` permet d'ajouter un élément en queue de list la complexité est de O(1).  \n",
    "- La méthode `LINSERT` permet d'ajouter un élément avant ou après la première occurence d'une certaine valeur, la complexité est de O(N) à part pour le premier et le dernier élèment.\n",
    "- La méthode `LSET` permet de modifier la valeur correspondant à l'index spécifié, la complexité est de O(N) à part pour le premier et le dernier élèment.\n",
    "- La méthode `RPOP` permet de supprimer un élément en queue de list la complexité est de O(1).\n",
    "- La méthode `LPOP` permet de supprimer un élément en tête de list la complexité est de O(1).\n",
    "- La méthode `LINDEX` permet d'afficher un élément en fonction de son index.\n",
    "- La méthode `LREM` permet de supprimer un élément en fonction de son index.\n",
    "- La méthode `LLEN` permet de récupérer la taille d'une liste.\n",
    "\n",
    "Nous allons toutes les tester."
   ]
  },
  {
   "cell_type": "code",
   "execution_count": 31,
   "metadata": {
    "ExecuteTime": {
     "end_time": "2018-12-04T08:26:24.680746Z",
     "start_time": "2018-12-04T08:26:24.673481Z"
    },
    "scrolled": true
   },
   "outputs": [
    {
     "data": {
      "text/plain": [
       "2"
      ]
     },
     "execution_count": 31,
     "metadata": {},
     "output_type": "execute_result"
    }
   ],
   "source": [
    "redis_client.lpush('language_list', \"kotlin\")\n",
    "redis_client.lpush('language_list', \"python\")"
   ]
  },
  {
   "cell_type": "code",
   "execution_count": 32,
   "metadata": {
    "ExecuteTime": {
     "end_time": "2018-12-04T08:26:24.680746Z",
     "start_time": "2018-12-04T08:26:24.673481Z"
    }
   },
   "outputs": [
    {
     "data": {
      "text/plain": [
       "3"
      ]
     },
     "execution_count": 32,
     "metadata": {},
     "output_type": "execute_result"
    }
   ],
   "source": [
    "redis_client.linsert('language_list', \"after\",\"python\",\"java\")"
   ]
  },
  {
   "cell_type": "markdown",
   "metadata": {},
   "source": [
    "On peut aussi ajouter plusieurs élément en même temps dans une liste"
   ]
  },
  {
   "cell_type": "code",
   "execution_count": 18,
   "metadata": {
    "ExecuteTime": {
     "end_time": "2018-12-04T08:26:27.016079Z",
     "start_time": "2018-12-04T08:26:27.009199Z"
    }
   },
   "outputs": [
    {
     "data": {
      "text/plain": [
       "4"
      ]
     },
     "execution_count": 18,
     "metadata": {},
     "output_type": "execute_result"
    }
   ],
   "source": [
    "redis_client.lpush('language_list', \"java\", \"c++\")"
   ]
  },
  {
   "cell_type": "code",
   "execution_count": 25,
   "metadata": {
    "ExecuteTime": {
     "end_time": "2018-12-04T08:26:30.245500Z",
     "start_time": "2018-12-04T08:26:30.238681Z"
    }
   },
   "outputs": [
    {
     "data": {
      "text/plain": [
       "'La taille de la liste est 2'"
      ]
     },
     "execution_count": 25,
     "metadata": {},
     "output_type": "execute_result"
    }
   ],
   "source": [
    "f\"La taille de la liste est {redis_client.llen('language_list')}\""
   ]
  },
  {
   "cell_type": "code",
   "execution_count": 20,
   "metadata": {
    "ExecuteTime": {
     "end_time": "2018-12-04T08:26:30.939658Z",
     "start_time": "2018-12-04T08:26:30.931391Z"
    }
   },
   "outputs": [
    {
     "data": {
      "text/plain": [
       "\"L'élément à l'index 2 taille de la liste est 'python'\""
      ]
     },
     "execution_count": 20,
     "metadata": {},
     "output_type": "execute_result"
    }
   ],
   "source": [
    "INDEX = 2\n",
    "f\"L'élément à l'index {INDEX} taille de la liste est '{redis_client.lindex('language_list', INDEX)}'\""
   ]
  },
  {
   "cell_type": "markdown",
   "metadata": {},
   "source": [
    "Le client renvoie la taille de la liste venant d'être mise à jour. On peut afficher tous les éléments de la liste en les retirant un par un."
   ]
  },
  {
   "cell_type": "code",
   "execution_count": 33,
   "metadata": {
    "ExecuteTime": {
     "end_time": "2018-12-04T08:26:32.044205Z",
     "start_time": "2018-12-04T08:26:32.034495Z"
    },
    "scrolled": true
   },
   "outputs": [
    {
     "name": "stdout",
     "output_type": "stream",
     "text": [
      "python\n",
      "java\n",
      "kotlin\n"
     ]
    }
   ],
   "source": [
    "while(redis_client.llen('language_list')!=0):\n",
    "\n",
    "    print(redis_client.lpop('language_list'))"
   ]
  },
  {
   "cell_type": "markdown",
   "metadata": {},
   "source": [
    "## Les dictionnaires "
   ]
  },
  {
   "cell_type": "markdown",
   "metadata": {},
   "source": [
    "Redis permet de stocker assez facilement des dictionnaires, on peut comme cela stocker des structures de données plus complexes. Pour cela nous avons plusieurs méthodes : \n",
    "\n",
    "- La méthode `HMSET` permet d'ajouter un dictionnaire à une clé\n",
    "- La méthode `HSET` permet d'ajouter ou de modifier la valeur d'une clé d'un dictionnaire\n",
    "- La méthode `HGET` permet d'ajouter ou de modifier la valeur d'une clé d'un dictionnaire\n",
    "- La méthode `HGETALL` permet de récupérer toutes les clés valeurs d'un dictionnaire.\n",
    "- La méthode `HKEYS` permet de récupérer toutes les clés d'un dictionnaire\n",
    "- La méthode `HVALS` permet de récupérer toutes les valeurs d'un dictionnaire"
   ]
  },
  {
   "cell_type": "code",
   "execution_count": 34,
   "metadata": {
    "ExecuteTime": {
     "end_time": "2018-12-04T08:26:33.442083Z",
     "start_time": "2018-12-04T08:26:33.438667Z"
    }
   },
   "outputs": [],
   "source": [
    "doc = {\n",
    "    \"name\":\"yourname\",\n",
    "    \"age\":20,\n",
    "    \"city\":\"paris\"\n",
    "}"
   ]
  },
  {
   "cell_type": "code",
   "execution_count": 63,
   "metadata": {},
   "outputs": [
    {
     "data": {
      "text/plain": [
       "dict"
      ]
     },
     "execution_count": 63,
     "metadata": {},
     "output_type": "execute_result"
    }
   ],
   "source": [
    "type(doc)"
   ]
  },
  {
   "cell_type": "code",
   "execution_count": 67,
   "metadata": {
    "ExecuteTime": {
     "end_time": "2018-12-04T08:26:33.878602Z",
     "start_time": "2018-12-04T08:26:33.870214Z"
    }
   },
   "outputs": [
    {
     "name": "stderr",
     "output_type": "stream",
     "text": [
      "/tmp/ipykernel_15/3800190253.py:1: DeprecationWarning: Redis.hmset() is deprecated. Use Redis.hset() instead.\n",
      "  redis_client.hmset(\"user1\", doc)\n"
     ]
    },
    {
     "data": {
      "text/plain": [
       "True"
      ]
     },
     "execution_count": 67,
     "metadata": {},
     "output_type": "execute_result"
    }
   ],
   "source": [
    "redis_client.hmset(\"user1\", doc)"
   ]
  },
  {
   "cell_type": "code",
   "execution_count": 65,
   "metadata": {
    "ExecuteTime": {
     "end_time": "2018-12-04T08:26:34.248995Z",
     "start_time": "2018-12-04T08:26:34.243270Z"
    }
   },
   "outputs": [
    {
     "data": {
      "text/plain": [
       "{'name': 'yourname', 'age': '20', 'city': 'paris'}"
      ]
     },
     "execution_count": 65,
     "metadata": {},
     "output_type": "execute_result"
    }
   ],
   "source": [
    "redis_client.hgetall(\"user1\")"
   ]
  },
  {
   "cell_type": "markdown",
   "metadata": {},
   "source": [
    "On peut modifier uniquement une clé du dictionnaire"
   ]
  },
  {
   "cell_type": "code",
   "execution_count": 37,
   "metadata": {
    "ExecuteTime": {
     "end_time": "2018-12-04T08:26:35.008465Z",
     "start_time": "2018-12-04T08:26:34.999460Z"
    }
   },
   "outputs": [
    {
     "data": {
      "text/plain": [
       "0"
      ]
     },
     "execution_count": 37,
     "metadata": {},
     "output_type": "execute_result"
    }
   ],
   "source": [
    "redis_client.hset(\"user1\", \"city\", \"lyon\")"
   ]
  },
  {
   "cell_type": "code",
   "execution_count": 38,
   "metadata": {
    "ExecuteTime": {
     "end_time": "2018-12-04T08:26:35.361923Z",
     "start_time": "2018-12-04T08:26:35.355242Z"
    }
   },
   "outputs": [
    {
     "data": {
      "text/plain": [
       "{'name': 'yourname', 'age': '20', 'city': 'lyon'}"
      ]
     },
     "execution_count": 38,
     "metadata": {},
     "output_type": "execute_result"
    }
   ],
   "source": [
    "redis_client.hgetall(\"user1\")"
   ]
  },
  {
   "cell_type": "markdown",
   "metadata": {},
   "source": [
    "## Les pipelines"
   ]
  },
  {
   "cell_type": "code",
   "execution_count": 39,
   "metadata": {
    "ExecuteTime": {
     "end_time": "2018-12-04T08:26:36.136976Z",
     "start_time": "2018-12-04T08:26:36.133949Z"
    }
   },
   "outputs": [],
   "source": [
    "import timeit"
   ]
  },
  {
   "cell_type": "markdown",
   "metadata": {},
   "source": [
    "Lorsque l'on appelle une méthode depuis le client python, chaqu'une d'entres elles fait un appel à Redis, ce qui peut prendre du temps. Les pipelines permettent de réduire ce temps en stockant toutes les opérations et en les applicant une seul fois sur la base. Cela permet d'augmenter grandement les performances en réduisant les appels et le passage par le réseau. "
   ]
  },
  {
   "cell_type": "code",
   "execution_count": 40,
   "metadata": {
    "ExecuteTime": {
     "end_time": "2018-12-04T08:26:36.921577Z",
     "start_time": "2018-12-04T08:26:36.918549Z"
    }
   },
   "outputs": [],
   "source": [
    "N = 10000"
   ]
  },
  {
   "cell_type": "code",
   "execution_count": 41,
   "metadata": {
    "ExecuteTime": {
     "end_time": "2018-12-04T08:26:37.269282Z",
     "start_time": "2018-12-04T08:26:37.265317Z"
    }
   },
   "outputs": [],
   "source": [
    "def store_key_values(N):\n",
    "    for i in range(N):\n",
    "        redis_client.set(f\"key_{i}\", f\"value_{i}\")"
   ]
  },
  {
   "cell_type": "code",
   "execution_count": 42,
   "metadata": {
    "ExecuteTime": {
     "end_time": "2018-12-04T08:27:03.663057Z",
     "start_time": "2018-12-04T08:26:37.607869Z"
    }
   },
   "outputs": [
    {
     "name": "stdout",
     "output_type": "stream",
     "text": [
      "1.9 s ± 77.1 ms per loop (mean ± std. dev. of 7 runs, 1 loop each)\n"
     ]
    }
   ],
   "source": [
    "%%timeit\n",
    "store_key_values(N=N)"
   ]
  },
  {
   "cell_type": "code",
   "execution_count": 43,
   "metadata": {
    "ExecuteTime": {
     "end_time": "2018-12-04T08:27:03.680221Z",
     "start_time": "2018-12-04T08:27:03.676471Z"
    }
   },
   "outputs": [],
   "source": [
    "def store_key_values_with_pipelines(N):\n",
    "    p = redis_client.pipeline()\n",
    "    for i in range(N):\n",
    "        p.set(f\"key_{i}\", f\"value_{i}\")"
   ]
  },
  {
   "cell_type": "code",
   "execution_count": 44,
   "metadata": {
    "ExecuteTime": {
     "end_time": "2018-12-04T08:27:14.525408Z",
     "start_time": "2018-12-04T08:27:03.691655Z"
    }
   },
   "outputs": [
    {
     "name": "stdout",
     "output_type": "stream",
     "text": [
      "21.1 ms ± 313 µs per loop (mean ± std. dev. of 7 runs, 10 loops each)\n"
     ]
    }
   ],
   "source": [
    "%%timeit\n",
    "store_key_values_with_pipelines(N=N)"
   ]
  },
  {
   "cell_type": "markdown",
   "metadata": {},
   "source": [
    "On voit alors que l'on peut diviser le temps par 100. Dans vos différents métiers les performances sont souvent très importantes"
   ]
  },
  {
   "cell_type": "markdown",
   "metadata": {},
   "source": [
    "# Exercice"
   ]
  },
  {
   "cell_type": "markdown",
   "metadata": {},
   "source": [
    "Utiliser redis pour gérer les commandes d'un restaurant de burgers, pour simplifier les choses les clients pourront choisir leurs ingrédients dans 3 types de produits :\n",
    "\n",
    "- Pain: blanc, complet, aux céréales\n",
    "- Garniture : salade, tomates , oignons, concombres\n",
    "- Protéines : poulet, boeuf, agneau, tofu\n",
    "\n",
    "Chaque ingrédient équivaut à un prix et un poids, avec chaque commande vous devrez calculer le poids et le prix que les clients devront régler. \n",
    "\n",
    "1) Stocker les informations concernant les ingrédients dans redis   \n",
    "2) Créer la méthode permettant de créer aléatoirement un burger  \n",
    "3) Créer la méthode qui permet d'empiler dans redis les prochaines commandes (Réfléchir au type de données utilisé)  \n",
    "4) Créer la méthode permettant de calculer le poids et le prix du burger  \n",
    "5) Créer une boucle pour dépiler, réaliser et servir les burgers.  \n",
    "\n",
    "Pour vous aider voici quelques données "
   ]
  },
  {
   "cell_type": "code",
   "execution_count": 58,
   "metadata": {
    "ExecuteTime": {
     "end_time": "2018-12-04T08:37:06.762862Z",
     "start_time": "2018-12-04T08:37:06.759434Z"
    }
   },
   "outputs": [],
   "source": [
    "pains = {\n",
    "    \"blanc\":{\n",
    "        \"poid\":100,\n",
    "        \"prix\": 2\n",
    "    },\n",
    "    \"complet\":{\n",
    "        \"poid\":90,\n",
    "        \"prix\": 3\n",
    "    },\n",
    "    \"cereales\":{\n",
    "        \"poid\":120,\n",
    "        \"prix\": 4\n",
    "    }\n",
    "}"
   ]
  },
  {
   "cell_type": "code",
   "execution_count": 50,
   "metadata": {
    "ExecuteTime": {
     "end_time": "2018-12-04T08:37:07.247818Z",
     "start_time": "2018-12-04T08:37:07.244362Z"
    }
   },
   "outputs": [],
   "source": [
    "garniture = {\n",
    "    \"salade\":{\n",
    "        \"poid\":50,\n",
    "        \"prix\": 1\n",
    "    }, \"tomates\":{\n",
    "        \"poid\":60,\n",
    "        \"prix\": 2\n",
    "    } , \"oignons\":{\n",
    "        \"poid\":10,\n",
    "        \"prix\": 1.5\n",
    "    }, \"concombres\":{\n",
    "        \"poid\":30,\n",
    "        \"prix\": 3\n",
    "    }\n",
    "}"
   ]
  },
  {
   "cell_type": "code",
   "execution_count": 51,
   "metadata": {
    "ExecuteTime": {
     "end_time": "2018-12-04T08:37:07.517097Z",
     "start_time": "2018-12-04T08:37:07.512411Z"
    }
   },
   "outputs": [],
   "source": [
    "proteine = {\n",
    "    \"poulet\":{\n",
    "        \"poid\":100,\n",
    "        \"prix\": 6\n",
    "    }, \"boeuf\":{\n",
    "        \"poid\":150,\n",
    "        \"prix\": 5\n",
    "    } , \"agneau\":{\n",
    "        \"poid\":120,\n",
    "        \"prix\": 7\n",
    "    }, \"tofu\":{\n",
    "        \"poid\":80,\n",
    "        \"prix\": 8\n",
    "    }\n",
    "}"
   ]
  },
  {
   "cell_type": "code",
   "execution_count": 74,
   "metadata": {},
   "outputs": [
    {
     "data": {
      "text/plain": [
       "True"
      ]
     },
     "execution_count": 74,
     "metadata": {},
     "output_type": "execute_result"
    }
   ],
   "source": [
    "import json\n",
    "\n",
    "pains_json = json.dumps(pains)\n",
    "redis_client.set(\"pains\", pains_json)\n",
    "\n",
    "garniture_json = json.dumps(garniture)\n",
    "redis_client.set(\"garniture\", garniture_json)\n",
    "\n",
    "proteine_json = json.dumps(proteine)\n",
    "redis_client.set(\"proteine\", proteine_json)"
   ]
  },
  {
   "cell_type": "code",
   "execution_count": 75,
   "metadata": {},
   "outputs": [
    {
     "data": {
      "text/plain": [
       "'{\"blanc\": {\"poid\": 100, \"prix\": 2}, \"complet\": {\"poid\": 90, \"prix\": 3}, \"cereales\": {\"poid\": 120, \"prix\": 4}}'"
      ]
     },
     "execution_count": 75,
     "metadata": {},
     "output_type": "execute_result"
    }
   ],
   "source": [
    "redis_client.get(\"pains\")"
   ]
  },
  {
   "cell_type": "code",
   "execution_count": 234,
   "metadata": {
    "ExecuteTime": {
     "end_time": "2018-12-04T08:39:08.617493Z",
     "start_time": "2018-12-04T08:39:08.609953Z"
    }
   },
   "outputs": [],
   "source": [
    "\n",
    "def make_burger(redis_client):\n",
    "    import random\n",
    "    burger = {}\n",
    "    burger[\"pain\"] = random.choice(list(json.loads(redis_client.get(\"pains\")).keys()))\n",
    "    burger[\"garniture\"] = random.choice(list(json.loads(redis_client.get(\"garniture\")).keys()))\n",
    "    burger[\"proteine\"] = random.choice(list(json.loads(redis_client.get(\"proteine\")).keys())) \n",
    "    \n",
    "    make_order(redis_client,burger)\n",
    "    \n",
    "    return burger\n",
    "\n",
    "def make_order(redis_client, burger):\n",
    "    return redis_client.rpush('commande', json.dumps(burger))\n",
    "\n",
    "def get_next_order(redis_client):\n",
    "    nex = redis_client.lpop('commande')\n",
    "    if nex == None :\n",
    "        return None\n",
    "    \n",
    "    return json.loads(nex)\n",
    "\n",
    "def process_price_weight(redis_client,ingredients):\n",
    "    poid_total = 0\n",
    "    prix_total = 0\n",
    "    \n",
    "    pain = json.loads(redis_client.get(\"pains\"))[ingredients[\"pain\"]]\n",
    "    garniture = json.loads(redis_client.get(\"garniture\"))[ingredients[\"garniture\"]]\n",
    "    proteine = json.loads(redis_client.get(\"proteine\"))[ingredients[\"proteine\"]]\n",
    "    \n",
    "    poid_total+= pain[\"poid\"]\n",
    "    prix_total += pain[\"prix\"]\n",
    "                        \n",
    "    poid_total+= garniture[\"poid\"]\n",
    "    prix_total += garniture[\"prix\"]\n",
    "    \n",
    "    poid_total+= proteine[\"poid\"]\n",
    "    prix_total += proteine[\"prix\"]\n",
    "    \n",
    "    return prix_total,poid_total\n",
    "\n",
    "def process_burger(redis_client,burger):\n",
    "    pw = process_price_weight(redis_client,burger)\n",
    "    return burger, pw[0], pw[1]"
   ]
  },
  {
   "cell_type": "code",
   "execution_count": 255,
   "metadata": {},
   "outputs": [
    {
     "data": {
      "text/plain": [
       "{'pain': 'cereales', 'garniture': 'tomates', 'proteine': 'boeuf'}"
      ]
     },
     "execution_count": 255,
     "metadata": {},
     "output_type": "execute_result"
    }
   ],
   "source": [
    "# Prise de commande\n",
    "make_burger(redis_client)"
   ]
  },
  {
   "cell_type": "code",
   "execution_count": 256,
   "metadata": {
    "ExecuteTime": {
     "end_time": "2018-12-04T08:39:08.817270Z",
     "start_time": "2018-12-04T08:39:08.812786Z"
    }
   },
   "outputs": [
    {
     "name": "stdout",
     "output_type": "stream",
     "text": [
      "Le burger {'pain': 'cereales', 'garniture': 'salade', 'proteine': 'agneau'} de 12 gr à été préparé et servi il faut régler 290€\n",
      "Le burger {'pain': 'cereales', 'garniture': 'oignons', 'proteine': 'poulet'} de 11.5 gr à été préparé et servi il faut régler 230€\n",
      "Le burger {'pain': 'blanc', 'garniture': 'oignons', 'proteine': 'tofu'} de 11.5 gr à été préparé et servi il faut régler 190€\n",
      "Le burger {'pain': 'cereales', 'garniture': 'salade', 'proteine': 'agneau'} de 12 gr à été préparé et servi il faut régler 290€\n",
      "Le burger {'pain': 'complet', 'garniture': 'concombres', 'proteine': 'boeuf'} de 11 gr à été préparé et servi il faut régler 270€\n",
      "Le burger {'pain': 'blanc', 'garniture': 'concombres', 'proteine': 'agneau'} de 12 gr à été préparé et servi il faut régler 250€\n",
      "Le burger {'pain': 'blanc', 'garniture': 'oignons', 'proteine': 'boeuf'} de 8.5 gr à été préparé et servi il faut régler 260€\n",
      "Le burger {'pain': 'complet', 'garniture': 'oignons', 'proteine': 'boeuf'} de 9.5 gr à été préparé et servi il faut régler 250€\n",
      "Le burger {'pain': 'cereales', 'garniture': 'oignons', 'proteine': 'boeuf'} de 10.5 gr à été préparé et servi il faut régler 280€\n",
      "Le burger {'pain': 'complet', 'garniture': 'concombres', 'proteine': 'tofu'} de 14 gr à été préparé et servi il faut régler 200€\n",
      "Le burger {'pain': 'cereales', 'garniture': 'concombres', 'proteine': 'tofu'} de 15 gr à été préparé et servi il faut régler 230€\n",
      "Le burger {'pain': 'cereales', 'garniture': 'oignons', 'proteine': 'tofu'} de 13.5 gr à été préparé et servi il faut régler 210€\n",
      "Le burger {'pain': 'blanc', 'garniture': 'oignons', 'proteine': 'boeuf'} de 8.5 gr à été préparé et servi il faut régler 260€\n",
      "Le burger {'pain': 'cereales', 'garniture': 'tomates', 'proteine': 'agneau'} de 13 gr à été préparé et servi il faut régler 300€\n",
      "Le burger {'pain': 'blanc', 'garniture': 'oignons', 'proteine': 'poulet'} de 9.5 gr à été préparé et servi il faut régler 210€\n",
      "Le burger {'pain': 'cereales', 'garniture': 'tomates', 'proteine': 'boeuf'} de 11 gr à été préparé et servi il faut régler 330€\n",
      "Aucune commande en attente\n"
     ]
    }
   ],
   "source": [
    "burger = get_next_order(redis_client)\n",
    "while burger != None :\n",
    "    burger, weight, price = process_burger(redis_client,burger)\n",
    "    print(f'Le burger {burger} de {weight} gr à été préparé et servi il faut régler {price}€')\n",
    "    burger = get_next_order(redis_client)\n",
    "\n",
    "                            \n",
    "print(\"Aucune commande en attente\")"
   ]
  }
 ],
 "metadata": {
  "kernelspec": {
   "display_name": "Python 3 (ipykernel)",
   "language": "python",
   "name": "python3"
  },
  "language_info": {
   "codemirror_mode": {
    "name": "ipython",
    "version": 3
   },
   "file_extension": ".py",
   "mimetype": "text/x-python",
   "name": "python",
   "nbconvert_exporter": "python",
   "pygments_lexer": "ipython3",
   "version": "3.8.12"
  },
  "varInspector": {
   "cols": {
    "lenName": 16,
    "lenType": 16,
    "lenVar": 40
   },
   "kernels_config": {
    "python": {
     "delete_cmd_postfix": "",
     "delete_cmd_prefix": "del ",
     "library": "var_list.py",
     "varRefreshCmd": "print(var_dic_list())"
    },
    "r": {
     "delete_cmd_postfix": ") ",
     "delete_cmd_prefix": "rm(",
     "library": "var_list.r",
     "varRefreshCmd": "cat(var_dic_list()) "
    }
   },
   "types_to_exclude": [
    "module",
    "function",
    "builtin_function_or_method",
    "instance",
    "_Feature"
   ],
   "window_display": false
  }
 },
 "nbformat": 4,
 "nbformat_minor": 2
}
