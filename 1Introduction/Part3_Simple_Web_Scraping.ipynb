{
 "cells": [
  {
   "cell_type": "markdown",
   "metadata": {},
   "source": [
    "# Introduction"
   ]
  },
  {
   "cell_type": "markdown",
   "metadata": {},
   "source": [
    "Avant de commencer, parcourer le fichier README.rst"
   ]
  },
  {
   "cell_type": "markdown",
   "metadata": {},
   "source": [
    "# Requête HTTP "
   ]
  },
  {
   "cell_type": "markdown",
   "metadata": {},
   "source": [
    "Un requête HTTP est une requête basé sur le protocole TCP, elle fait partie de la couche application de la couche OSI. Elle permet d'accéder aux données mise à disposition sur une adresse IP (ou url résolue par un DNS) et un port. \n",
    "\n",
    "Les deux ports les plus utilisé dans le web sont le 80 pour les sites en HTTP et le 443 pour les sites en HTTPS. HTTPS est une variable du protocole HTTP basé sur le protocole TLS.\n",
    "\n",
    "Il existe de nombreux types de requêtes selon la convention `REST`: \n",
    "- GET\n",
    "- POST\n",
    "- PUT \n",
    "- DELETE\n",
    "- UPDATE.\n",
    "\n",
    "Dans notre cas nous allons utiliser la plupart du temps des GET et potentiellement des POST. \n",
    "- Le GET permet comme sont nom l'indique de récupérer des informations en fonction de certain paramètres. \n",
    "- Le POST nécéssite un envoie de données pour récupérer des données. Le body du post est, la plupart du temps, envoyé sous la forme d'un objet JSON.\n",
    "\n",
    "Ces requêtes encapsulent un certain nombre de paramètres qui permettent soient d'identifier une provenance et un utilisateur ou de réaliser différentes actions."
   ]
  },
  {
   "cell_type": "code",
   "execution_count": 1,
   "metadata": {},
   "outputs": [
    {
     "name": "stderr",
     "output_type": "stream",
     "text": [
      "/root/.local/share/virtualenvs/code-AFz48Hjb/lib/python3.8/site-packages/requests/__init__.py:89: RequestsDependencyWarning: urllib3 (1.26.7) or chardet (3.0.4) doesn't match a supported version!\n",
      "  warnings.warn(\"urllib3 ({}) or chardet ({}) doesn't match a supported \"\n"
     ]
    }
   ],
   "source": [
    "import requests"
   ]
  },
  {
   "cell_type": "code",
   "execution_count": 2,
   "metadata": {},
   "outputs": [
    {
     "data": {
      "text/plain": [
       "200"
      ]
     },
     "execution_count": 2,
     "metadata": {},
     "output_type": "execute_result"
    }
   ],
   "source": [
    "url = \"http://www.esiee.fr/\"\n",
    "response = requests.get(url)\n",
    "response.status_code"
   ]
  },
  {
   "cell_type": "markdown",
   "metadata": {},
   "source": [
    "Il existe deux méthodes pour récupérer le contenu de la page :\n",
    "\n",
    "- `response.text` qui permet de retourner le texte sous la forme d'une chaine de charactères.\n",
    "- `response.content` qui permet de récupérer le contenu de la page sous la forme de bytes"
   ]
  },
  {
   "cell_type": "code",
   "execution_count": 3,
   "metadata": {},
   "outputs": [
    {
     "data": {
      "text/plain": [
       "bytes"
      ]
     },
     "execution_count": 3,
     "metadata": {},
     "output_type": "execute_result"
    }
   ],
   "source": [
    "type(response.content)"
   ]
  },
  {
   "cell_type": "code",
   "execution_count": 4,
   "metadata": {},
   "outputs": [
    {
     "data": {
      "text/plain": [
       "str"
      ]
     },
     "execution_count": 4,
     "metadata": {},
     "output_type": "execute_result"
    }
   ],
   "source": [
    "type(response.text)"
   ]
  },
  {
   "cell_type": "markdown",
   "metadata": {},
   "source": [
    "Pour récupérer les 1000 premiers charactères de la page :"
   ]
  },
  {
   "cell_type": "code",
   "execution_count": 5,
   "metadata": {},
   "outputs": [
    {
     "data": {
      "text/plain": [
       "'<!DOCTYPE html>\\n<!--[if lt IE 7]>      <html class=\"no-js lt-ie9 lt-ie8 lt-ie7\"> <![endif]-->\\n<!--[if IE 7]>         <html class=\"no-js lt-ie9 lt-ie8\"> <![endif]-->\\n<!--[if IE 8]>         <html class=\"no-js lt-ie9\"> <![endif]-->\\n<!--[if IE 9]>         <html class=\"no-js ie9\"> <![endif]-->\\n<!--[if gt IE 9]><!--> <html class=\"no-js\"> <!--<![endif]-->\\n<head profile=\"http://www.w3.org/1999/xhtml/vocab\">\\n\\t<!-- Google Tag Manager -->\\n\\t<script>\\n\\t\\t(function(w,d,s,l,i){\\n\\t\\t\\tw[l]=w[l]||[];w[l].push({\\'gtm.start\\':new Date().getTime(),event:\\'gtm.js\\'});\\n\\t\\t\\tvar f=d.getElementsByTagName(s)[0],\\tj=d.createElement(s),dl=l!=\\'dataLayer\\'?\\'&l=\\'+l:\\'\\';\\n\\t\\t\\tj.async=true;\\n\\t\\t\\tj.src=\\'https://www.googletagmanager.com/gtm.js?id=\\'+i+dl;f.parentNode.insertBefore(j,f);\\n\\t\\t\\t}\\n\\t\\t)\\n\\t\\t(window,document,\\'script\\',\\'dataLayer\\',\\'GTM-MQF5LJB\\');\\n\\t</script>\\n\\t<!-- End Google Tag Manager -->\\n  <meta name=\"google-site-verification\" content=\"JnG7DTdhQuWTeSHlWC63CeWpb3WValiOorksYjoYOWI\" />\\n  <meta http-equiv=\"Content-Type\" content=\"text/ht'"
      ]
     },
     "execution_count": 5,
     "metadata": {},
     "output_type": "execute_result"
    }
   ],
   "source": [
    "response.text[0:1000]"
   ]
  },
  {
   "cell_type": "markdown",
   "metadata": {},
   "source": [
    "Pour récupérer les headers HTTP de la réponse :"
   ]
  },
  {
   "cell_type": "code",
   "execution_count": 11,
   "metadata": {},
   "outputs": [
    {
     "ename": "KeyError",
     "evalue": "'user-agent'",
     "output_type": "error",
     "traceback": [
      "\u001b[0;31m---------------------------------------------------------------------------\u001b[0m",
      "\u001b[0;31mKeyError\u001b[0m                                  Traceback (most recent call last)",
      "\u001b[0;32m/tmp/ipykernel_45/3363008413.py\u001b[0m in \u001b[0;36m<module>\u001b[0;34m\u001b[0m\n\u001b[0;32m----> 1\u001b[0;31m \u001b[0mresponse\u001b[0m\u001b[0;34m.\u001b[0m\u001b[0mheaders\u001b[0m\u001b[0;34m[\u001b[0m\u001b[0;34m\"User-Agent\"\u001b[0m\u001b[0;34m]\u001b[0m\u001b[0;34m\u001b[0m\u001b[0;34m\u001b[0m\u001b[0m\n\u001b[0m",
      "\u001b[0;32m~/.local/share/virtualenvs/code-AFz48Hjb/lib/python3.8/site-packages/requests/structures.py\u001b[0m in \u001b[0;36m__getitem__\u001b[0;34m(self, key)\u001b[0m\n\u001b[1;32m     52\u001b[0m \u001b[0;34m\u001b[0m\u001b[0m\n\u001b[1;32m     53\u001b[0m     \u001b[0;32mdef\u001b[0m \u001b[0m__getitem__\u001b[0m\u001b[0;34m(\u001b[0m\u001b[0mself\u001b[0m\u001b[0;34m,\u001b[0m \u001b[0mkey\u001b[0m\u001b[0;34m)\u001b[0m\u001b[0;34m:\u001b[0m\u001b[0;34m\u001b[0m\u001b[0;34m\u001b[0m\u001b[0m\n\u001b[0;32m---> 54\u001b[0;31m         \u001b[0;32mreturn\u001b[0m \u001b[0mself\u001b[0m\u001b[0;34m.\u001b[0m\u001b[0m_store\u001b[0m\u001b[0;34m[\u001b[0m\u001b[0mkey\u001b[0m\u001b[0;34m.\u001b[0m\u001b[0mlower\u001b[0m\u001b[0;34m(\u001b[0m\u001b[0;34m)\u001b[0m\u001b[0;34m]\u001b[0m\u001b[0;34m[\u001b[0m\u001b[0;36m1\u001b[0m\u001b[0;34m]\u001b[0m\u001b[0;34m\u001b[0m\u001b[0;34m\u001b[0m\u001b[0m\n\u001b[0m\u001b[1;32m     55\u001b[0m \u001b[0;34m\u001b[0m\u001b[0m\n\u001b[1;32m     56\u001b[0m     \u001b[0;32mdef\u001b[0m \u001b[0m__delitem__\u001b[0m\u001b[0;34m(\u001b[0m\u001b[0mself\u001b[0m\u001b[0;34m,\u001b[0m \u001b[0mkey\u001b[0m\u001b[0;34m)\u001b[0m\u001b[0;34m:\u001b[0m\u001b[0;34m\u001b[0m\u001b[0;34m\u001b[0m\u001b[0m\n",
      "\u001b[0;31mKeyError\u001b[0m: 'user-agent'"
     ]
    }
   ],
   "source": [
    "response.headers[\"User-Agent\"]"
   ]
  },
  {
   "cell_type": "markdown",
   "metadata": {},
   "source": [
    "On peut modifier les paramêtres de la requête et/ou ses headers. On peut par exemple ajouter un UserAgent et un timeout de 10 secondes:"
   ]
  },
  {
   "cell_type": "code",
   "execution_count": 7,
   "metadata": {},
   "outputs": [
    {
     "data": {
      "text/plain": [
       "b'<!DOCTYPE html>\\n<!--[if lt IE 7]>      <html class=\"no-js lt-ie9 lt-ie8 lt-ie7\"> <![endif]-->\\n<!--[if IE 7]>         <html class=\"no-js lt-ie9 lt-ie8\"> <![endif]-->\\n<!--[if IE 8]>         <html class=\"no-js lt-ie9\"> <![endif]-->\\n<!--[if IE 9]>         <html class=\"no-js ie9\"> <![endif]-->\\n<!--[if gt IE 9]><!--> <html class=\"no-js\"> <!--<![endif]-->\\n<head profile=\"http://www.w3.org/1999/xhtml/vocab\">\\n\\t<!-- Google Tag Manager -->\\n\\t<script>\\n\\t\\t(function(w,d,s,l,i){\\n\\t\\t\\tw[l]=w[l]||[];w[l].push({\\'gtm.start\\':new Date().getTime(),event:\\'gtm.js\\'});\\n\\t\\t\\tvar f=d.getElementsByTagName(s)[0],\\tj=d.createElement(s),dl=l!=\\'dataLayer\\'?\\'&l=\\'+l:\\'\\';\\n\\t\\t\\tj.async=true;\\n\\t\\t\\tj.src=\\'https://www.googletagmanager.com/gtm.js?id=\\'+i+dl;f.parentNode.insertBefore(j,f);\\n\\t\\t\\t}\\n\\t\\t)\\n\\t\\t(window,document,\\'script\\',\\'dataLayer\\',\\'GTM-MQF5LJB\\');\\n\\t</script>\\n\\t<!-- End Google Tag Manager -->\\n  <meta name=\"google-site-verification\" content=\"JnG7DTdhQuWTeSHlWC63CeWpb3WValiOorksYjoYOWI\" />\\n  <meta http-equiv=\"Content-Type\" content=\"text/ht'"
      ]
     },
     "execution_count": 7,
     "metadata": {},
     "output_type": "execute_result"
    }
   ],
   "source": [
    "headers = {'User-Agent': 'Mozilla/5.0 (Macintosh; Intel Mac OS X 10_10_1) AppleWebKit/537.36 (KHTML, like Gecko) Chrome/39.0.2171.95 Safari/537.36'}\n",
    "response = requests.get(url, headers=headers, timeout = 10)\n",
    "response.content[0:1000]"
   ]
  },
  {
   "cell_type": "markdown",
   "metadata": {},
   "source": [
    "## Exercice"
   ]
  },
  {
   "cell_type": "markdown",
   "metadata": {},
   "source": [
    "## Exercice 1\n",
    "\n",
    "- Créer une classe Python permettant de faire des requêtes HTTP.\n",
    "- Cette classe doit utiliser toujours le même UserAgent.\n",
    "- Le TimeOut sera spécifié à chaque appelle avec une valeur par défaut.\n",
    "- Un mécanisme de retry sera mis en place de façon recursive.\n",
    "\n",
    "## Exercice 2\n",
    "\n",
    "- Faire une fonction permettant de supprimer tous les espaces supperflus d'une string (???)\n",
    "- Faire une fonction qui prend une string html et renvois une string intelligible (enlever les caractères spéciaux,)(???)\n",
    "- Récupérer le domaine en fonction d'un url"
   ]
  },
  {
   "cell_type": "code",
   "execution_count": 22,
   "metadata": {},
   "outputs": [],
   "source": [
    "#### Exercice 1\n",
    "class requestClass : \n",
    "    def __init__(self):\n",
    "        self.user_agent = \"Mozilla/5.0 (Windows NT 10.0; Win64; x64; rv:94.0) Gecko/20100101 Firefox/94.0\"\n",
    "    \n",
    "    def request(self,url,timeout=10):\n",
    "        import requests\n",
    "        headers = {'User-Agent': self.user_agent}\n",
    "        response = requests.get(url, headers=headers, timeout = timeout)\n",
    "        while response.status_code != 200 : \n",
    "            response = requests.get(url, headers=headers, timeout = timeout)\n",
    "        return response\n",
    "        "
   ]
  },
  {
   "cell_type": "code",
   "execution_count": 23,
   "metadata": {},
   "outputs": [
    {
     "data": {
      "text/plain": [
       "<Response [200]>"
      ]
     },
     "execution_count": 23,
     "metadata": {},
     "output_type": "execute_result"
    }
   ],
   "source": [
    "test = requestClass()\n",
    "test.request(url)"
   ]
  },
  {
   "cell_type": "code",
   "execution_count": 35,
   "metadata": {},
   "outputs": [
    {
     "data": {
      "text/plain": [
       "'www.esiee.fr'"
      ]
     },
     "execution_count": 35,
     "metadata": {},
     "output_type": "execute_result"
    }
   ],
   "source": [
    "## Exercice 2\n",
    "def getDomain(url):\n",
    "    index_dash = [index  for index,char in enumerate(url) if char == \"/\"]\n",
    "    if len(index_dash) > 2 : \n",
    "        # On retrouve un autre slash que ceux dans http:// \n",
    "        # le nom de domaine est donc compris entre le deuxième et troisième \"/\"\n",
    "        return url[index_dash[1]+1:index_dash[2]]\n",
    "    else : \n",
    "        # Il n'y a que les deux \"/\" de http://\n",
    "        # Le nom de domaine est donc tous les caractères suivant le second \"/\"\n",
    "        return url[index_dash[1]+1:]\n",
    "\n",
    "getDomain(url)"
   ]
  },
  {
   "cell_type": "markdown",
   "metadata": {},
   "source": [
    "# Exploitation du HTML  "
   ]
  },
  {
   "cell_type": "markdown",
   "metadata": {},
   "source": [
    "Ici, il faut récupérer le code HTML d'un site web à partir d'une requête. Lorsque vous avez récupéré le texte d'un site il faut le parser. Pour cela, on utilise BeautifulSoup qui permet de transformer la structure HTML en objet Python. Cela permet de récupérer efficacement les données qui nous intéresse.\n",
    "\n",
    "Pour les webmasters, le blocage le plus souvent mis en place et un blocage sur le User-Agent. Le User-Agent est un paramètre intégré dans la requête HTTP réalisé par le Navigateur pour envoyer au front des informations basiques :\n",
    "\n",
    "- la version du Navigateur,\n",
    "- la version de l'OS\n",
    "- Le type de gestionnaire graphique (Gecko)\n",
    "- le type de device utilisé"
   ]
  },
  {
   "cell_type": "markdown",
   "metadata": {},
   "source": [
    "Exemple de User Agent :  \n",
    "\n",
    "`Mozilla/5.0 (Windows NT 6.1; Win64; x64; rv:47.0) Gecko/20100101 Firefox/47.0`"
   ]
  },
  {
   "cell_type": "markdown",
   "metadata": {},
   "source": [
    "Commençons à utiliser `BeautifulSoup`, pour l'installer : "
   ]
  },
  {
   "cell_type": "code",
   "execution_count": 36,
   "metadata": {},
   "outputs": [
    {
     "name": "stdout",
     "output_type": "stream",
     "text": [
      "Collecting bs4\n",
      "  Downloading bs4-0.0.1.tar.gz (1.1 kB)\n",
      "  Preparing metadata (setup.py) ... \u001b[?25ldone\n",
      "\u001b[?25hRequirement already satisfied: beautifulsoup4 in /root/.local/share/virtualenvs/code-AFz48Hjb/lib/python3.8/site-packages (from bs4) (4.9.3)\n",
      "Requirement already satisfied: soupsieve>1.2 in /root/.local/share/virtualenvs/code-AFz48Hjb/lib/python3.8/site-packages (from beautifulsoup4->bs4) (2.0.1)\n",
      "Building wheels for collected packages: bs4\n",
      "  Building wheel for bs4 (setup.py) ... \u001b[?25ldone\n",
      "\u001b[?25h  Created wheel for bs4: filename=bs4-0.0.1-py3-none-any.whl size=1271 sha256=2afdf26e3cc264e28f4ac49e26f19e246860d2d31bdd4e69383b273d20fd1900\n",
      "  Stored in directory: /root/.cache/pip/wheels/75/78/21/68b124549c9bdc94f822c02fb9aa3578a669843f9767776bca\n",
      "Successfully built bs4\n",
      "Installing collected packages: bs4\n",
      "Successfully installed bs4-0.0.1\n",
      "Requirement already satisfied: lxml in /root/.local/share/virtualenvs/code-AFz48Hjb/lib/python3.8/site-packages (4.6.4)\n"
     ]
    }
   ],
   "source": [
    "!pip install bs4\n",
    "!pip install  lxml"
   ]
  },
  {
   "cell_type": "code",
   "execution_count": 37,
   "metadata": {},
   "outputs": [],
   "source": [
    "import requests\n",
    "from bs4 import BeautifulSoup"
   ]
  },
  {
   "cell_type": "markdown",
   "metadata": {},
   "source": [
    "Pour transformer une requête (requests) en objet BeautifulSoup :"
   ]
  },
  {
   "cell_type": "code",
   "execution_count": 38,
   "metadata": {},
   "outputs": [],
   "source": [
    "response = requests.get(url)\n",
    "soup = BeautifulSoup(response.text)"
   ]
  },
  {
   "cell_type": "markdown",
   "metadata": {},
   "source": [
    "Il se peut qu'un message d'erreur arrive à ce point là si vous n'avez pas la librarie `lxml` installée, pour se faire vous avez juste à lancer la commande suivante : "
   ]
  },
  {
   "cell_type": "code",
   "execution_count": 39,
   "metadata": {},
   "outputs": [
    {
     "name": "stdout",
     "output_type": "stream",
     "text": [
      "Requirement already satisfied: lxml in /root/.local/share/virtualenvs/code-AFz48Hjb/lib/python3.8/site-packages (4.6.4)\r\n"
     ]
    }
   ],
   "source": [
    "!pip install lxml"
   ]
  },
  {
   "cell_type": "markdown",
   "metadata": {},
   "source": [
    "Pour trouver tous les liens d'une page on récupère la balise `a` qui permet de gérer les liens en HTML  :"
   ]
  },
  {
   "cell_type": "code",
   "execution_count": 42,
   "metadata": {},
   "outputs": [
    {
     "data": {
      "text/plain": [
       "[<a href=\"#\">\n",
       " <i class=\"icon-parametres\"></i>\n",
       " </a>,\n",
       " <a href=\"https://gmail.com\" target=\"_blank\" title=\"Webmail ESIEE Paris\"><i><img alt=\"\" src=\"https://www.esiee.fr/sites/default/files/menu_icons/menu_icon_950.png\"/> </i><span>Webmail ESIEE Paris</span></a>,\n",
       " <a href=\"https://planif.esiee.fr/direct/\" target=\"_blank\" title=\"Emploi du temps général\"><i><img alt=\"\" src=\"https://www.esiee.fr/sites/default/files/menu_icons/menu_icon_1331.png\"/> </i><span>Emploi du temps général</span></a>,\n",
       " <a href=\"https://planif.esiee.fr/jsp/custom/esiee/easyMyPlanning.jsp\" target=\"_blank\" title=\"Emploi du temps individuel\"><i><img alt=\"\" src=\"https://www.esiee.fr/sites/default/files/menu_icons/menu_icon_1332.png\"/> </i><span>Emploi du temps individuel</span></a>,\n",
       " <a href=\"https://intra.esiee.fr\" target=\"_blank\" title=\"Extranet\"><i><img alt=\"\" src=\"https://www.esiee.fr/sites/default/files/menu_icons/menu_icon_951.png\"/> </i><span>Extranet</span></a>,\n",
       " <a href=\"https://blackboard.esiee.fr\" target=\"_blank\" title=\"iCampus Blackboard\"><i><img alt=\"\" src=\"https://www.esiee.fr/sites/default/files/menu_icons/menu_icon_1311.png\"/> </i><span>iCampus Blackboard</span></a>,\n",
       " <a href=\"http://e5.onthehub.com/WebStore/Welcome.aspx?vsro=8&amp;ws=45AD823E-799B-E011-969D-0030487D8897&amp;JSEnabled=1\" target=\"_blank\" title=\"Microsoft DreamSpark\"><i><img alt=\"\" src=\"https://www.esiee.fr/sites/default/files/menu_icons/menu_icon_1696.png\"/> </i><span>Microsoft DreamSpark</span></a>,\n",
       " <a href=\"/en\">\n",
       " <i>\n",
       " <img alt=\"English\" src=\"/sites/all/themes/custom/esiee_theme/assets/images/flag-en.png\"/>\n",
       " </i>\n",
       " </a>,\n",
       " <a href=\"https://www.facebook.com/esieeparis\" target=\"_blank\">\n",
       " <i class=\"fa fa-facebook\"></i>\n",
       " </a>,\n",
       " <a href=\"https://twitter.com/ESIEEPARIS\" target=\"_blank\">\n",
       " <i class=\"fa fa-twitter\"></i>\n",
       " </a>]"
      ]
     },
     "execution_count": 42,
     "metadata": {},
     "output_type": "execute_result"
    }
   ],
   "source": [
    "soup.find_all(\"a\")[0:10]"
   ]
  },
  {
   "cell_type": "markdown",
   "metadata": {},
   "source": [
    "On peut préciser la classe HTML voulue  pour l'ensemble des `a`:\n",
    "\n",
    "```python\n",
    "soup.find_all(class_=\"<CLASS_NAME>\")[0:10]\n",
    "```\n",
    "\n",
    "Ici par exemple: "
   ]
  },
  {
   "cell_type": "code",
   "execution_count": 20,
   "metadata": {},
   "outputs": [
    {
     "data": {
      "text/plain": [
       "[<div class=\"slide slide-content\">\n",
       " <span class=\"slide-content-date inline-block\"><span class=\"date-display-single\">19.11.2019</span></span>\n",
       " <span class=\"slide-content-theme inline-block is-uppercase\">Evènements</span>\n",
       " <div class=\"clearfix\"></div>\n",
       " <div class=\"slide-content-img pull-left\"><!-- scald=2387:news_thumbnail --><img alt=\"Vignette Webserie Episode 1\" height=\"90\" src=\"https://www.esiee.fr/sites/default/files/styles/news/public/thumbnails/image/vignette-episode-1.jpg.png?itok=zxvSPpas\" title=\"Vignette Webserie Episode 1\" width=\"120\"/><!-- END scald=2387 --></div>\n",
       " <span class=\"slide-content-title\"><a class=\"is-uppercase\" href=\"/fr/actualite/webserie-yann-lecun-prix-turing\">Lancement de la webserie Yann LeCun Prix Turing et ESIEE Paris</a></span>\n",
       " <div class=\"clearfix\"></div>\n",
       " <p class=\"slide-content-desc\">Découvrez la nouvelle Webserie sur l'histoire commune entre Yann LeCun, lauréat du Prix Turing, et ESIEE Paris.</p> </div>,\n",
       " <div class=\"slide slide-content\">\n",
       " <span class=\"slide-content-date inline-block\"><span class=\"date-display-single\">21.10.2019</span></span>\n",
       " <span class=\"slide-content-theme inline-block is-uppercase\">Salons</span>\n",
       " <div class=\"clearfix\"></div>\n",
       " <div class=\"slide-content-img pull-left\"><!-- scald=2280:news_thumbnail --><img alt=\"Salons\" height=\"90\" src=\"https://www.esiee.fr/sites/default/files/styles/news/public/thumbnails/image/generique-salons.png?itok=2Y0RvWr2\" title=\"Salons\" width=\"120\"/><!-- END scald=2280 --></div>\n",
       " <span class=\"slide-content-title\"><a class=\"is-uppercase\" href=\"/fr/actualite/salons-etudiants-novembre-2019\">Salons étudiants | Rendez-vous avec ESIEE Paris en Novembre !</a></span>\n",
       " <div class=\"clearfix\"></div>\n",
       " <p class=\"slide-content-desc\">Vous recherchez une formation d'ingénieur ? Découvrez les filières ESIEE Paris.</p> </div>,\n",
       " <div class=\"slide slide-content\">\n",
       " <span class=\"slide-content-date inline-block\"><span class=\"date-display-single\">20.09.2019</span></span>\n",
       " <span class=\"slide-content-theme inline-block is-uppercase\">Journée portes ouvertes</span>\n",
       " <div class=\"clearfix\"></div>\n",
       " <div class=\"slide-content-img pull-left\"><!-- scald=2282:news_thumbnail --><img alt=\"JPO ESIEE Paris\" height=\"90\" src=\"https://www.esiee.fr/sites/default/files/styles/news/public/thumbnails/image/generique-jpo.jpg?itok=Y_OmDg80\" title=\"JPO ESIEE Paris\" width=\"120\"/><!-- END scald=2282 --></div>\n",
       " <span class=\"slide-content-title\"><a class=\"is-uppercase\" href=\"/fr/actualite/portes-ouvertes-14-decembre-2019\">14 décembre 2019 | Journée Portes Ouvertes</a></span>\n",
       " <div class=\"clearfix\"></div>\n",
       " <p class=\"slide-content-desc\">Bien choisir son école, c'est aussi la rencontrer ! Rendez-vous le 14 décembre 2019 (13 h à 18 h) à ESIEE Paris.</p> </div>,\n",
       " <div class=\"slide slide-content\">\n",
       " <span class=\"slide-content-date inline-block\"><span class=\"date-display-single\">21.11.2019</span></span>\n",
       " <span class=\"slide-content-theme inline-block is-uppercase\">Conférences</span>\n",
       " <div class=\"clearfix\"></div>\n",
       " <div class=\"slide-content-img pull-left\"><!-- scald=2390:news_thumbnail --><img alt=\"Conférence de clôture de la chaire Blaise Pascal\" height=\"90\" src=\"https://www.esiee.fr/sites/default/files/styles/news/public/thumbnails/image/illustration-conference-professeur-cui-2019_0.png?itok=k1zH48d0\" title=\"Conférence de clôture de la chaire Blaise Pascal\" width=\"120\"/><!-- END scald=2390 --></div>\n",
       " <span class=\"slide-content-title\"><a class=\"is-uppercase\" href=\"/fr/actualite/recherche-professeur-cui-conference-2019\">Chaire Blaise Pascal - Conférence de clôture du Professeur CUI, Professeur invité</a></span>\n",
       " <div class=\"clearfix\"></div>\n",
       " <p class=\"slide-content-desc\">Le Professeur Tianhong CUI, Professeur en ingénierie mécanique de renommée mondiale effectuera sa dernière conférence dans le cadre de la chaire Blaise Pascal.</p> </div>,\n",
       " <div class=\"slide slide-content\">\n",
       " <span class=\"slide-content-date inline-block\"><span class=\"date-display-single\">12.09.2019</span></span>\n",
       " <span class=\"slide-content-theme inline-block is-uppercase\">Evènements</span>\n",
       " <div class=\"clearfix\"></div>\n",
       " <div class=\"slide-content-img pull-left\"><!-- scald=2253:news_thumbnail --><img alt=\"FUTURE Days 2019\" height=\"90\" src=\"https://www.esiee.fr/sites/default/files/styles/news/public/thumbnails/image/illustration-futuredays2019-v3.jpg?itok=GUrdDpt6\" title=\"FUTURE Days 2019\" width=\"120\"/><!-- END scald=2253 --></div>\n",
       " <span class=\"slide-content-title\"><a class=\"is-uppercase\" href=\"/fr/actualite/futuredays-2019\">Participez aux FUTURE Days 2019, l’évènement du grand Paris sur les villes de demain</a></span>\n",
       " <div class=\"clearfix\"></div>\n",
       " <p class=\"slide-content-desc\">FUTURES Days \"Héritages et anticipations urbaines\" | Les 27 et 28 novembre 2019</p> </div>]"
      ]
     },
     "execution_count": 20,
     "metadata": {},
     "output_type": "execute_result"
    }
   ],
   "source": [
    "soup.find_all(class_=\"slide\")[0:5]"
   ]
  },
  {
   "cell_type": "markdown",
   "metadata": {},
   "source": [
    "Pour récupérer le text sans les balises HTML :"
   ]
  },
  {
   "cell_type": "code",
   "execution_count": 21,
   "metadata": {},
   "outputs": [
    {
     "data": {
      "text/plain": [
       "\"\\n\\n\\n\\n\\n  \\n\\n\\n\\n\\n\\n\\nESIEE Paris, l’école de l’innovation technologique | Grande école d’ingénieurs | ESIEE Paris\\n\\n\\n\\n\\n\\n\\n\\n\\n\\n\\n\\n\\n \\n\\n\\n\\n\\n\\n\\n\\n\\n\\n\\n\\nLes outils ESIEE Paris Webmail ESIEE Paris Emploi du temps général Emploi du temps individuel Extranet iCampus Microsoft DreamSpark \\n\\n\\n\\n\\n\\n\\n\\n\\n\\n\\n\\n\\n\\n\\n\\n\\n\\n\\n\\n\\n\\n\\n\\n\\n\\n\\n\\n\\n\\n\\n\\n\\n\\n\\n\\n\\n\\n\\n\\n\\n\\n\\n\\n\\n\\n\\n menu\\nFormations\\n\\n\\nRETOUR menu\\nFormations ESIEE ParisIngénieur\\n\\n\\nIngénieur\\nRETOUR Formations\\nIngénieur ESIEE ParisPremier cycleLe cycle ingénieur\\n\\n\\nLe cycle ingénieur\\nRETOUR Ingénieur\\nLe cycle ingénieur ESIEE ParisEnseignements de 1ère annéeEnseignements de 2e et 3e annéeProfils métiersFilières\\n\\n\\nFilières\\nRETOUR Ingénieur\\n8 filières, 1 diplômeInformatiqueCybersécurité des Systèmes d'informationDatascience et intelligence artificielleSystèmes embarquésSystèmes électroniques intelligentsGénie industrielBiotechnologies et e-santéEnergieEmplois et salairesFrais de scolarité ingénieur et aides financièresStagesAdmissionsContactIngénieur par apprentissage\\n\\n\\nIngénieur par apprentissage\\nR\""
      ]
     },
     "execution_count": 21,
     "metadata": {},
     "output_type": "execute_result"
    }
   ],
   "source": [
    "soup.text[0:1000]"
   ]
  },
  {
   "cell_type": "markdown",
   "metadata": {},
   "source": [
    "## Exercice\n",
    "### Exercice 3\n",
    "\n",
    "Améliorer la classe développé précédemment.\n",
    "\n",
    "- Ajouter une méthode pour récupérer l'objet soup d'un url\n",
    "- Récupérer une liste de User Agent et effectuer une rotation aléatoire sur celui à utiliser\n",
    "- Utiliser cette classe pour parser une page HTML et récupérer : le titre, tous les H1 (si ils existent), les liens vers les images, les liens sortants vers d'autres sites, et le texte principal.\n",
    "\n",
    "Parsing d'un sitemaps pour récupérer une listes de liens avec les informations disponibles. -> Stocker dans un dictionnaire et dans un fichier JSON local."
   ]
  },
  {
   "cell_type": "code",
   "execution_count": 110,
   "metadata": {},
   "outputs": [],
   "source": [
    "#### Exercice 3\n",
    "class requestClass : \n",
    "    user_agent = \"Mozilla/5.0 (Windows NT 10.0; Win64; x64; rv:94.0) Gecko/20100101 Firefox/94.0\"\n",
    "    def __init__(self):\n",
    "        self.response= None\n",
    "        self.soup = None\n",
    "    \n",
    "    def request(self,url,timeout=10):\n",
    "        import requests\n",
    "        headers = {'User-Agent': requestClass.user_agent}\n",
    "        response = requests.get(url, headers=headers, timeout = timeout)\n",
    "        while response.status_code != 200 : \n",
    "            response = requests.get(url, headers=headers, timeout = timeout)\n",
    "            \n",
    "        self.response = response\n",
    "        return self.response\n",
    "    \n",
    "    def get_soup(self,url=None):\n",
    "        if self.response != None :\n",
    "            # Si on a déjà télécharger la page \n",
    "            # on se sert de la sauvegarde pour  éviter de réaliser une seconde requête\n",
    "            self.soup = BeautifulSoup(self.response.text)\n",
    "            return self.soup\n",
    "        # Sinon on doit faire la requête associée\n",
    "        self.request(url)\n",
    "        self.soup = BeautifulSoup(self.response.text)\n",
    "        return self.soup\n",
    "    \n",
    "    def get_title(self,url=None):\n",
    "        if self.soup == None :\n",
    "            # Si on a déjà télécharger la page \n",
    "            # on se sert de la sauvegarde pour  éviter de réaliser une seconde requête\n",
    "            self.get_soup(url)\n",
    "        return self.soup.title.string\n",
    "    \n",
    "    def get_h1(self,url=None):\n",
    "        if self.soup == None :\n",
    "            # Si on a déjà télécharger la page \n",
    "            # on se sert de la sauvegarde pour  éviter de réaliser une seconde requête\n",
    "            self.get_soup(url)\n",
    "        return self.soup.find_all(\"h1\")\n",
    "   \n",
    "    def get_img(self,url=None):\n",
    "        if self.soup == None :\n",
    "            # Si on a déjà télécharger la page \n",
    "            # on se sert de la sauvegarde pour  éviter de réaliser une seconde requête\n",
    "            self.get_soup(url)\n",
    "        images = self.soup.find_all(\"img\")\n",
    "        img_links = []\n",
    "        for image in images:\n",
    "            img_links.append(image.get(\"src\"))\n",
    "        return img_links\n",
    "    \n",
    "    def get_links(self,url=None):\n",
    "        if self.soup == None :\n",
    "            # Si on a déjà télécharger la page \n",
    "            # on se sert de la sauvegarde pour  éviter de réaliser une seconde requête\n",
    "            self.get_soup(url)\n",
    "        a_list = self.soup.find_all(\"a\")\n",
    "        links = []\n",
    "        for a in a_list:\n",
    "            links.append(a.get(\"href\"))\n",
    "        return links\n",
    "    \n",
    "    def get_p(self,url=None):\n",
    "        if self.soup == None :\n",
    "            # Si on a déjà télécharger la page \n",
    "            # on se sert de la sauvegarde pour  éviter de réaliser une seconde requête\n",
    "            self.get_soup(url)\n",
    "        p_list = self.soup.find_all(\"p\")\n",
    "        p_content = []\n",
    "        for p in p_list:\n",
    "            p_content.append(p.string)\n",
    "        return p_content"
   ]
  },
  {
   "cell_type": "code",
   "execution_count": 111,
   "metadata": {},
   "outputs": [],
   "source": [
    "test = requestClass()"
   ]
  },
  {
   "cell_type": "code",
   "execution_count": 113,
   "metadata": {},
   "outputs": [
    {
     "name": "stdout",
     "output_type": "stream",
     "text": [
      "ESIEE Paris, l’école de l’innovation technologique | Grande école d’ingénieurs | ESIEE Paris\n",
      "[]\n",
      "['https://www.esiee.fr/sites/default/files/menu_icons/menu_icon_950.png', 'https://www.esiee.fr/sites/default/files/menu_icons/menu_icon_1331.png', 'https://www.esiee.fr/sites/default/files/menu_icons/menu_icon_1332.png', 'https://www.esiee.fr/sites/default/files/menu_icons/menu_icon_951.png', 'https://www.esiee.fr/sites/default/files/menu_icons/menu_icon_1311.png', 'https://www.esiee.fr/sites/default/files/menu_icons/menu_icon_1696.png', '/sites/all/themes/custom/esiee_theme/assets/images/flag-en.png', '/sites/all/themes/custom/esiee_theme/assets/images/icon-socialnetworks.png', 'https://www.esiee.fr/sites/all/themes/custom/esiee_theme/logo.png', 'https://www.esiee.fr/sites/default/files/thumbnails/image/home-bandeau-1a.png', 'https://www.esiee.fr/sites/default/files/thumbnails/image/home-bandeau-2a.png', 'https://www.esiee.fr/sites/default/files/thumbnails/image/home-bandeau-3a.png', 'https://www.esiee.fr/sites/default/files/thumbnails/image/home-bandeau-4a.png', 'https://www.esiee.fr/sites/default/files/thumbnails/image/home-bandeau-1a.png', 'https://www.esiee.fr/sites/default/files/thumbnails/image/home-bandeau-2a.png', 'https://www.esiee.fr/sites/default/files/thumbnails/image/home-bandeau-3a.png', 'https://www.esiee.fr/sites/default/files/thumbnails/image/home-bandeau-4a.png', 'https://www.esiee.fr/sites/default/files/styles/news/public/etudiant-polo-esiee.jpg?itok=fBQzvquu', 'https://www.esiee.fr/sites/default/files/styles/news/public/thumbnails/image/forum-recrutement-esiee-paris-2_1.png?itok=Ervvwze3', 'https://www.esiee.fr/sites/default/files/styles/news/public/thumbnails/image/visuel-jpo-920x600-2021-2022.jpg?itok=v1MJJ0lo', 'https://www.esiee.fr/sites/default/files/styles/news/public/thumbnails/image/visuel-yann-lecun-920x600.png?itok=Bcy29sz6', 'https://www.esiee.fr/sites/default/files/styles/news/public/thumbnails/image/visuel-soutenances-ouap-2021.png?itok=X-RGW-9k', 'https://www.esiee.fr/sites/default/files/styles/news/public/thumbnails/image/visuel-drone-abeilles.jpg?itok=6kTiENXh', 'https://www.esiee.fr/sites/default/files/styles/news/public/thumbnails/image/visuel-trophees-itruong.jpg?itok=xqGlyP_-', 'https://www.esiee.fr/sites/default/files/styles/news/public/thumbnails/image/laurent-najman-paris-leader-club.jpg?itok=PvEKflcm', 'https://www.esiee.fr/sites/default/files/styles/news/public/thumbnails/image/illustration-journee-tremplin.jpg?itok=tuXApW2g', 'https://www.esiee.fr/sites/default/files/styles/news/public/thumbnails/image/visuel-actu-covid-920x600.jpg?itok=J3_QICv7', 'https://www.esiee.fr/sites/default/files/styles/news/public/thumbnails/image/visuel-classementhas-2021.jpg?itok=fgcS4Fk7', 'https://www.esiee.fr/sites/default/files/styles/news/public/thumbnails/image/machine-robotisee-pizza.jpg?itok=5gcXhoPx', 'https://www.esiee.fr/sites/default/files/styles/news/public/thumbnails/image/visuel-label-bienvenue-en-france-web-920x600.jpg?itok=Oyilc1p5', 'https://www.esiee.fr/sites/default/files/styles/news/public/thumbnails/image/logo-letudiant-210x140.png?itok=IKsC8eaB', 'https://www.esiee.fr/sites/default/files/styles/news/public/thumbnails/image/visuel-classement-cwur.jpg?itok=44OCvSxX', 'https://www.esiee.fr/sites/default/files/styles/news/public/thumbnails/image/cfizkes-adobestock_384578757-web-920x600.jpg?itok=xa1U-8Rj', 'https://www.esiee.fr/sites/default/files/styles/news/public/thumbnails/image/parrainage-renault.jpg?itok=d9o-s_mR', 'https://www.esiee.fr/sites/default/files/thumbnails/image/entree-classements-319x121.jpg', 'https://www.esiee.fr/sites/default/files/thumbnails/image/entree-formation-continue-319x121.jpg', 'https://www.esiee.fr/sites/default/files/styles/promotion_desktop/public/thumbnails/image/w1-banniere-jpo-2021-2022.jpg?itok=yTJeyyes', 'https://www.esiee.fr/sites/default/files/styles/promotion_desktop/public/thumbnails/image/w3-banniere-jpo-2021-2022.jpg?itok=yeuDt-ib', 'https://www.esiee.fr/sites/default/files/styles/promotion_desktop/public/thumbnails/image/w2-banniere-jpo-2021-2022.jpg?itok=pF-B_swe', 'https://www.esiee.fr/sites/default/files/styles/promotion_desktop/public/thumbnails/image/w4-banniere-jpo-2021-2022.jpg?itok=HSgsOzIw', 'https://www.esiee.fr/sites/default/files/styles/promotion_desktop/public/thumbnails/image/w1_banniere_visite-virtuelle.jpg?itok=Mb95IJ6I', 'https://www.esiee.fr/sites/default/files/styles/promotion_desktop/public/thumbnails/image/w-renault.jpg?itok=nHaxyLAD', 'https://www.esiee.fr/sites/default/files/styles/promotion_tablet/public/thumbnails/image/t1-banniere-jpo-2021-2022.jpg?itok=wx21UvXy', 'https://www.esiee.fr/sites/default/files/styles/promotion_tablet/public/thumbnails/image/t3-banniere-jpo-2021-2022.jpg?itok=ckBcsmJ3', 'https://www.esiee.fr/sites/default/files/styles/promotion_tablet/public/thumbnails/image/t2-banniere-jpo-2021-2022.jpg?itok=tktqVHjl', 'https://www.esiee.fr/sites/default/files/styles/promotion_tablet/public/thumbnails/image/t4-banniere-jpo-2021-2022.jpg?itok=jvgSa0TI', 'https://www.esiee.fr/sites/default/files/styles/promotion_tablet/public/thumbnails/image/t1_banniere_visite-virtuelle.jpg?itok=Ey6BcwiC', 'https://www.esiee.fr/sites/default/files/styles/promotion_tablet/public/thumbnails/image/t-renault.jpg?itok=b17Qt6iP', 'https://www.esiee.fr/sites/default/files/styles/promotion_mobile/public/thumbnails/image/m1-banniere-jpo-2021-2022.jpg?itok=xYfLQyfT', 'https://www.esiee.fr/sites/default/files/styles/promotion_mobile/public/thumbnails/image/m3-banniere-jpo-2021-2022.jpg?itok=u-njgohv', 'https://www.esiee.fr/sites/default/files/styles/promotion_mobile/public/thumbnails/image/m2-banniere-jpo-2021-2022.jpg?itok=6zXuYavK', 'https://www.esiee.fr/sites/default/files/styles/promotion_mobile/public/thumbnails/image/m4-banniere-jpo-2021-2022.jpg?itok=RwbpoNX_', 'https://www.esiee.fr/sites/default/files/styles/promotion_mobile/public/thumbnails/image/m1_banniere_visite-virtuelle.jpg?itok=x1o7WU_l', 'https://www.esiee.fr/sites/default/files/styles/promotion_mobile/public/thumbnails/image/m-renault.jpg?itok=cnN-eY61', 'https://www.esiee.fr/sites/default/files/styles/skill/public/thumbnails/image/energies-apprentissage-920x600.jpg?itok=t72mU_wf', 'https://www.esiee.fr/sites/default/files/styles/skill/public/thumbnails/image/reseaux-securite-apprentissage-920x600.jpg?itok=ALmNmrIM', 'https://www.esiee.fr/sites/default/files/styles/skill/public/thumbnails/image/energie-web-920x600.jpg?itok=VvqdwvXT', 'https://www.esiee.fr/sites/default/files/styles/skill/public/thumbnails/image/informatique-applications-apprentissage-920x600.jpg?itok=ULUGMlwl', 'https://www.esiee.fr/sites/default/files/styles/skill/public/thumbnails/image/informatique-web-920x600.jpg?itok=Poa3_6q-', 'https://www.esiee.fr/sites/default/files/styles/skill/public/thumbnails/image/bachelor-etudiants-web-920x600_0.jpg?itok=tVRMXu6e', 'https://www.esiee.fr/sites/default/files/styles/skill/public/thumbnails/image/systemes-embarques-web-920x600.jpg?itok=yFKcypMN', 'https://www.esiee.fr/sites/default/files/styles/skill/public/thumbnails/image/genie-industriel-apprentissage-920x600.jpg?itok=jIY-cs5R', 'https://www.esiee.fr/sites/default/files/styles/skill/public/thumbnails/image/cybersecurite-web-920x600.jpg?itok=FD7iRPUZ', 'https://www.esiee.fr/sites/default/files/styles/skill/public/thumbnails/image/systemes-embarques-apprentissage-920x600.jpg?itok=qmj2iYJF', 'https://www.esiee.fr/sites/default/files/styles/skill/public/thumbnails/image/biotechnologies-web-920x600.jpg?itok=hQwX0d8L', 'https://www.esiee.fr/sites/default/files/styles/skill/public/thumbnails/image/systemes-electroniques-intelligents-920x600.jpg?itok=WmrOmTQT', 'https://www.esiee.fr/sites/default/files/styles/skill/public/thumbnails/image/datascience-web-920x600.jpg?itok=lsYowC_V', 'https://www.esiee.fr/sites/default/files/styles/skill/public/thumbnails/image/visuel-intelligence-artificielle-920x600-web.jpg?itok=OLppWUOD', 'https://www.esiee.fr/sites/default/files/styles/skill/public/thumbnails/image/genie-industriel-web-920x600.jpg?itok=02kxzu9r', '/sites/default/files/logo_membre_fondateur_univ_gustave_eiffel.png', 'https://www.esiee.fr/sites/default/files/thumbnails/image/logo-cci-paris.png']\n",
      "['#', 'https://gmail.com', 'https://planif.esiee.fr/direct/', 'https://planif.esiee.fr/jsp/custom/esiee/easyMyPlanning.jsp', 'https://intra.esiee.fr', 'https://blackboard.esiee.fr', 'http://e5.onthehub.com/WebStore/Welcome.aspx?vsro=8&ws=45AD823E-799B-E011-969D-0030487D8897&JSEnabled=1', '/en', 'https://www.facebook.com/esieeparis', 'https://twitter.com/ESIEEPARIS', 'https://www.linkedin.com/edu/school?id=20041&trk=tyah&trkInfo=idx%3A4-1-4%2CtarId%3A1425998561386%2Ctas%3Aesiee+paris', 'http://www.youtube.com/esieeparis', 'https://www.instagram.com/esieeparis/', '#toolbar-footer', '/fr', '#', 'https://www.esiee.fr/fr/formations', '#', 'https://www.esiee.fr/fr/formations', '#', '#', 'https://www.esiee.fr/fr/formations/ingenieur/ingenieur-esiee-paris', 'https://www.esiee.fr/fr/formations/ingenieur/premier-cycle', '#', '#', 'https://www.esiee.fr/fr/formations/ingenieur/cycle-ingenieur', 'https://www.esiee.fr/fr/formations/ingenieur/cycle-ingenieur/enseignements-premiere-annee', 'https://www.esiee.fr/fr/formations/ingenieur/cycle-ingenieur/enseignements-deuxieme-troisieme-annee', 'https://www.esiee.fr/fr/formations/ingenieur/cycle-ingenieur/profils-metiers', '#', '#', 'https://www.esiee.fr/fr/formations/ingenieur/filieres', 'https://www.esiee.fr/fr/formations/ingenieur/filieres/informatique', 'https://www.esiee.fr/fr/formations/ingenieur/filieres/cybersecurite', 'https://www.esiee.fr/fr/formations/ingenieur/filieres/datascience-intelligence-artificielle', 'https://www.esiee.fr/fr/formations/ingenieur/filieres/artificial-intelligence-cybersecurity', 'https://www.esiee.fr/fr/formations/ingenieur/filieres/systemes-embarques', 'https://www.esiee.fr/fr/formations/ingenieur/filieres/systemes-electroniques', 'https://www.esiee.fr/fr/formations/ingenieur/filieres/genie-industriel', 'https://www.esiee.fr/fr/formations/ingenieur/filieres/biotechnologies-esante', 'https://www.esiee.fr/fr/formations/ingenieur/filieres/energie', 'https://www.esiee.fr/fr/formations/ingenieur/doubles-diplomes', 'https://www.esiee.fr/fr/formations/ingenieur/emplois-et-salaires', 'https://www.esiee.fr/fr/formations/ingenieur/frais-scolarites/aides-financieres', 'https://www.esiee.fr/fr/formations/ingenieur/stages', 'https://www.esiee.fr/fr/formations/ingenieur/admission/Ingenieur', 'https://www.esiee.fr/fr/contact-ingenieur', '#', '#', 'https://www.esiee.fr/fr/formations/ingenieur-par-apprentissage', '#', '#', 'https://www.esiee.fr/fr/formations/ingenieur-par-apprentissage/reseaux-securite', 'https://www.esiee.fr/fr/formations/ingenieur-par-apprentissage/reseaux-securite/programme-des-enseignements', '#', '#', 'https://www.esiee.fr/fr/formations/ingenieur-par-apprentissage/systemes-embarques', 'https://www.esiee.fr/fr/formations/ingenieur-par-apprentissage/systemes-embarques/programme-des-enseignements', '#', '#', 'https://www.esiee.fr/fr/formations/ingenieur-par-apprentissage/informatique-et-applications', 'https://www.esiee.fr/fr/formations/ingenieur-par-apprentissage/informatique-et-applications/programme-des-enseignements', '#', '#', 'https://www.esiee.fr/fr/formations/ingenieur-par-apprentissage/genie-industriel', 'https://www.esiee.fr/fr/formations/ingenieur-par-apprentissage/genie-industriel/programme-des-enseignements', 'https://www.esiee.fr/fr/formations/ingenieur-par-apprentissage/energies', 'https://www.esiee.fr/fr/formations/ingenieur-par-apprentissage/mode-emploi', 'https://www.esiee.fr/fr/admission/Ingenieur-par-apprentissage', 'https://www.esiee.fr/fr/contact-ingenieur-par-apprentissage', '#', '#', 'https://www.esiee.fr/fr/formations/bachelor', 'https://www.esiee.fr/fr/formations/bachelor/poursuites-etudes-metiers', 'https://www.esiee.fr/fr/admission/Bachelor', '#', '#', 'https://www.esiee.fr/fr/formations/masters-internationaux', 'https://www.esiee.fr/fr/formations/masters-internationaux/master-artificial-intelligence-cybersecurity', 'https://www.esiee.fr/fr/formations/masters-internationaux/msc-connected-objects-devices-and-systems', 'https://www.esiee.fr/fr/formations/masters-internationaux/msc-management-information-systems', 'https://www.esiee.fr/fr/contact-programmes-internationaux', '#', '#', 'https://www.esiee.fr/fr/formations/formation-continue', '#', '#', 'https://www.esiee.fr/fr/formations/formation-continue/programmes-courts-cybersecurite/initiation-systemes-information2', 'https://www.esiee.fr/fr/formations/formation-continue/programmes-courts-cybersecurite/initiation-implementation-erp', 'https://www.esiee.fr/fr/formations/formation-continue/programmes-courts-cybersecurite/initiation-securite-web-vulnerabilites', 'https://www.esiee.fr/fr/formations/formation-continue/programmes-courts-cybersecurite/securite-systemes-reseaux-avance', 'https://www.esiee.fr/fr/formations/formation-continue/programmes-courts-cybersecurite/securite-systemes-reseaux-expert', 'https://www.esiee.fr/fr/formations/formation-continue/programmes-courts-cybersecurite/decouverte-cryptographie', 'https://www.esiee.fr/fr/formations/formation-continue/programmes-courts-cybersecurite/detection-intrusion-incidents-securite', 'https://www.esiee.fr/fr/formations/formation-continue/programmes-courts-cybersecurite/sensibilisation-normes-iso-rgpd-cnil', 'https://www.esiee.fr/fr/formations/formation-continue/programmes-courts-cybersecurite/audit-systemes-information-reseaux', '#', '#', 'https://www.esiee.fr/fr/formations/formation-continue/programmes-salles-blanches/decouverte-technologies', 'https://www.esiee.fr/fr/formations/formation-continue/programmes-courts-salles-blanches/initiation-technologies-microfabrication', 'https://www.esiee.fr/fr/formations/formation-continue/foire-aux-questions', 'https://www.esiee.fr/fr/contact-formation-continue', '#', '#', 'https://www.esiee.fr/fr/espace-etudiants/vie-etudiante', '#', '#', 'https://www.esiee.fr/fr/espace-etudiants/associatif/bureau-des-eleves', 'https://www.esiee.fr/fr/espace-etudiants/associatif/junior-esiee', 'https://www.esiee.fr/fr/espace-etudiants/associatif/clubs-associations', 'https://www.esiee.fr/fr/espace-etudiants/amenagements-etudes', 'https://www.esiee.fr/fr/espace-etudiants/TI-innovation-gateway', 'https://www.esiee.fr/fr/espace-etudiants/logements', 'https://www.esiee.fr/fr/espace-etudiants/sport', 'https://www.esiee.fr/fr/espace-etudiants/campus-descartes', 'https://www.esiee.fr/fr/espace-etudiants/relais-handicap', '#', '#', 'https://www.esiee.fr/fr/espace-etudiants/equipements/centre-de-langues', 'https://www.esiee.fr/fr/espace-etudiants/equipements/informatique', 'https://www.esiee.fr/fr/espace-etudiants/equipements/ordinateurs-portables', 'https://www.esiee.fr/fr/espace-etudiants/ressources-numeriques', 'https://www.esiee.fr/fr/espace-etudiants/financer-vos-etudes', 'https://www.esiee.fr/fr/videotheque', 'https://www.esiee.fr/fr/espace-etudiant/restauration', '#', '#', 'https://www.esiee.fr/fr/ecole/qui-sommes-nous', 'https://www.esiee.fr/fr/gouvernance', 'https://www.esiee.fr/fr/ecole/conseil-scientifique', '#', '#', 'https://www.esiee.fr/fr/ecole/departements-enseignants/4-departements', 'https://www.esiee.fr/fr/ecole/departements-enseignements/informatique', 'https://www.esiee.fr/fr/ecole/departements-enseignements/ingenierie-systemes', 'https://www.esiee.fr/fr/ecole/departements-enseignements/sante-energie-environnement', 'https://www.esiee.fr/fr/ecole/departements-enseignements/management-technologies-langues', '#', '#', 'https://www.esiee.fr/fr/ecole/corps-enseignant/enseigner-a-esiee-paris', 'https://www.esiee.fr/fr/ecole/les-enseignants-chercheurs', 'https://www.esiee.fr/fr/ecole/corps-enseignant/cv-corps-professoral', '#', '#', 'https://www.esiee.fr/fr/ecole/salles-blanches', '#', '#', 'https://www.esiee.fr/fr/ecole/salles-blanches/equipements-et-procedes', 'https://www.esiee.fr/fr/ecole/salles-blanches/equipements-et-procedes/photolithographie', 'https://www.esiee.fr/fr/ecole/salles-blanches/equipements-et-procedes/traitements-thermiques', 'https://www.esiee.fr/fr/ecole/salles-blanches/equipements-et-procedes/depots-couches-minces', 'https://www.esiee.fr/fr/ecole/salles-blanches/equipements-et-procedes/electrodeposition', 'https://www.esiee.fr/fr/ecole/salles-blanches/equipements-et-procedes/gravures-plasma', 'https://www.esiee.fr/fr/ecole/salles-blanches/equipements-et-procedes/gravure-humide-nettoyage', 'https://www.esiee.fr/fr/ecole/salles-blanches/equipements-et-procedes/scellement-de-substrats', 'https://www.esiee.fr/fr/ecole/salles-blanches/equipements-et-procedes/metrologie', 'https://www.esiee.fr/fr/ecole/salles-blanches/equipements-et-procedes/plateforme-sem-fib', 'https://www.esiee.fr/fr/ecole/salles-blanches/equipements-et-procedes/packaging', 'https://www.esiee.fr/fr/ecole/salles-blanches/equipements-et-procedes/recherche-collaborations', 'https://www.esiee.fr/fr/ecole/salles-blanches/equipe', 'https://www.esiee.fr/fr/contact-salles-blanches', 'https://www.esiee.fr/fr/esiee_ldap_directory', 'https://www.esiee.fr/fr/ecole/esiee-connect', 'https://www.esiee.fr/fr/webserie-yann-lecun-prix-turing', 'https://www.esiee.fr/fr/ecole/visite-virtuelle', '#', '#', 'https://www.esiee.fr/fr/la-recherche', '#', '#', 'https://www.esiee.fr/fr/la-recherche/axes-recherche', 'https://www.esiee.fr/fr/la-recherche/axes-recherche/ville-durable', 'https://www.esiee.fr/fr/la-recherche/axes-recherche/sante', 'https://www.esiee.fr/fr/la-recherche/axes-recherche/innovation-societe', '#', '#', 'https://www.esiee.fr/fr/la-recherche/laboratoires-partenaires', 'https://www.esiee.fr/fr/la-recherche/laboratoires-associes', '#', '#', 'https://www.esiee.fr/fr/la-recherche/se-former-recherche/ecoles-doctorales', 'https://www.esiee.fr/fr/la-recherche/se-former-recherche/masters-recherche', 'https://www.esiee.fr/fr/la-recherche/partenariats-entreprise', 'https://www.esiee.fr/fr/la-recherche/equipements', '#', '#', 'https://www.esiee.fr/fr/la-recherche/publications/hal-esiee', 'https://www.esiee.fr/fr/la-recherche/publications-esiee-paris-12-mois', 'https://www.esiee.fr/fr/la-recherche/publications-esiee', 'https://www.esiee.fr/fr/recherche/publications', 'https://www.esiee.fr/fr/contact-recherche', '#', '#', 'https://www.esiee.fr/fr/entreprises', '#', 'https://www.esiee.fr/fr/entreprises', 'https://www.esiee.fr/fr/entreprises/entreprises-partenaires/elaborez-une-chaire-enseignement', 'https://www.esiee.fr/fr/entreprises/entreprises-partenaires/devenez-parrain-de-promotion', 'https://www.esiee.fr/fr/entreprises/deposez-offres-emploi-stage-apprentissage', 'https://www.esiee.fr/fr/contact-entreprises', '#', '#', 'https://www.esiee.fr/fr/entreprises/recrutez-nos-etudiants/accueillez-un-stagiaire', 'https://www.esiee.fr/fr/entreprises/recrutez-nos-etudiants/recrutez-un-apprenti', 'https://www.esiee.fr/fr/entreprises/recrutez-nos-etudiants/evenements-ecole-entreprises', 'https://www.esiee.fr/fr/entreprises/recrutez-nos-etudiants/consultez-enquete-emploi', 'https://www.esiee.fr/fr/entreprises/recrutez-nos-etudiants/contactez-les-alumni', 'https://www.esiee.fr/fr/entreprises/deposez-offres-emploi-stage-apprentissage', 'https://www.esiee.fr/fr/contact-pole-carriere', 'https://www.esiee.fr/fr/formations/formation-continue', '#', '#', 'https://www.esiee.fr/fr/entreprises/developpez-vos-projets-technologiques/utilisez-nos-plateformes-technologiques', 'https://www.esiee.fr/fr/entreprises/developpez-vos-projets-technologiques/recherche-et-developpement', 'https://www.esiee.fr/fr/contact-entreprises', '#', '#', 'https://www.esiee.fr/fr/entreprises/soutenez-nos-projets/versez-votre-taxe-apprentissage', 'https://www.esiee.fr/fr/entreprises/soutenez-nos-projets/devenez-mecene', 'https://www.esiee.fr/fr/entreprises/soutenez-nos-projets/investissements-pedagogiques', 'https://www.esiee.fr/fr/entreprises/soutenez-nos-projets/soutenez-la-recherche', 'https://www.esiee.fr/fr/contact-entreprises', 'https://www.esiee.fr/fr/location-despaces', 'https://www.esiee.fr/fr/entreprises/deposez-offres-emploi-stage-apprentissage', 'https://www.esiee.fr/fr/contact-entreprises', '#', '#', 'https://www.esiee.fr/fr/international/large-ouverture', 'https://www.esiee.fr/fr/international/partenaires-academiques', 'https://www.esiee.fr/fr/international/etudier-a-letranger', 'https://www.esiee.fr/fr/international/erasmus', 'https://www.esiee.fr/fr/international/accueil-etudiants-en-echanges', 'https://www.esiee.fr/fr/international/venir-etudier-a-esiee-paris', 'https://www.esiee.fr/fr/formations/masters-internationaux', 'https://www.esiee.fr/fr/international/campus-a-l-etranger/fsati', 'https://www.esiee.fr/fr/international/les-diplomes', 'https://www.esiee.fr/fr/contact-international', '/fr/formations/ingenieur/ingenieur-esiee-paris', '/fr/formations/ingenieur/filieres', '/fr/formations/ingenieur/emplois-et-salaires', '/fr/formations/ingenieur/admission/Ingenieur', '/fr/formations/ingenieur-par-apprentissage', '/fr/formations/ingenieur/emplois-et-salaires', '/fr/formations/ingenieur-par-apprentissage/mode-emploi', '/fr/admission/Ingenieur-par-apprentissage', '/fr/formations/bachelor', '/fr/formations/bachelor/poursuites-etudes-metiers', '/fr/admission/Bachelor', '/fr/formations/masters-internationaux', '/en/programmes/international-masters/how-to-apply', '#', '#', '#', '#', 'formations/ingenieur/ingenieur-esiee-paris', 'formations/ingenieur-par-apprentissage', 'https://www.esiee.fr/fr/formations/bachelor', 'formations/masters-internationaux', 'fr/rss/news', '/fr/esiee_search/news/home', '/fr/actualite/salons-novembre-2021', '/fr/actualite/forum-pour-lemploi-esiee-paris-jeudi-18-novembre', '/fr/actualite/portes-ouvertes-samedi-11-decembre-2021', '/fr/actualite/yann-lecun-et-camille-couprie-diplomes-esiee-paris-a-l-honneur-sur-tf1', '/fr/actualite/nouvelle-unite-enseignement-handicap-2021', '/fr/actualite/biomimetisme-concours-2021', '/fr/actualite/ceremonie-trophees-femmes-industrie-2021', '/fr/actualite/prix-paris-leader-club-2021', '/fr/actualite/journee-tremplin-recherche-2021', '/fr/rentree-covid-2021', '/fr/actualite/esiee-11e-classement-happyatschool-ingenieur', '/fr/actualite/invention-robot-pizza', '/fr/actualite/label-bienvenue-en-france-2021', '/fr/actualite/classement-letudiant-2021', '/fr/actualite/classement-international-CWUR-2021', '/fr/actualite/international/mobilite-virtuelle', '/fr/actualite/parrainage-promotion-esiee-renault', 'https://www.esiee.fr/fr/classements-ecoles-ingenieur-esiee-paris', 'https://www.esiee.fr/fr/actualite/entreprises-speed-recruiting-apprentissage-2021', 'https://www.esiee.fr/fr/nous-rencontrer', 'https://www.esiee.fr/fr/nous-rencontrer', 'https://www.esiee.fr/fr/nous-rencontrer', 'https://www.esiee.fr/fr/nous-rencontrer', 'https://www.esiee.fr/fr/ecole/visite-virtuelle', 'https://www.esiee.fr/fr/entreprises/entreprises-partenaires/devenez-parrain-de-promotion', 'https://www.esiee.fr/fr/nous-rencontrer', 'https://www.esiee.fr/fr/nous-rencontrer', 'https://www.esiee.fr/fr/nous-rencontrer', 'https://www.esiee.fr/fr/nous-rencontrer', 'https://www.esiee.fr/fr/ecole/visite-virtuelle', 'https://www.esiee.fr/fr/entreprises/entreprises-partenaires/devenez-parrain-de-promotion', 'https://www.esiee.fr/fr/nous-rencontrer', 'https://www.esiee.fr/fr/nous-rencontrer', 'https://www.esiee.fr/fr/nous-rencontrer', 'https://www.esiee.fr/fr/nous-rencontrer', 'https://www.esiee.fr/fr/ecole/visite-virtuelle', 'https://www.esiee.fr/fr/entreprises/entreprises-partenaires/devenez-parrain-de-promotion', 'http://www.esiee.fr/fr/formations/ingenieur-par-apprentissage/energies', 'http://www.esiee.fr/fr/formations/ingenieur-par-apprentissage/energies', 'http://www.esiee.fr/fr/formations/ingenieur-par-apprentissage', 'http://www.esiee.fr/fr/formations/ingenieur-par-apprentissage/energies', 'https://www.esiee.fr/fr/formations/ingenieur-par-apprentissage/reseaux-securite', 'https://www.esiee.fr/fr/formations/ingenieur-par-apprentissage/reseaux-securite', 'https://www.esiee.fr/fr/formations/ingenieur-par-apprentissage', 'https://www.esiee.fr/fr/formations/ingenieur-par-apprentissage/reseaux-securite', 'https://www.esiee.fr/fr/formations/ingenieur/filieres/energie', 'https://www.esiee.fr/fr/formations/ingenieur/filieres/energie', 'https://www.esiee.fr/fr/formations/ingenieur/ingenieur-esiee-paris', 'https://www.esiee.fr/fr/formations/ingenieur/filieres/energie', 'https://www.esiee.fr/fr/formations/ingenieur-par-apprentissage/informatique-et-applications', 'https://www.esiee.fr/fr/formations/ingenieur-par-apprentissage/informatique-et-applications', 'https://www.esiee.fr/fr/formations/ingenieur-par-apprentissage', 'https://www.esiee.fr/fr/formations/ingenieur-par-apprentissage/informatique-et-applications', 'https://www.esiee.fr/fr/formations/ingenieur/filieres/informatique', 'https://www.esiee.fr/fr/formations/ingenieur/filieres/informatique', 'https://www.esiee.fr/fr/formations/ingenieur/ingenieur-esiee-paris', 'https://www.esiee.fr/fr/formations/ingenieur/filieres/informatique', 'http://www.esiee.fr/formations/bachelor', 'http://www.esiee.fr/formations/bachelor', 'http://www.esiee.fr/formations/bachelor', 'http://www.esiee.fr/formations/bachelor', 'https://www.esiee.fr/fr/formations/ingenieur/filieres/systemes-embarques', 'https://www.esiee.fr/fr/formations/ingenieur/filieres/systemes-embarques', 'https://www.esiee.fr/fr/formations/ingenieur/ingenieur-esiee-paris', 'https://www.esiee.fr/fr/formations/ingenieur/filieres/systemes-embarques', 'http://www.esiee.fr/formations/ingenieur-par-apprentissage/genie-industriel', 'http://www.esiee.fr/formations/ingenieur-par-apprentissage/genie-industriel', 'http://www.esiee.fr/formations/ingenieur-par-apprentissage', 'http://www.esiee.fr/formations/ingenieur-par-apprentissage/genie-industriel', 'https://www.esiee.fr/fr/formations/ingenieur/filieres/cybersecurite', 'https://www.esiee.fr/fr/formations/ingenieur/filieres/cybersecurite', 'https://www.esiee.fr/fr/formations/ingenieur/ingenieur-esiee-paris', 'https://www.esiee.fr/fr/formations/ingenieur/filieres/cybersecurite', 'https://www.esiee.fr/fr/formations/ingenieur-par-apprentissage/systemes-embarques', 'https://www.esiee.fr/fr/formations/ingenieur-par-apprentissage/systemes-embarques', 'https://www.esiee.fr/fr/formations/ingenieur-par-apprentissage', 'https://www.esiee.fr/fr/formations/ingenieur-par-apprentissage/systemes-embarques', 'https://www.esiee.fr/fr/formations/ingenieur/filieres/biotechnologies-esante', 'https://www.esiee.fr/fr/formations/ingenieur/filieres/biotechnologies-esante', 'https://www.esiee.fr/fr/formations/ingenieur/ingenieur-esiee-paris', 'https://www.esiee.fr/fr/formations/ingenieur/filieres/biotechnologies-esante', 'https://www.esiee.fr/fr/formations/ingenieur/filieres/systemes-electroniques', 'https://www.esiee.fr/fr/formations/ingenieur/filieres/systemes-electroniques', 'https://www.esiee.fr/fr/formations/ingenieur/ingenieur-esiee-paris', 'https://www.esiee.fr/fr/formations/ingenieur/filieres/systemes-electroniques', 'https://www.esiee.fr/fr/formations/ingenieur/filieres/datascience-intelligence-artificielle', 'https://www.esiee.fr/fr/formations/ingenieur/filieres/datascience-intelligence-artificielle', 'https://www.esiee.fr/fr/formations/ingenieur/ingenieur-esiee-paris', 'https://www.esiee.fr/fr/formations/ingenieur/filieres/datascience-intelligence-artificielle', 'https://www.esiee.fr/fr/formations/ingenieur/filieres/artificial-intelligence-cybersecurity', 'https://www.esiee.fr/fr/formations/ingenieur/filieres/artificial-intelligence-cybersecurity', 'https://www.esiee.fr/fr/formations/ingenieur/ingenieur-esiee-paris', 'https://www.esiee.fr/fr/formations/ingenieur/filieres/artificial-intelligence-cybersecurity', 'https://www.esiee.fr/fr/formations/ingenieur/filieres/genie-industriel', 'https://www.esiee.fr/fr/formations/ingenieur/filieres/genie-industriel', 'https://www.esiee.fr/fr/formations/ingenieur/ingenieur-esiee-paris', 'https://www.esiee.fr/fr/formations/ingenieur/filieres/genie-industriel', '/fr/acces', '/fr/brochures', '/fr/nous-rencontrer', '/fr/presse', '/fr/jour-des-projets', '/fr/videotheque', '/fr/location-despaces', 'http://www.esiee.fr/fr/ecole/corps-enseignant/enseigner-a-esiee-paris', '/fr/reseaux-sociaux', '/fr/ecole/visite-virtuelle', 'https://www.esiee.fr/fr/entreprises/recrutez-nos-etudiants/contactez-les-alumni', '/fr/mentions-legales', '/fr/plan-du-site', '/fr/contact', 'https://www.univ-gustave-eiffel.fr', 'https://www.cci-paris-idf.fr', 'https://www.facebook.com/esieeparis', 'https://twitter.com/ESIEEPARIS', 'https://www.linkedin.com/edu/school?id=20041&trk=tyah&trkInfo=idx%3A4-1-4%2CtarId%3A1425998561386%2Ctas%3Aesiee+paris', 'http://www.youtube.com/esieeparis', 'https://www.instagram.com/esieeparis/']\n",
      "['Les outils ESIEE Paris', 'Ingénieur', 'Le cycle ingénieur', 'Filières', 'Ingénieur par apprentissage', 'Réseaux et sécurité - architecture et internet des objets', 'Systèmes embarqués - transports et objets intelligents', 'Informatique et applications - ingénierie 3D et technologie des médias', 'Génie industriel - Supply chain et numérique', 'Bachelor', 'Masters internationaux', 'Formation continue', 'Cybersécurité', 'Salle blanche', \"L'associatif\", 'Equipements', \"Les départements d'enseignements et de recherche\", 'Corps enseignant', 'Les salles blanches', 'Equipements et procédés', '3 axes de recherche', 'Laboratoires', 'Se former à la recherche', 'Publications', \"L'entreprise partenaire\", 'Recrutez nos étudiants', 'Développez vos projets technologiques', 'Soutenez nos projets', 'Découvrir la formation', 'Filières et métiers', 'Emplois et salaires', 'Admissions & inscriptions', 'Découvrir la formation', 'Emplois et salaires', \"Apprentissage : mode d'emploi\", 'Admissions & inscriptions', 'Découvrir la formation', \"Poursuites d'études et métiers\", 'Admissions', 'Découvrir la formation', 'Admissions & inscriptions', \"Vous recherchez une formation d'ingénieur ? Découvrez les filières ESIEE Paris.\", \"A la recherche d'un emploi ou d'un stage ? Une trentaine d'entreprises vous attendent.\", \"Venez échanger pour tout savoir sur votre future école d'ingénieur.\", '« Yann LeCun, l’inventeur qui a révolutionné notre quotidien »\\xa0', 'Les soutenances finales des projets ont eu lieu ce jeudi 28 octobre 2021', '6 élèves de ESIEE Paris et de l’ESIPE, deux écoles d’ingénieurs de l’Université Gustave Eiffel, remportent le 2e prix d’un concours.', 'Isabelle Truong, reçoit le prix de \"Femme au début prometteur\" aux trophées des Femmes de l\\'industrie.', 'L’évènement “International Conference on Computer Vision*” (ICCV) aura lieu à Paris en 2023.', 'Ce parcours financé par I-SITE FUTURE propose aux étudiants ESIEE Paris de s’initier à la recherche.', 'Cette page est destinée à vous informer sur les mesures prises par l’école dans le cadre de la crise sanitaire de la COVID-19.', 'Dans un contexte compliqué, particulièrement éprouvant pour les étudiants, ESIEE Paris se distingue au classement HappyAtSchool 2021.', 'Deux diplômés ESIEE PARIS ont conçu une machine robotisée qui prépare des pizzas en complète autonomie.', 'L’Université Gustave Eiffel et ESIEE Paris, viennent d’obtenir le label « Bienvenue en France » de niveau deux étoiles.', 'ESIEE Paris conserve sa place parmi les écoles d’ingénieurs du Groupe A, en 5e position des écoles post-bac.', 'Le 26 avril 2021, le Center for World University Rankings (CWUR) a publié son classement des 2000 meilleurs établissements d’enseignement supérieur du monde.', 'Faire travailler et dialoguer ensemble des étudiants de pays différents, sans se déplacer : découvrez la mobilité virtuelle.', 'Le Groupe Renault sera le parrain des promotions 2020, 2021 et 2022 de ESIEE Paris.', \"\\n  2e école post-bac d'Ile-de-France selon le classement de l'Etudiant 2021 ! ESIEE Paris gagne 7 places au classement du Figaro 2021. 6e école d'ingénieurs post-bac selon le classement Eduniversal 2021.\\n\", '\\n  Entreprises, collaborer avec un élève ingénieur en alternance est l’opportunité de le former aux méthodes de travail, aux spécificités et à la culture de votre entreprise.5 dates clés pour recruter.\\n', None, None]\n"
     ]
    }
   ],
   "source": [
    "print(test.get_title(url))\n",
    "print(test.get_h1(url))\n",
    "print(test.get_img(url))\n",
    "print(test.get_links(url))\n",
    "print(test.get_p(url))"
   ]
  },
  {
   "cell_type": "markdown",
   "metadata": {},
   "source": [
    "# Exploitation des appels d'API\n"
   ]
  },
  {
   "cell_type": "markdown",
   "metadata": {},
   "source": [
    "\n",
    "Losque le front du site récupère des données sur une API géré par le back, un appel d'API est réalisé. Cet appel est recensé dans les appels réseaux. Il est alors possible de re-jouer cet appel pour récupérer à nouveau les données. Il est très facile de récupérer ces appels dans l'onglet Network de la console développeur de Chrome ou FireFox. La console vous permet de copier le code CURL pour effectuée et vous pouvez ensuite la transformer en code Python depuis le site https://curl.trillworks.com/.\n",
    "\n",
    "Souvent les APIs sont bloquées avec certain paramètres. L'API verifie que dans les headers de la requêtes HTTP ces paramètres sont présents : * un token généré à la volée avec des protocole OAuth2 (ou moins développés). * un referer provenant du site web (la source de la requête), très facile à falsifier.\n",
    "\n"
   ]
  },
  {
   "cell_type": "markdown",
   "metadata": {},
   "source": [
    "## Exercice \n",
    "### Exercice 4\n",
    "\n",
    "- Utiliser les informations développées plus haut pour récupérer les premiers résultats d'une recherche d'une requête\n",
    "sur Qwant. \n",
    "\n",
    "Tips : \n",
    "\n",
    "- Aller sur https://www.qwant.com/\n",
    "- Ouvrir les outils de développements de Chrome ou Firefox\n",
    "- Onglet Network\n",
    "- Fouiller dans les requêtes"
   ]
  },
  {
   "cell_type": "code",
   "execution_count": 134,
   "metadata": {},
   "outputs": [],
   "source": [
    "import requests,json\n",
    "\n",
    "params = (\n",
    "    ('q', 'esiee'),\n",
    "    ('locale','fr_FR')\n",
    ")\n",
    "headers = {'User-Agent': \"Mozilla/5.0 (Windows NT 10.0; Win64; x64; rv:94.0) Gecko/20100101 Firefox/94.0\"}\n",
    "\n",
    "response = requests.get('https://api.qwant.com/v3/search/web', headers=headers, params=params)\n",
    "\n",
    "#NB. Original query string below. It seems impossible to parse and\n",
    "#reproduce query strings 100% accurately so the one below is given\n",
    "#in case the reproduced version is not \"correct\".\n",
    "# response = requests.get('https://api.qwant.com/v3/search/web?q=esiee')\n",
    "\n",
    "responseJSON = json.loads(response.text) "
   ]
  },
  {
   "cell_type": "code",
   "execution_count": 143,
   "metadata": {},
   "outputs": [
    {
     "name": "stdout",
     "output_type": "stream",
     "text": [
      "ESIEE Paris, l’école de l’innovation technologique | Grande école d’ingénieurs | ESIEE Paris\n",
      "ESIEE\n",
      "ESIEE-Amiens – École d'Ingénieurs à Amiens\n",
      "ESIEE - Jour des Projets 2021\n",
      "ESIEE Games\n",
      "ESIEE-Amiens 2020/2021 - HYPERPLANNING\n",
      "ESIEE : Avis, Formations et Informations !\n",
      "esiee.paris: École d’ingénieurs ESIEE Paris, école de l’innovation | ESIEE Paris\n",
      "esiee.fr: ESIEE Paris, l'école de l'innovation technologique\n",
      "ESIEE IT - Découvrez les formations et le calendrier des stages de cet établissement - Ecole d'Ingénieurs\n"
     ]
    }
   ],
   "source": [
    "sites = responseJSON[\"data\"][\"result\"][\"items\"][\"mainline\"][0][\"items\"]\n",
    "\n",
    "for site in sites : \n",
    "    print(site[\"title\"])"
   ]
  },
  {
   "cell_type": "markdown",
   "metadata": {},
   "source": [
    "# Exercice Final  "
   ]
  },
  {
   "cell_type": "markdown",
   "metadata": {},
   "source": [
    "Exercice Final\n",
    "Utilisez tout ce que vous avez appris pour récupérer des articles de News avec une catégorie. Il est souvent intéressant de partir des flux RSS pour commencer :\n",
    "\n",
    "Les données doivent comprendre :\n",
    "- Le texte important propre\n",
    "- L'url\n",
    "- Le domaine\n",
    "- la catégorie\n",
    "- Le titre de l'article\n",
    "- Le titre de la page\n",
    "- (Facultatif) : les images\n",
    "\n",
    "Tips : \n",
    "\n",
    "- Taper le nom de votre média favoris + RSS (par exemple : https://www.lemonde.fr/rss/)\n",
    "- Aller dans le DOM de la page \n",
    "- Trouver les catégories et les liens vers les articles"
   ]
  },
  {
   "cell_type": "code",
   "execution_count": null,
   "metadata": {},
   "outputs": [],
   "source": []
  }
 ],
 "metadata": {
  "kernelspec": {
   "display_name": "Python 3 (ipykernel)",
   "language": "python",
   "name": "python3"
  },
  "language_info": {
   "codemirror_mode": {
    "name": "ipython",
    "version": 3
   },
   "file_extension": ".py",
   "mimetype": "text/x-python",
   "name": "python",
   "nbconvert_exporter": "python",
   "pygments_lexer": "ipython3",
   "version": "3.8.12"
  }
 },
 "nbformat": 4,
 "nbformat_minor": 2
}
