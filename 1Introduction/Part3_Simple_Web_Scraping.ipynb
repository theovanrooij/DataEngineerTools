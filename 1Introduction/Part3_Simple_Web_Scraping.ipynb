{
 "cells": [
  {
   "cell_type": "markdown",
   "metadata": {},
   "source": [
    "# Introduction"
   ]
  },
  {
   "cell_type": "markdown",
   "metadata": {},
   "source": [
    "Avant de commencer, parcourer le fichier README.rst"
   ]
  },
  {
   "cell_type": "markdown",
   "metadata": {},
   "source": [
    "# Requête HTTP "
   ]
  },
  {
   "cell_type": "markdown",
   "metadata": {},
   "source": [
    "Un requête HTTP est une requête basé sur le protocole TCP, elle fait partie de la couche application de la couche OSI. Elle permet d'accéder aux données mise à disposition sur une adresse IP (ou url résolue par un DNS) et un port. \n",
    "\n",
    "Les deux ports les plus utilisé dans le web sont le 80 pour les sites en HTTP et le 443 pour les sites en HTTPS. HTTPS est une variable du protocole HTTP basé sur le protocole TLS.\n",
    "\n",
    "Il existe de nombreux types de requêtes selon la convention `REST`: \n",
    "- GET\n",
    "- POST\n",
    "- PUT \n",
    "- DELETE\n",
    "- UPDATE.\n",
    "\n",
    "Dans notre cas nous allons utiliser la plupart du temps des GET et potentiellement des POST. \n",
    "- Le GET permet comme sont nom l'indique de récupérer des informations en fonction de certain paramètres. \n",
    "- Le POST nécéssite un envoie de données pour récupérer des données. Le body du post est, la plupart du temps, envoyé sous la forme d'un objet JSON.\n",
    "\n",
    "Ces requêtes encapsulent un certain nombre de paramètres qui permettent soient d'identifier une provenance et un utilisateur ou de réaliser différentes actions."
   ]
  },
  {
   "cell_type": "code",
   "execution_count": 2,
   "metadata": {},
   "outputs": [],
   "source": [
    "import requests"
   ]
  },
  {
   "cell_type": "code",
   "execution_count": 3,
   "metadata": {},
   "outputs": [
    {
     "data": {
      "text/plain": [
       "200"
      ]
     },
     "execution_count": 3,
     "metadata": {},
     "output_type": "execute_result"
    }
   ],
   "source": [
    "url = \"http://www.esiee.fr/\"\n",
    "response = requests.get(url)\n",
    "response.status_code"
   ]
  },
  {
   "cell_type": "markdown",
   "metadata": {},
   "source": [
    "Il existe deux méthodes pour récupérer le contenu de la page :\n",
    "\n",
    "- `response.text` qui permet de retourner le texte sous la forme d'une chaine de charactères.\n",
    "- `response.content` qui permet de récupérer le contenu de la page sous la forme de bytes"
   ]
  },
  {
   "cell_type": "code",
   "execution_count": 4,
   "metadata": {},
   "outputs": [
    {
     "data": {
      "text/plain": [
       "bytes"
      ]
     },
     "execution_count": 4,
     "metadata": {},
     "output_type": "execute_result"
    }
   ],
   "source": [
    "type(response.content)"
   ]
  },
  {
   "cell_type": "code",
   "execution_count": 5,
   "metadata": {},
   "outputs": [
    {
     "data": {
      "text/plain": [
       "str"
      ]
     },
     "execution_count": 5,
     "metadata": {},
     "output_type": "execute_result"
    }
   ],
   "source": [
    "type(response.text)"
   ]
  },
  {
   "cell_type": "markdown",
   "metadata": {},
   "source": [
    "Pour récupérer les 1000 premiers charactères de la page :"
   ]
  },
  {
   "cell_type": "code",
   "execution_count": 6,
   "metadata": {},
   "outputs": [
    {
     "data": {
      "text/plain": [
       "'<!DOCTYPE html>\\n<!--[if lt IE 7]>      <html class=\"no-js lt-ie9 lt-ie8 lt-ie7\"> <![endif]-->\\n<!--[if IE 7]>         <html class=\"no-js lt-ie9 lt-ie8\"> <![endif]-->\\n<!--[if IE 8]>         <html class=\"no-js lt-ie9\"> <![endif]-->\\n<!--[if IE 9]>         <html class=\"no-js ie9\"> <![endif]-->\\n<!--[if gt IE 9]><!--> <html class=\"no-js\"> <!--<![endif]-->\\n<head profile=\"http://www.w3.org/1999/xhtml/vocab\">\\n\\t<!-- Google Tag Manager -->\\n\\t<script>\\n\\t\\t(function(w,d,s,l,i){\\n\\t\\t\\tw[l]=w[l]||[];w[l].push({\\'gtm.start\\':new Date().getTime(),event:\\'gtm.js\\'});\\n\\t\\t\\tvar f=d.getElementsByTagName(s)[0],\\tj=d.createElement(s),dl=l!=\\'dataLayer\\'?\\'&l=\\'+l:\\'\\';\\n\\t\\t\\tj.async=true;\\n\\t\\t\\tj.src=\\'https://www.googletagmanager.com/gtm.js?id=\\'+i+dl;f.parentNode.insertBefore(j,f);\\n\\t\\t\\t}\\n\\t\\t)\\n\\t\\t(window,document,\\'script\\',\\'dataLayer\\',\\'GTM-MQF5LJB\\');\\n\\t</script>\\n\\t<!-- End Google Tag Manager -->\\n  <meta name=\"google-site-verification\" content=\"JnG7DTdhQuWTeSHlWC63CeWpb3WValiOorksYjoYOWI\" />\\n  <meta http-equiv=\"Content-Type\" content=\"text/ht'"
      ]
     },
     "execution_count": 6,
     "metadata": {},
     "output_type": "execute_result"
    }
   ],
   "source": [
    "response.text[0:1000]"
   ]
  },
  {
   "cell_type": "markdown",
   "metadata": {},
   "source": [
    "Pour récupérer les headers HTTP de la réponse :"
   ]
  },
  {
   "cell_type": "code",
   "execution_count": 7,
   "metadata": {},
   "outputs": [
    {
     "ename": "KeyError",
     "evalue": "'user-agent'",
     "output_type": "error",
     "traceback": [
      "\u001b[0;31m---------------------------------------------------------------------------\u001b[0m",
      "\u001b[0;31mKeyError\u001b[0m                                  Traceback (most recent call last)",
      "\u001b[0;32m/tmp/ipykernel_16/3363008413.py\u001b[0m in \u001b[0;36m<module>\u001b[0;34m\u001b[0m\n\u001b[0;32m----> 1\u001b[0;31m \u001b[0mresponse\u001b[0m\u001b[0;34m.\u001b[0m\u001b[0mheaders\u001b[0m\u001b[0;34m[\u001b[0m\u001b[0;34m\"User-Agent\"\u001b[0m\u001b[0;34m]\u001b[0m\u001b[0;34m\u001b[0m\u001b[0;34m\u001b[0m\u001b[0m\n\u001b[0m",
      "\u001b[0;32m~/.local/share/virtualenvs/code-AFz48Hjb/lib/python3.8/site-packages/requests/structures.py\u001b[0m in \u001b[0;36m__getitem__\u001b[0;34m(self, key)\u001b[0m\n\u001b[1;32m     52\u001b[0m \u001b[0;34m\u001b[0m\u001b[0m\n\u001b[1;32m     53\u001b[0m     \u001b[0;32mdef\u001b[0m \u001b[0m__getitem__\u001b[0m\u001b[0;34m(\u001b[0m\u001b[0mself\u001b[0m\u001b[0;34m,\u001b[0m \u001b[0mkey\u001b[0m\u001b[0;34m)\u001b[0m\u001b[0;34m:\u001b[0m\u001b[0;34m\u001b[0m\u001b[0;34m\u001b[0m\u001b[0m\n\u001b[0;32m---> 54\u001b[0;31m         \u001b[0;32mreturn\u001b[0m \u001b[0mself\u001b[0m\u001b[0;34m.\u001b[0m\u001b[0m_store\u001b[0m\u001b[0;34m[\u001b[0m\u001b[0mkey\u001b[0m\u001b[0;34m.\u001b[0m\u001b[0mlower\u001b[0m\u001b[0;34m(\u001b[0m\u001b[0;34m)\u001b[0m\u001b[0;34m]\u001b[0m\u001b[0;34m[\u001b[0m\u001b[0;36m1\u001b[0m\u001b[0;34m]\u001b[0m\u001b[0;34m\u001b[0m\u001b[0;34m\u001b[0m\u001b[0m\n\u001b[0m\u001b[1;32m     55\u001b[0m \u001b[0;34m\u001b[0m\u001b[0m\n\u001b[1;32m     56\u001b[0m     \u001b[0;32mdef\u001b[0m \u001b[0m__delitem__\u001b[0m\u001b[0;34m(\u001b[0m\u001b[0mself\u001b[0m\u001b[0;34m,\u001b[0m \u001b[0mkey\u001b[0m\u001b[0;34m)\u001b[0m\u001b[0;34m:\u001b[0m\u001b[0;34m\u001b[0m\u001b[0;34m\u001b[0m\u001b[0m\n",
      "\u001b[0;31mKeyError\u001b[0m: 'user-agent'"
     ]
    }
   ],
   "source": [
    "response.headers[\"User-Agent\"]"
   ]
  },
  {
   "cell_type": "markdown",
   "metadata": {},
   "source": [
    "On peut modifier les paramêtres de la requête et/ou ses headers. On peut par exemple ajouter un UserAgent et un timeout de 10 secondes:"
   ]
  },
  {
   "cell_type": "code",
   "execution_count": null,
   "metadata": {},
   "outputs": [],
   "source": [
    "headers = {'User-Agent': 'Mozilla/5.0 (Macintosh; Intel Mac OS X 10_10_1) AppleWebKit/537.36 (KHTML, like Gecko) Chrome/39.0.2171.95 Safari/537.36'}\n",
    "response = requests.get(url, headers=headers, timeout = 10)\n",
    "response.content[0:1000]"
   ]
  },
  {
   "cell_type": "markdown",
   "metadata": {},
   "source": [
    "## Exercice"
   ]
  },
  {
   "cell_type": "markdown",
   "metadata": {},
   "source": [
    "## Exercice 1\n",
    "\n",
    "- Créer une classe Python permettant de faire des requêtes HTTP.\n",
    "- Cette classe doit utiliser toujours le même UserAgent.\n",
    "- Le TimeOut sera spécifié à chaque appelle avec une valeur par défaut.\n",
    "- Un mécanisme de retry sera mis en place de façon recursive.\n",
    "\n",
    "## Exercice 2\n",
    "\n",
    "- Faire une fonction permettant de supprimer tous les espaces supperflus d'une string (???)\n",
    "- Faire une fonction qui prend une string html et renvois une string intelligible (enlever les caractères spéciaux,)(???)\n",
    "- Récupérer le domaine en fonction d'un url"
   ]
  },
  {
   "cell_type": "code",
   "execution_count": 8,
   "metadata": {},
   "outputs": [],
   "source": [
    "#### Exercice 1\n",
    "class requestClass : \n",
    "    def __init__(self):\n",
    "        self.user_agent = \"Mozilla/5.0 (Windows NT 10.0; Win64; x64; rv:94.0) Gecko/20100101 Firefox/94.0\"\n",
    "    \n",
    "    def request(self,url,timeout=10):\n",
    "        import requests\n",
    "        headers = {'User-Agent': self.user_agent}\n",
    "        response = requests.get(url, headers=headers, timeout = timeout)\n",
    "        while response.status_code != 200 : \n",
    "            response = requests.get(url, headers=headers, timeout = timeout)\n",
    "        return response\n",
    "        "
   ]
  },
  {
   "cell_type": "code",
   "execution_count": 9,
   "metadata": {},
   "outputs": [
    {
     "data": {
      "text/plain": [
       "<Response [200]>"
      ]
     },
     "execution_count": 9,
     "metadata": {},
     "output_type": "execute_result"
    }
   ],
   "source": [
    "test = requestClass()\n",
    "test.request(url)"
   ]
  },
  {
   "cell_type": "code",
   "execution_count": 10,
   "metadata": {},
   "outputs": [
    {
     "data": {
      "text/plain": [
       "'www.esiee.fr'"
      ]
     },
     "execution_count": 10,
     "metadata": {},
     "output_type": "execute_result"
    }
   ],
   "source": [
    "## Exercice 2\n",
    "def getDomain(url):\n",
    "    index_dash = [index  for index,char in enumerate(url) if char == \"/\"]\n",
    "    if len(index_dash) > 2 : \n",
    "        # On retrouve un autre slash que ceux dans http:// \n",
    "        # le nom de domaine est donc compris entre le deuxième et troisième \"/\"\n",
    "        return url[index_dash[1]+1:index_dash[2]]\n",
    "    else : \n",
    "        # Il n'y a que les deux \"/\" de http://\n",
    "        # Le nom de domaine est donc tous les caractères suivant le second \"/\"\n",
    "        return url[index_dash[1]+1:]\n",
    "\n",
    "getDomain(url)"
   ]
  },
  {
   "cell_type": "markdown",
   "metadata": {},
   "source": [
    "# Exploitation du HTML  "
   ]
  },
  {
   "cell_type": "markdown",
   "metadata": {},
   "source": [
    "Ici, il faut récupérer le code HTML d'un site web à partir d'une requête. Lorsque vous avez récupéré le texte d'un site il faut le parser. Pour cela, on utilise BeautifulSoup qui permet de transformer la structure HTML en objet Python. Cela permet de récupérer efficacement les données qui nous intéresse.\n",
    "\n",
    "Pour les webmasters, le blocage le plus souvent mis en place et un blocage sur le User-Agent. Le User-Agent est un paramètre intégré dans la requête HTTP réalisé par le Navigateur pour envoyer au front des informations basiques :\n",
    "\n",
    "- la version du Navigateur,\n",
    "- la version de l'OS\n",
    "- Le type de gestionnaire graphique (Gecko)\n",
    "- le type de device utilisé"
   ]
  },
  {
   "cell_type": "markdown",
   "metadata": {},
   "source": [
    "Exemple de User Agent :  \n",
    "\n",
    "`Mozilla/5.0 (Windows NT 6.1; Win64; x64; rv:47.0) Gecko/20100101 Firefox/47.0`"
   ]
  },
  {
   "cell_type": "markdown",
   "metadata": {},
   "source": [
    "Commençons à utiliser `BeautifulSoup`, pour l'installer : "
   ]
  },
  {
   "cell_type": "code",
   "execution_count": 11,
   "metadata": {},
   "outputs": [
    {
     "name": "stdout",
     "output_type": "stream",
     "text": [
      "Collecting bs4\n",
      "  Downloading bs4-0.0.1.tar.gz (1.1 kB)\n",
      "  Preparing metadata (setup.py) ... \u001b[?25ldone\n",
      "\u001b[?25hRequirement already satisfied: beautifulsoup4 in /root/.local/share/virtualenvs/code-AFz48Hjb/lib/python3.8/site-packages (from bs4) (4.9.3)\n",
      "Requirement already satisfied: soupsieve>1.2 in /root/.local/share/virtualenvs/code-AFz48Hjb/lib/python3.8/site-packages (from beautifulsoup4->bs4) (2.0.1)\n",
      "Building wheels for collected packages: bs4\n",
      "  Building wheel for bs4 (setup.py) ... \u001b[?25ldone\n",
      "\u001b[?25h  Created wheel for bs4: filename=bs4-0.0.1-py3-none-any.whl size=1271 sha256=7091a0bc6a4ba748cc0cd36a80c6ef927760c25f3bfcaba736c8455176f47b4e\n",
      "  Stored in directory: /root/.cache/pip/wheels/75/78/21/68b124549c9bdc94f822c02fb9aa3578a669843f9767776bca\n",
      "Successfully built bs4\n",
      "Installing collected packages: bs4\n",
      "Successfully installed bs4-0.0.1\n",
      "Requirement already satisfied: lxml in /root/.local/share/virtualenvs/code-AFz48Hjb/lib/python3.8/site-packages (4.6.4)\n"
     ]
    }
   ],
   "source": [
    "!pip install bs4\n",
    "!pip install  lxml"
   ]
  },
  {
   "cell_type": "code",
   "execution_count": 12,
   "metadata": {},
   "outputs": [],
   "source": [
    "import requests\n",
    "from bs4 import BeautifulSoup"
   ]
  },
  {
   "cell_type": "markdown",
   "metadata": {},
   "source": [
    "Pour transformer une requête (requests) en objet BeautifulSoup :"
   ]
  },
  {
   "cell_type": "code",
   "execution_count": 119,
   "metadata": {},
   "outputs": [],
   "source": [
    "response = requests.get(url)\n",
    "soup = BeautifulSoup(response.text)"
   ]
  },
  {
   "cell_type": "code",
   "execution_count": 121,
   "metadata": {},
   "outputs": [
    {
     "data": {
      "text/plain": [
       "'<?xml version=\"1.0\" encoding=\"UTF-8\"?>\\n<rss version=\"2.0\" xmlns:atom=\"http://www.w3.org/2005/Atom\" xmlns:media=\"http://search.yahoo.com/mrss/\"><channel><title>Sport : Toute l’actualité sur Le Monde.fr.</title><description>Sport - Découvrez gratuitement tous les articles, les vidéos et les infographies de la rubrique Sport sur Le Monde.fr.</description><copyright>Le Monde - L’utilisation des flux RSS du Monde.fr est réservée à un usage strictement personnel, non professionnel et non collectif. Toute autre exploitation doit faire l’objet d’une autorisation et donner lieu au versement d’une rémunération. Contact : droitsdauteur@lemonde.fr</copyright><link>https://www.lemonde.fr/sport/rss_full.xml</link><pubDate>Tue, 23 Nov 2021 12:59:33 +0000</pubDate><language>fr</language><atom:link href=\"https://www.lemonde.fr/sport/rss_full.xml\" rel=\"self\" type=\"application/rss+xml\"/><item><title><![CDATA[JO 2024\\xa0: la justice autorise la reprise des travaux de construction d’une piscine d’entraînement à\\xa0Aubervilliers]]></title><pubDate>Tue, 23 Nov 2021 13:54:45 +0100</pubDate><description><![CDATA[La cour administrative d’appel de Paris avait suspendu le permis de construire à la fin de\\xa0septembre, invoquant des «\\xa0doutes sérieux sur [sa] légalité\\xa0», après une procédure d’urgence lancée par des opposants au projet.]]></description><guid isPermaLink=\"true\">https://www.lemonde.fr/sport/article/2021/11/23/jo-2024-la-justice-autorise-la-reprise-des-travaux-de-construction-d-une-piscine-d-entrainement-a-aubervilliers_6103289_3242.html</guid><link>https://www.lemonde.fr/sport/article/2021/11/23/jo-2024-la-justice-autorise-la-reprise-des-travaux-de-construction-d-une-piscine-d-entrainement-a-aubervilliers_6103289_3242.html</link><media:content url=\"https://img.lemde.fr/2021/11/21/560/0/6720/3360/644/322/60/0/077c489_151229577-211107jbalague-corps-isabelle-12.jpg\" width=\"644\" height=\"322\"><media:description type=\"plain\">Les espces verts devant la Maison des sciences de l’homme, à Aubervilliers, le 20 novembre 2021.</media:description><media:credit scheme=\"urn:ebu\">JULIE BALAGUÉ POUR «\\xa0LE MONDE\\xa0»</media:credit></media:content></item><item><title><![CDATA[Interruption du match OL-OM\\xa0: Gérald Darmanin veut travailler sur les interdictions de stade]]></title><pubDate>Tue, 23 Nov 2021 12:49:22 +0100</pubDate><description><![CDATA[Les instances du football français se sont réunies au ministère de l’intérieur, mardi, pour commencer à tirer les conclusions de l’incident de dimanche, au Parc OL.]]></description><guid isPermaLink=\"true\">https://www.lemonde.fr/societe/article/2021/11/23/interruption-du-match-ol-om-gerald-darmanin-veut-travailler-sur-les-interdictions-de-stade_6103285_3224.html</guid><link>https://www.lemonde.fr/societe/article/2021/11/23/interruption-du-match-ol-om-gerald-darmanin-veut-travailler-sur-les-interdictions-de-stade_6103285_3224.html</link><media:content url=\"https://img.lemde.fr/2021/11/23/444/0/5329/2664/644/322/60/0/8f92317_5068366-01-06.jpg\" width=\"644\" height=\"322\"><media:description type=\"plain\">Réunion sur la sécurité dans les rencontres de football, au ministère de l’intérieur, le 23\\xa0novembre 2021.</media:description><media:credit scheme=\"urn:ebu\">JULIEN DE ROSA / AFP</media:credit></media:content></item><item><title><![CDATA[Ski\\xa0: entre affluence et protection de l’environnement, la station de Flaine sur une ligne de crête]]></title><pubDate>Tue, 23 Nov 2021 11:02:54 +0100</pubDate><description><![CDATA[La station haut-savoyarde entend faciliter l’accessibilité des skieurs grâce à l’ascenseur valléen Funiflaine, qui devrait être opérationnel en\\xa02025. Parallèlement, elle multiplie les initiatives pour limiter son impact environnemental et préserver la biodiversité.]]></description><guid isPermaLink=\"true\">https://www.lemonde.fr/economie/article/2021/11/23/ski-entre-affluence-et-protection-de-l-environnement-la-station-de-flaine-sur-une-ligne-de-crete_6103266_3234.html</guid><link>https://www.lemonde.fr/economie/article/2021/11/23/ski-entre-affluence-et-protection-de-l-environnement-la-station-de-flaine-sur-une-ligne-de-crete_6103266_3234.html</link><media:content url=\"https://img.lemde.fr/2021/11/22/349/0/4187/2093/644/322/60/0/689f976_389623595-000-1e13wx.jpg\" width=\"644\" height=\"322\"><media:description type=\"plain\">Un ascenseur de la station de ski de Flaine, conçu en 1976 par l’architecte Marcel Breuer. Le 28 février 2019.</media:description><media:credit scheme=\"urn:ebu\">JEAN-PIERRE CLATOT / AFP</media:credit></media:content></item><item><title><![CDATA[Après les incidents lors du match OL-OM, le football français en état d’urgence]]></title><pubDate>Tue, 23 Nov 2021 10:11:54 +0100</pubDate><description><![CDATA[L’interruption du match est le dernier d’une longue liste d’incidents depuis l’été.\\xa0Une réunion de crise avec le gouvernement a lieu, mardi, pour tenter de trouver des solutions.]]></description><guid isPermaLink=\"true\">https://www.lemonde.fr/sport/article/2021/11/23/violences-dans-les-stades-le-football-francais-en-etat-d-urgence_6103254_3242.html</guid><link>https://www.lemonde.fr/sport/article/2021/11/23/violences-dans-les-stades-le-football-francais-en-etat-d-urgence_6103254_3242.html</link><media:content url=\"https://img.lemde.fr/2021/11/22/920/0/3191/1593/644/322/60/0/4015ddb_5062729-01-06.jpg\" width=\"644\" height=\"322\"><media:description type=\"plain\">Dimanche 21 novembre, Dimitri Payet a été la cible d’un jet de bouteille d’eau, alors qu’il s’apprêtait à tirer un corner lors de Lyon-Marseille.</media:description><media:credit scheme=\"urn:ebu\">PHILIPPE DESMAZES / AFP</media:credit></media:content></item><item><title><![CDATA[Après l’arrêt d’OL-OM, le football français s’intéresse encore au modèle anglais qui a vaincu l’hooliganisme]]></title><pubDate>Tue, 23 Nov 2021 10:11:45 +0100</pubDate><description><![CDATA[Vidéosurveillance, fin des grillages et des tribunes debout… La Premier League est citée en exemple. Pour ses détracteurs, elle a éradiqué la violence au prix d’une ambiance aseptisée.]]></description><guid isPermaLink=\"true\">https://www.lemonde.fr/football/article/2021/11/23/apres-l-arret-de-lyon-marseille-le-football-francais-lorgne-encore-le-modele-anglais-des-tribunes_6103253_1616938.html</guid><link>https://www.lemonde.fr/football/article/2021/11/23/apres-l-arret-de-lyon-marseille-le-football-francais-lorgne-encore-le-modele-anglais-des-tribunes_6103253_1616938.html</link><media:content url=\"https://img.lemde.fr/2021/11/23/170/0/1539/769/644/322/60/0/8e676a3_466471417-000-sapa980630627950.jpg\" width=\"644\" height=\"322\"><media:description type=\"plain\">Des hooligans anglais arrêtés lors de la Coupe du monde en France, en 1998.</media:description><media:credit scheme=\"urn:ebu\">ERIC FEFERBERG / AFP</media:credit></media:content></item><item><title><![CDATA[Transat Jacques Vabre\\xa0: «\\xa0On ne peut être opposé à\\xa0l’innovation, mais il est parfois bon de\\xa0l’interroger\\xa0»]]></title><pubDate>Tue, 23 Nov 2021 08:36:01 +0100</pubDate><description><![CDATA[Le skippeur Erwan Le Roux, arrivé deuxième avec Xavier Macaire de la flotte des Ocean Fifty, explique le regain d’intérêt pour cette classe, moins coûteuse et plus simple, et s’interroge sur la frénésie de construction.]]></description><guid isPermaLink=\"true\">https://www.lemonde.fr/sport/article/2021/11/23/transat-jacques-vabre-on-ne-peut-etre-oppose-a-l-innovation-mais-il-est-parfois-bon-de-l-interroger_6103243_3242.html</guid><link>https://www.lemonde.fr/sport/article/2021/11/23/transat-jacques-vabre-on-ne-peut-etre-oppose-a-l-innovation-mais-il-est-parfois-bon-de-l-interroger_6103243_3242.html</link><media:content url=\"https://img.lemde.fr/2021/11/22/339/0/4500/2250/644/322/60/0/a1ff770_390946569-066-dppi-30121001-046.jpg\" width=\"644\" height=\"322\"><media:description type=\"plain\">Erwan Le Roux et Xavier Macaire sur «\\xa0Koesio\\xa0»\\xa0, au départ de la 15e\\xa0édition de la Transat Jacques Vabre, le 7 novembre au\\xa0Havre.</media:description><media:credit scheme=\"urn:ebu\">PIERRE BOURAS / DPPI / AFP</media:credit></media:content></item><item><title><![CDATA[Transat Jacques Vabre\\xa0: Sébastien Rogues et Matthieu Souben franchissent la ligne les premiers en Martinique]]></title><pubDate>Tue, 23 Nov 2021 07:20:20 +0100</pubDate><description><![CDATA[Arrivé dans la nuit à Fort-de-France, le duo s’impose en Ocean Fifty à bord de «\\xa0Primonial\\xa0», en un peu plus de quinze jours et treize heures.]]></description><guid isPermaLink=\"true\">https://www.lemonde.fr/sport/article/2021/11/23/transat-jacques-vabre-sebastien-rogues-et-mathieu-souben-franchissent-la-ligne-les-premiers-en-martinique_6103241_3242.html</guid><link>https://www.lemonde.fr/sport/article/2021/11/23/transat-jacques-vabre-sebastien-rogues-et-mathieu-souben-franchissent-la-ligne-les-premiers-en-martinique_6103241_3242.html</link><media:content url=\"https://img.lemde.fr/2021/11/22/365/0/4382/2191/644/322/60/0/af2c3fd_5065191-01-06.jpg\" width=\"644\" height=\"322\"><media:credit scheme=\"urn:ebu\">LOIC VENANCE / AFP</media:credit></media:content></item><item><title><![CDATA[En montagne, le débat est ouvert sur un avenir sans neige et sans ski]]></title><pubDate>Tue, 23 Nov 2021 03:53:07 +0100</pubDate><description><![CDATA[La question du changement de modèle de développement agite les montagnes françaises et pousse des opposants historiques à nouer le dialogue.\\xa0Derrière les poignées de main, les lignes de fracture restent profondes.]]></description><guid isPermaLink=\"true\">https://www.lemonde.fr/economie/article/2021/11/23/en-montagne-le-debat-est-ouvert-sur-un-avenir-sans-neige-et-sans-ski_6103208_3234.html</guid><link>https://www.lemonde.fr/economie/article/2021/11/23/en-montagne-le-debat-est-ouvert-sur-un-avenir-sans-neige-et-sans-ski_6103208_3234.html</link><media:content url=\"https://img.lemde.fr/2021/11/22/938/0/5615/2805/644/322/60/0/1270e42_589772417-maury-itemlameije-lemonde-0003.jpg\" width=\"644\" height=\"322\"><media:description type=\"plain\">Sur le domaine skiable de La Grave-La Meije (Hautes-Alpes), en 2018.</media:description><media:credit scheme=\"urn:ebu\">ETIENNE MAURY / ITEM</media:credit></media:content></item><item><title><![CDATA[A La Grave, le téléphérique qui divise la\\xa0Mecque du hors-piste]]></title><pubDate>Tue, 23 Nov 2021 03:40:08 +0100</pubDate><description><![CDATA[Prévue à la place du téléski actuel pour préserver le glacier de la Girose, la future remontée fait craindre une jonction avec les grandes stations voisines des Deux-Alpes et de l’Alpe-d’Huez, qui partagent le même exploitant.]]></description><guid isPermaLink=\"true\">https://www.lemonde.fr/economie/article/2021/11/23/a-la-grave-le-telepherique-qui-divise-la-mecque-du-hors-piste_6103207_3234.html</guid><link>https://www.lemonde.fr/economie/article/2021/11/23/a-la-grave-le-telepherique-qui-divise-la-mecque-du-hors-piste_6103207_3234.html</link><media:content url=\"https://img.lemde.fr/2021/11/22/464/0/5568/2784/644/322/60/0/5b15145_705775575-000-vq0bw.jpg\" width=\"644\" height=\"322\"><media:description type=\"plain\">Le sommet de la Meije, à La Grave (Hautes-Alpes), en 2018.</media:description><media:credit scheme=\"urn:ebu\">JEAN-PIERRE CLATOT / AFP</media:credit></media:content></item><item><title><![CDATA[La Chine tente d’enterrer l’affaire Peng Shuai, avec la bénédiction du Comité international olympique]]></title><pubDate>Mon, 22 Nov 2021 10:42:12 +0100</pubDate><description><![CDATA[Le président du CIO s’est entretenu avec l’ancienne championne de tennis, disparue depuis deux semaines, sans aborder ses allégations de viol contre un haut responsable chinois.]]></description><guid isPermaLink=\"true\">https://www.lemonde.fr/international/article/2021/11/22/la-chine-tente-d-enterrer-l-affaire-peng-shuai-avec-la-benediction-du-cio_6103137_3210.html</guid><link>https://www.lemonde.fr/international/article/2021/11/22/la-chine-tente-d-enterrer-l-affaire-peng-shuai-avec-la-benediction-du-cio_6103137_3210.html</link><media:content url=\"https://img.lemde.fr/2021/11/22/227/0/4800/2394/644/322/60/0/57d119c_262554476-643625.jpg\" width=\"644\" height=\"322\"><media:description type=\"plain\">Une photo publiée sur le site du Comité international olympique le 21 novembre 2021 montre le président du CIO, Thomas Bach, lors d’un appel vidéo avec la star chinoise du tennis Peng Shuai.</media:description><media:credit scheme=\"urn:ebu\">GREG MARTIN / AFP</media:credit></media:content></item><item><title><![CDATA[La traversée dantesque de trois nageurs français met en lumière la pollution du lac Titicaca]]></title><pubDate>Mon, 22 Nov 2021 10:26:12 +0100</pubDate><description><![CDATA[Le vice-champion\\xa0du monde handisport français Théo Curin,\\xa0amputé des quatre membres, et ses deux acolytes ont parcouru, pendant dix jours et en totale autonomie, le plus grand lac d’eau douce d’Amérique du Sud, asphyxié par de multiples rejets et déchets.]]></description><guid isPermaLink=\"true\">https://www.lemonde.fr/planete/article/2021/11/22/la-traversee-dantesque-de-trois-nageurs-francais-met-en-lumiere-la-pollution-du-lac-titicaca_6103129_3244.html</guid><link>https://www.lemonde.fr/planete/article/2021/11/22/la-traversee-dantesque-de-trois-nageurs-francais-met-en-lumiere-la-pollution-du-lac-titicaca_6103129_3244.html</link><media:content url=\"https://img.lemde.fr/2021/11/20/408/0/4896/2448/644/322/60/0/0708ea3_5055268-01-06.jpg\" width=\"644\" height=\"322\"><media:description type=\"plain\">Le nageur paralympique Théo Curin traverse à la nage le lac Titicaca, près de la ligne finale, en direction des îles flottantes Uros (Pérou), le 20 novembre 2021.</media:description><media:credit scheme=\"urn:ebu\">CARLOS MAMANI / AFP</media:credit></media:content></item><item><title><![CDATA[L’OL sanctionné d’un huis clos total, à titre conservatoire, après l’interruption du match contre l’OM]]></title><pubDate>Mon, 22 Nov 2021 10:22:46 +0100</pubDate><description><![CDATA[Le match de dimanche entre les deux Olympiques s’est arrêté dès la quatrième minute après que le joueur Dimitri Payet a reçu sur la tête une bouteille d’eau lancée des tribunes.]]></description><guid isPermaLink=\"true\">https://www.lemonde.fr/societe/article/2021/11/22/inadmissible-minable-une-honte-vives-reactions-politiques-apres-l-interruption-du-match-lyon-marseille_6103128_3224.html</guid><link>https://www.lemonde.fr/societe/article/2021/11/22/inadmissible-minable-une-honte-vives-reactions-politiques-apres-l-interruption-du-match-lyon-marseille_6103128_3224.html</link><media:content url=\"https://img.lemde.fr/2021/11/22/460/0/4000/2000/644/322/60/0/1dfa0fe_5062731-01-06.jpg\" width=\"644\" height=\"322\"><media:description type=\"plain\">Dimitri Payet peu après avoir été atteint par une bouteille d’eau lancée des tribunes, au Groupama Stadium de Lyon, le 21\\xa0novembre\\xa02021.</media:description><media:credit scheme=\"urn:ebu\">PHILIPPE DESMAZES / AFP</media:credit></media:content></item><item><title><![CDATA[Double dose de plaisir, Blacks matées et rap de la défaite, ce qu’il fallait (aussi) retenir du week-end sportif]]></title><pubDate>Mon, 22 Nov 2021 06:00:05 +0100</pubDate><description><![CDATA[Parce qu’il n’y a pas que le football dans la vie, tour d’horizon de l’actualité sportive à côté de laquelle vous auriez pu passer.]]></description><guid isPermaLink=\"true\">https://www.lemonde.fr/sport/article/2021/11/22/double-dose-de-plaisir-blacks-matees-et-rap-de-la-defaite-ce-qu-il-fallait-aussi-retenir-du-week-end-sportif_6103105_3242.html</guid><link>https://www.lemonde.fr/sport/article/2021/11/22/double-dose-de-plaisir-blacks-matees-et-rap-de-la-defaite-ce-qu-il-fallait-aussi-retenir-du-week-end-sportif_6103105_3242.html</link><media:content url=\"https://img.lemde.fr/2021/11/20/239/0/2874/1437/644/322/60/0/3958b28_5051784-01-06.jpg\" width=\"644\" height=\"322\"><media:description type=\"plain\">Les joueuses du XV de France célébrent leur victoire contre la Nouvelle-Zélande en test-match, le 20 novembre 2021 à Castres.</media:description><media:credit scheme=\"urn:ebu\">VALENTINE CHAPUIS / AFP</media:credit></media:content></item><item><title><![CDATA[OL-OM\\xa0: l’arrêt du match après l’agression sur Payet, une triste soirée qui reflète les problèmes de la Ligue 1]]></title><pubDate>Mon, 22 Nov 2021 02:23:48 +0100</pubDate><description><![CDATA[Arrêté dès la quatrième minute à la suite d’un jet de bouteille d’eau sur Dimitri Payet, le match n’a jamais repris. Peut-être l’incident de trop dans un championnat marqué par les débordements.]]></description><guid isPermaLink=\"true\">https://www.lemonde.fr/football/article/2021/11/22/match-arrete-entre-lyon-et-marseille-recit-d-une-triste-soiree-symbole-des-maux-de-la-ligue-1_6103088_1616938.html</guid><link>https://www.lemonde.fr/football/article/2021/11/22/match-arrete-entre-lyon-et-marseille-recit-d-une-triste-soiree-symbole-des-maux-de-la-ligue-1_6103088_1616938.html</link><media:content url=\"https://img.lemde.fr/2021/11/21/492/0/4000/2000/644/322/60/0/2426b76_5060558-01-06.jpg\" width=\"644\" height=\"322\"><media:credit scheme=\"urn:ebu\">PHILIPPE DESMAZES / AFP</media:credit></media:content></item><item><title><![CDATA[«\\xa0Ils veulent se montrer, gagner des dollars, changer le cours de leur vie\\xa0»\\xa0: l’école africaine du MMA]]></title><pubDate>Mon, 22 Nov 2021 01:38:00 +0100</pubDate><description><![CDATA[Au Sénégal, où la lutte avec frappe à mains nues est une discipline ancestrale, de nombreux jeunes issus de milieux modestes rêvent d’un avenir professionnel dans les «\\xa0mixed martial arts\\xa0», un sport de combat bien plus violent.]]></description><guid isPermaLink=\"true\">https://www.lemonde.fr/afrique/article/2021/11/22/ils-veulent-se-montrer-gagner-des-dollars-changer-le-cours-de-leur-vie-les-gladiateurs-africains-du-mma_6103084_3212.html</guid><link>https://www.lemonde.fr/afrique/article/2021/11/22/ils-veulent-se-montrer-gagner-des-dollars-changer-le-cours-de-leur-vie-les-gladiateurs-africains-du-mma_6103084_3212.html</link><media:content url=\"https://img.lemde.fr/2021/11/01/181/0/5274/2633/644/322/60/0/89f0a5b_126654735-cabdali-sen-mma-plage-12.jpg\" width=\"644\" height=\"322\"><media:description type=\"plain\">Alois et ses amis pendant un entraînement à la plage de Yoff, à Dakar, le 24 octobre 2021.</media:description><media:credit scheme=\"urn:ebu\">CARMEN ABD ALI POUR « LE MONDE »</media:credit></media:content></item><item><title><![CDATA[OL-OM : le match définitivement arrêté après un jet de bouteille sur Dimitri Payet]]></title><pubDate>Sun, 21 Nov 2021 21:24:22 +0100</pubDate><description><![CDATA[Le joueur marseillais avait déjà subi un incident similaire lors d’un match de championnat à Nice au mois d’août.]]></description><guid isPermaLink=\"true\">https://www.lemonde.fr/sport/article/2021/11/21/football-le-match-lyon-marseille-interrompu-par-un-jet-de-bouteille-sur-payet_6103075_3242.html</guid><link>https://www.lemonde.fr/sport/article/2021/11/21/football-le-match-lyon-marseille-interrompu-par-un-jet-de-bouteille-sur-payet_6103075_3242.html</link><media:content url=\"https://img.lemde.fr/2021/11/21/0/0/3329/1664/644/322/60/0/82ca180_5060556-01-06.jpg\" width=\"644\" height=\"322\"><media:description type=\"plain\">Dimitri Payet a été blessé à la tête par un projectile dimanche 21 novembre 2021.</media:description><media:credit scheme=\"urn:ebu\">PHILIPPE DESMAZES / AFP</media:credit></media:content></item><item><title><![CDATA[Ligue\\xa01\\xa0: Lens victime d’un coup de tonnerre à Brest, Saint-Etienne reverdit]]></title><pubDate>Sun, 21 Nov 2021 20:26:26 +0100</pubDate><description><![CDATA[La 14e journée du championnat de France a été marquée, dimanche, par la lourde défaite des Lensois et le but exceptionnel du Stéphanois Miguel Trauco.]]></description><guid isPermaLink=\"true\">https://www.lemonde.fr/football/article/2021/11/21/ligue-1-lens-victime-d-un-coup-de-tonnerre-a-brest-saint-etienne-reverdit_6103072_1616938.html</guid><link>https://www.lemonde.fr/football/article/2021/11/21/ligue-1-lens-victime-d-un-coup-de-tonnerre-a-brest-saint-etienne-reverdit_6103072_1616938.html</link><media:content url=\"https://img.lemde.fr/2021/11/21/468/0/5296/2648/644/322/60/0/e96e678_5057943-01-06.jpg\" width=\"644\" height=\"322\"><media:description type=\"plain\">Le joueur de Lens, Kevin Danso, se cache le visage avec son maillot après la lourde défaite de son équipe à Brest (4-0), le 21\\xa0novembre 2021 à Brest.</media:description><media:credit scheme=\"urn:ebu\">FRED TANNEAU / AFP</media:credit></media:content></item><item><title><![CDATA[Coupe du monde 2022 : « Il était totalement impossible pour Nicolas Sarkozy d’influencer mon vote » sur le choix du Qatar, dit Michel Platini]]></title><pubDate>Sun, 21 Nov 2021 20:09:15 +0100</pubDate><description><![CDATA[Un an avant l’organisation de la Coupe du monde 2022 de football au Qatar, l’ex-président de l’UEFA revient, dans un entretien avec «\\xa0Le Monde\\xa0», sur son vote controversé en faveur de l’émirat.]]></description><guid isPermaLink=\"true\">https://www.lemonde.fr/sport/article/2021/11/21/mondial-2022-au-qatar-il-etait-totalement-impossible-pour-nicolas-sarkozy-d-influencer-mon-vote-assure-michel-platini_6103071_3242.html</guid><link>https://www.lemonde.fr/sport/article/2021/11/21/mondial-2022-au-qatar-il-etait-totalement-impossible-pour-nicolas-sarkozy-d-influencer-mon-vote-assure-michel-platini_6103071_3242.html</link><media:content url=\"https://img.lemde.fr/2015/12/11/31/0/3764/1880/644/322/60/0/c539ef0_5904041-01-06.jpg\" width=\"644\" height=\"322\"><media:description type=\"plain\">Michel Platini,\\xa0 le 28 mai 2015.</media:description><media:credit scheme=\"urn:ebu\">FABRICE COFFRINI / AFP</media:credit></media:content></item><item><title><![CDATA[Lyon-Marseille en direct\\xa0: arrêt définitif de la rencontre]]></title><pubDate>Sun, 21 Nov 2021 19:28:43 +0100</pubDate><description><![CDATA[La partie entre Lyon et Marseille est définitivement arrêtée, après près de deux heures d’interruption, suite à un jet de bouteille sur le Marseillais Dimitri Payet.]]></description><guid isPermaLink=\"true\">https://www.lemonde.fr/football/live/2021/11/21/lyon-marseille-en-direct-suivez-le-choc-des-olympiques_6103069_1616938.html</guid><link>https://www.lemonde.fr/football/live/2021/11/21/lyon-marseille-en-direct-suivez-le-choc-des-olympiques_6103069_1616938.html</link><media:content url=\"https://img.lemde.fr/2021/11/21/502/0/3000/1500/644/322/60/0/237c01b_434b42254bb84ef798e8c7df49f84211-434b42254bb84ef798e8c7df49f84211-0.jpg\" width=\"644\" height=\"322\"><media:credit scheme=\"urn:ebu\">Laurent Cipriani / AP</media:credit></media:content></item><item><title><![CDATA[Rallye\\xa0: Sébastien Ogier champion du monde pour la huitième fois]]></title><pubDate>Sun, 21 Nov 2021 13:29:25 +0100</pubDate><description><![CDATA[A Monza, le pilote français, qui ne disputera pas le championnat du monde l’an prochain, a réussi sa sortie. En dépit d’un palmarès exceptionnel, il n’égalera pas le record de neuf titres mondiaux de Sébastien Loeb.]]></description><guid isPermaLink=\"true\">https://www.lemonde.fr/sport/article/2021/11/21/rallye-sebastien-ogier-remporte-son-huitieme-titre-mondial_6103045_3242.html</guid><link>https://www.lemonde.fr/sport/article/2021/11/21/rallye-sebastien-ogier-remporte-son-huitieme-titre-mondial_6103045_3242.html</link><media:content url=\"https://img.lemde.fr/2021/11/19/464/0/5568/2784/644/322/60/0/dae7138_5043854-01-06.jpg\" width=\"644\" height=\"322\"><media:description type=\"plain\">Sur Toyota Yaris, Sébastien Ogier et son copilote, Julien Ingrassia, lors du rallye de Monza, près de Bergame, en Italie.</media:description><media:credit scheme=\"urn:ebu\">ANDREAS SOLARO / AFP</media:credit></media:content></item></channel></rss>\\n'"
      ]
     },
     "execution_count": 121,
     "metadata": {},
     "output_type": "execute_result"
    }
   ],
   "source": [
    "response.text"
   ]
  },
  {
   "cell_type": "markdown",
   "metadata": {},
   "source": [
    "Il se peut qu'un message d'erreur arrive à ce point là si vous n'avez pas la librarie `lxml` installée, pour se faire vous avez juste à lancer la commande suivante : "
   ]
  },
  {
   "cell_type": "code",
   "execution_count": 14,
   "metadata": {},
   "outputs": [
    {
     "name": "stdout",
     "output_type": "stream",
     "text": [
      "Requirement already satisfied: lxml in /root/.local/share/virtualenvs/code-AFz48Hjb/lib/python3.8/site-packages (4.6.4)\r\n"
     ]
    }
   ],
   "source": [
    "!pip install lxml"
   ]
  },
  {
   "cell_type": "markdown",
   "metadata": {},
   "source": [
    "Pour trouver tous les liens d'une page on récupère la balise `a` qui permet de gérer les liens en HTML  :"
   ]
  },
  {
   "cell_type": "code",
   "execution_count": 15,
   "metadata": {},
   "outputs": [
    {
     "data": {
      "text/plain": [
       "[<a href=\"#\">\n",
       " <i class=\"icon-parametres\"></i>\n",
       " </a>,\n",
       " <a href=\"https://gmail.com\" target=\"_blank\" title=\"Webmail ESIEE Paris\"><i><img alt=\"\" src=\"https://www.esiee.fr/sites/default/files/menu_icons/menu_icon_950.png\"/> </i><span>Webmail ESIEE Paris</span></a>,\n",
       " <a href=\"https://planif.esiee.fr/direct/\" target=\"_blank\" title=\"Emploi du temps général\"><i><img alt=\"\" src=\"https://www.esiee.fr/sites/default/files/menu_icons/menu_icon_1331.png\"/> </i><span>Emploi du temps général</span></a>,\n",
       " <a href=\"https://planif.esiee.fr/jsp/custom/esiee/easyMyPlanning.jsp\" target=\"_blank\" title=\"Emploi du temps individuel\"><i><img alt=\"\" src=\"https://www.esiee.fr/sites/default/files/menu_icons/menu_icon_1332.png\"/> </i><span>Emploi du temps individuel</span></a>,\n",
       " <a href=\"https://intra.esiee.fr\" target=\"_blank\" title=\"Extranet\"><i><img alt=\"\" src=\"https://www.esiee.fr/sites/default/files/menu_icons/menu_icon_951.png\"/> </i><span>Extranet</span></a>,\n",
       " <a href=\"https://blackboard.esiee.fr\" target=\"_blank\" title=\"iCampus Blackboard\"><i><img alt=\"\" src=\"https://www.esiee.fr/sites/default/files/menu_icons/menu_icon_1311.png\"/> </i><span>iCampus Blackboard</span></a>,\n",
       " <a href=\"http://e5.onthehub.com/WebStore/Welcome.aspx?vsro=8&amp;ws=45AD823E-799B-E011-969D-0030487D8897&amp;JSEnabled=1\" target=\"_blank\" title=\"Microsoft DreamSpark\"><i><img alt=\"\" src=\"https://www.esiee.fr/sites/default/files/menu_icons/menu_icon_1696.png\"/> </i><span>Microsoft DreamSpark</span></a>,\n",
       " <a href=\"/en\">\n",
       " <i>\n",
       " <img alt=\"English\" src=\"/sites/all/themes/custom/esiee_theme/assets/images/flag-en.png\"/>\n",
       " </i>\n",
       " </a>,\n",
       " <a href=\"https://www.facebook.com/esieeparis\" target=\"_blank\">\n",
       " <i class=\"fa fa-facebook\"></i>\n",
       " </a>,\n",
       " <a href=\"https://twitter.com/ESIEEPARIS\" target=\"_blank\">\n",
       " <i class=\"fa fa-twitter\"></i>\n",
       " </a>]"
      ]
     },
     "execution_count": 15,
     "metadata": {},
     "output_type": "execute_result"
    }
   ],
   "source": [
    "soup.find_all(\"a\")[0:10]"
   ]
  },
  {
   "cell_type": "markdown",
   "metadata": {},
   "source": [
    "On peut préciser la classe HTML voulue  pour l'ensemble des `a`:\n",
    "\n",
    "```python\n",
    "soup.find_all(class_=\"<CLASS_NAME>\")[0:10]\n",
    "```\n",
    "\n",
    "Ici par exemple: "
   ]
  },
  {
   "cell_type": "code",
   "execution_count": 16,
   "metadata": {},
   "outputs": [
    {
     "data": {
      "text/plain": [
       "[<div class=\"slide slide-content\">\n",
       " <span class=\"slide-content-date inline-block\"><span class=\"date-display-single\">18.11.2021</span></span>\n",
       " <span class=\"slide-content-theme inline-block is-uppercase\">Concours</span>\n",
       " <div class=\"clearfix\"></div>\n",
       " <div class=\"slide-content-img pull-left\"><!-- scald=3191:news_thumbnail --><img alt=\"Etudiants ingénieurs ESIEE Paris lauréats HandiTech Trophy 2021\" height=\"90\" src=\"https://www.esiee.fr/sites/default/files/styles/news/public/thumbnails/image/visuel-handitech-trophy-920x600.jpg?itok=mXbmIdI6\" title=\"Etudiants ingénieurs ESIEE Paris lauréats HandiTech Trophy 2021\" width=\"120\"/><!-- END scald=3191 --></div>\n",
       " <span class=\"slide-content-title\"><a class=\"is-uppercase\" href=\"/fr/actualite/handitech-trophy-echosign-2021\">Des étudiant.es ESIEE Paris remportent le prix de la catégorie Étudiant du Handitech Trophy 2021</a></span>\n",
       " <div class=\"clearfix\"></div>\n",
       " <p class=\"slide-content-desc\">Le projet EchoSign a retenu l'attention du jury. Ce prix leur a été remis le 15 novembre dernier.</p> </div>,\n",
       " <div class=\"slide slide-content\">\n",
       " <span class=\"slide-content-date inline-block\"><span class=\"date-display-single\">15.10.2021</span></span>\n",
       " <span class=\"slide-content-theme inline-block is-uppercase\">Salons</span>\n",
       " <div class=\"clearfix\"></div>\n",
       " <div class=\"slide-content-img pull-left\"><!-- scald=613:news_thumbnail --><img alt=\"Illustration polo ESIEE Paris\" height=\"90\" src=\"https://www.esiee.fr/sites/default/files/styles/news/public/etudiant-polo-esiee.jpg?itok=fBQzvquu\" title=\"Illustration polo ESIEE Paris\" width=\"120\"/><!-- END scald=613 --></div>\n",
       " <span class=\"slide-content-title\"><a class=\"is-uppercase\" href=\"/fr/actualite/salons-novembre-2021\">Salons étudiants | Rendez-vous avec ESIEE Paris au mois de Novembre !</a></span>\n",
       " <div class=\"clearfix\"></div>\n",
       " <p class=\"slide-content-desc\">Vous recherchez une formation d'ingénieur ? Découvrez les filières ESIEE Paris.</p> </div>,\n",
       " <div class=\"slide slide-content\">\n",
       " <span class=\"slide-content-date inline-block\"><span class=\"date-display-single\">22.11.2021</span></span>\n",
       " <span class=\"slide-content-theme inline-block is-uppercase\">Evènements</span>\n",
       " <div class=\"clearfix\"></div>\n",
       " <div class=\"slide-content-img pull-left\"><!-- scald=3193:news_thumbnail --><img alt=\"Cérémonie de remise des diplômes - Promotion 2020\" height=\"90\" src=\"https://www.esiee.fr/sites/default/files/styles/news/public/thumbnails/image/projet-remise-diplomes-promo-2020.png?itok=A_vluKe4\" title=\"Cérémonie de remise des diplômes - Promotion 2020\" width=\"120\"/><!-- END scald=3193 --></div>\n",
       " <span class=\"slide-content-title\"><a class=\"is-uppercase\" href=\"/fr/actualite/ceremonie-de-remise-des-diplomes-promotion-2020\">Cérémonie de remise des diplômes - Promotion 2020</a></span>\n",
       " <div class=\"clearfix\"></div>\n",
       " <p class=\"slide-content-desc\">Samedi 4 décembre ESIEE Paris diplômera 400 ingénieurs. </p> </div>,\n",
       " <div class=\"slide slide-content\">\n",
       " <span class=\"slide-content-date inline-block\"><span class=\"date-display-single\">18.11.2021</span></span>\n",
       " <span class=\"slide-content-theme inline-block is-uppercase\">Evènements</span>\n",
       " <div class=\"clearfix\"></div>\n",
       " <div class=\"slide-content-img pull-left\"><!-- scald=3192:news_thumbnail --><img alt=\"HFLAN, rendez-vous les 20 et 21 novembre 2021\" height=\"90\" src=\"https://www.esiee.fr/sites/default/files/styles/news/public/thumbnails/image/visuel-hflan-20-21-novembre-2021.jpg?itok=x-iA6w4I\" title=\"HFLAN, rendez-vous les 20 et 21 novembre 2021\" width=\"120\"/><!-- END scald=3192 --></div>\n",
       " <span class=\"slide-content-title\"><a class=\"is-uppercase\" href=\"/fr/actualite/hflan-jeu-reseau-super-smash-bros-melee-20-21-novembre-2021\">HFLAN, LE RENDEZ-VOUS INCONTOURNABLE DES GAMERS</a></span>\n",
       " <div class=\"clearfix\"></div>\n",
       " <p class=\"slide-content-desc\">HFLAN revient avec une nouvelle édition “Super Smash Bros Melee”.</p> </div>,\n",
       " <div class=\"slide slide-content\">\n",
       " <span class=\"slide-content-date inline-block\"><span class=\"date-display-single\">09.11.2021</span></span>\n",
       " <span class=\"slide-content-theme inline-block is-uppercase\">Evènements</span>\n",
       " <div class=\"clearfix\"></div>\n",
       " <div class=\"slide-content-img pull-left\"><!-- scald=3180:news_thumbnail --><img alt=\"Forum pour l'emploi ESIEE Paris \" height=\"90\" src=\"https://www.esiee.fr/sites/default/files/styles/news/public/thumbnails/image/forum-recrutement-esiee-paris-2_1.png?itok=Ervvwze3\" title=\"Forum pour l'emploi ESIEE Paris - Jeudi 18 novembre \" width=\"120\"/><!-- END scald=3180 --></div>\n",
       " <span class=\"slide-content-title\"><a class=\"is-uppercase\" href=\"/fr/actualite/forum-pour-lemploi-esiee-paris-jeudi-18-novembre\">Forum pour l'emploi ESIEE Paris - Jeudi 18 novembre</a></span>\n",
       " <div class=\"clearfix\"></div>\n",
       " <p class=\"slide-content-desc\">A la recherche d'un emploi ou d'un stage ? Une quarantaine d'entreprises vous attendent.</p> </div>]"
      ]
     },
     "execution_count": 16,
     "metadata": {},
     "output_type": "execute_result"
    }
   ],
   "source": [
    "soup.find_all(class_=\"slide\")[0:5]"
   ]
  },
  {
   "cell_type": "markdown",
   "metadata": {},
   "source": [
    "Pour récupérer le text sans les balises HTML :"
   ]
  },
  {
   "cell_type": "code",
   "execution_count": 17,
   "metadata": {},
   "outputs": [
    {
     "data": {
      "text/plain": [
       "' \\n\\n\\n\\n\\n\\n\\n\\n\\n\\nESIEE Paris, l’école de l’innovation technologique | Grande école d’ingénieurs | ESIEE Paris\\n\\n\\n\\n\\n\\n\\n\\n\\n\\n\\n\\n\\n\\n\\n\\n \\n\\n\\n\\n\\n\\n\\n\\n\\n\\n\\n\\nLes outils ESIEE Paris Webmail ESIEE Paris Emploi du temps général Emploi du temps individuel Extranet iCampus Blackboard Microsoft DreamSpark \\n\\n\\n\\n\\n\\n\\n\\n\\n\\n\\n\\n\\n\\n\\n\\n\\n\\n\\n\\n\\n\\n\\n\\n\\n\\n\\n\\n\\n\\n\\n\\n\\n\\n\\n\\n\\n\\n\\n\\n\\n\\n\\n\\n\\n\\n\\n menu\\nFormations\\n\\n\\nRETOUR menu\\nFormations ESIEE ParisIngénieur\\n\\n\\nIngénieur\\nRETOUR Formations\\nIngénieur ESIEE ParisPremier cycleLe cycle ingénieur\\n\\n\\nLe cycle ingénieur\\nRETOUR Ingénieur\\nLe cycle ingénieur ESIEE ParisEnseignements de 1ère annéeEnseignements de 2e et 3e annéeProfils métiersFilières\\n\\n\\nFilières\\nRETOUR Ingénieur\\n9 filières, 1 diplômeInformatiqueCybersécuritéDatascience et intelligence artificielleArtificial Intelligence and CybersecuritySystèmes embarquésSystèmes électroniques intelligentsGénie industrielBiotechnologies et e-santéEnergieDoubles-diplômesEmplois et salairesFrais de scolarité - Aides financièresStagesAdmissionsContactIngénieur par apprentissage\\n\\n'"
      ]
     },
     "execution_count": 17,
     "metadata": {},
     "output_type": "execute_result"
    }
   ],
   "source": [
    "soup.text[0:1000]"
   ]
  },
  {
   "cell_type": "markdown",
   "metadata": {},
   "source": [
    "## Exercice\n",
    "### Exercice 3\n",
    "\n",
    "Améliorer la classe développé précédemment.\n",
    "\n",
    "- Ajouter une méthode pour récupérer l'objet soup d'un url\n",
    "- Récupérer une liste de User Agent et effectuer une rotation aléatoire sur celui à utiliser\n",
    "- Utiliser cette classe pour parser une page HTML et récupérer : le titre, tous les H1 (si ils existent), les liens vers les images, les liens sortants vers d'autres sites, et le texte principal.\n",
    "\n",
    "Parsing d'un sitemaps pour récupérer une listes de liens avec les informations disponibles. -> Stocker dans un dictionnaire et dans un fichier JSON local."
   ]
  },
  {
   "cell_type": "code",
   "execution_count": 60,
   "metadata": {},
   "outputs": [],
   "source": [
    "#### Exercice 3\n",
    "class requestClass : \n",
    "    user_agent = \"Mozilla/5.0 (Windows NT 10.0; Win64; x64; rv:94.0) Gecko/20100101 Firefox/94.0\"\n",
    "    def __init__(self):\n",
    "        self.response= None\n",
    "        self.soup = None\n",
    "    \n",
    "    def request(self,url,timeout=10):\n",
    "        import requests\n",
    "        headers = {'User-Agent': requestClass.user_agent}\n",
    "        response = requests.get(url, headers=headers, timeout = timeout)\n",
    "        while response.status_code != 200 : \n",
    "            response = requests.get(url, headers=headers, timeout = timeout)\n",
    "            \n",
    "        self.response = response\n",
    "        return self.response\n",
    "    \n",
    "    def get_soup(self,url=None):\n",
    "        if self.response != None :\n",
    "            # Si on a déjà télécharger la page \n",
    "            # on se sert de la sauvegarde pour  éviter de réaliser une seconde requête\n",
    "            self.soup = BeautifulSoup(self.response.text)\n",
    "            return self.soup\n",
    "        # Sinon on doit faire la requête associée\n",
    "        self.request(url)\n",
    "        self.soup = BeautifulSoup(self.response.text)\n",
    "        return self.soup\n",
    "    \n",
    "    def get_title(self,url=None):\n",
    "        if self.soup == None :\n",
    "            # Si on a déjà télécharger la page \n",
    "            # on se sert de la sauvegarde pour  éviter de réaliser une seconde requête\n",
    "            self.get_soup(url)\n",
    "        return self.soup.title.string\n",
    "    \n",
    "    def get_h1(self,url=None):\n",
    "        if self.soup == None :\n",
    "            # Si on a déjà télécharger la page \n",
    "            # on se sert de la sauvegarde pour  éviter de réaliser une seconde requête\n",
    "            self.get_soup(url)\n",
    "        return self.soup.find_all(\"h1\")\n",
    "   \n",
    "    def get_img(self,url=None):\n",
    "        if self.soup == None :\n",
    "            # Si on a déjà télécharger la page \n",
    "            # on se sert de la sauvegarde pour  éviter de réaliser une seconde requête\n",
    "            self.get_soup(url)\n",
    "        images = self.soup.find_all(\"img\")\n",
    "        img_links = []\n",
    "        for image in images:\n",
    "            img_links.append(image.get(\"src\"))\n",
    "        return img_links\n",
    "    \n",
    "    def get_links(self,url=None):\n",
    "        if self.soup == None :\n",
    "            # Si on a déjà télécharger la page \n",
    "            # on se sert de la sauvegarde pour  éviter de réaliser une seconde requête\n",
    "            self.get_soup(url)\n",
    "        a_list = self.soup.find_all(\"a\")\n",
    "        links = []\n",
    "        for a in a_list:\n",
    "            links.append(a.get(\"href\"))\n",
    "        return links\n",
    "    \n",
    "    def get_p(self,url=None):\n",
    "        if self.soup == None :\n",
    "            # Si on a déjà télécharger la page \n",
    "            # on se sert de la sauvegarde pour  éviter de réaliser une seconde requête\n",
    "            self.get_soup(url)\n",
    "        p_list = self.soup.find_all(\"p\")\n",
    "        p_content = []\n",
    "        for p in p_list:\n",
    "            p_content.append(p.string)\n",
    "        return p_content\n",
    "    \n",
    "    def get_tag(self,tag,url=None):\n",
    "        if self.soup == None :\n",
    "            # Si on a déjà télécharger la page \n",
    "            # on se sert de la sauvegarde pour  éviter de réaliser une seconde requête\n",
    "            self.get_soup(url)\n",
    "        tag_list = self.soup.find_all(tag)\n",
    "        tag_content = []\n",
    "        for tag in tag_list:\n",
    "            tag_content.append(tag)\n",
    "        return tag_content"
   ]
  },
  {
   "cell_type": "code",
   "execution_count": 61,
   "metadata": {},
   "outputs": [],
   "source": [
    "test = requestClass()"
   ]
  },
  {
   "cell_type": "code",
   "execution_count": 62,
   "metadata": {
    "scrolled": true
   },
   "outputs": [
    {
     "name": "stdout",
     "output_type": "stream",
     "text": [
      "Espace : Toute l’actualité sur Le Monde.fr.\n"
     ]
    }
   ],
   "source": [
    "print(test.get_title(url))\n",
    "#print(test.get_h1(url))\n",
    "#print(test.get_img(url))\n",
    "#print(test.get_links(url))\n",
    "#print(test.get_p(url))"
   ]
  },
  {
   "cell_type": "code",
   "execution_count": 63,
   "metadata": {},
   "outputs": [
    {
     "name": "stdout",
     "output_type": "stream",
     "text": [
      "[<title>Espace : Toute l’actualité sur Le Monde.fr.</title>, <title></title>, <title></title>, <title></title>, <title></title>, <title></title>, <title></title>, <title></title>, <title></title>, <title></title>, <title></title>, <title></title>, <title></title>, <title></title>, <title></title>, <title></title>, <title></title>, <title></title>, <title></title>, <title></title>, <title></title>]\n"
     ]
    }
   ],
   "source": [
    "print(test.get_tag(\"title\",url))"
   ]
  },
  {
   "cell_type": "markdown",
   "metadata": {},
   "source": [
    "# Exploitation des appels d'API\n"
   ]
  },
  {
   "cell_type": "markdown",
   "metadata": {},
   "source": [
    "\n",
    "Losque le front du site récupère des données sur une API géré par le back, un appel d'API est réalisé. Cet appel est recensé dans les appels réseaux. Il est alors possible de re-jouer cet appel pour récupérer à nouveau les données. Il est très facile de récupérer ces appels dans l'onglet Network de la console développeur de Chrome ou FireFox. La console vous permet de copier le code CURL pour effectuée et vous pouvez ensuite la transformer en code Python depuis le site https://curl.trillworks.com/.\n",
    "\n",
    "Souvent les APIs sont bloquées avec certain paramètres. L'API verifie que dans les headers de la requêtes HTTP ces paramètres sont présents : * un token généré à la volée avec des protocole OAuth2 (ou moins développés). * un referer provenant du site web (la source de la requête), très facile à falsifier.\n",
    "\n"
   ]
  },
  {
   "cell_type": "markdown",
   "metadata": {},
   "source": [
    "## Exercice \n",
    "### Exercice 4\n",
    "\n",
    "- Utiliser les informations développées plus haut pour récupérer les premiers résultats d'une recherche d'une requête\n",
    "sur Qwant. \n",
    "\n",
    "Tips : \n",
    "\n",
    "- Aller sur https://www.qwant.com/\n",
    "- Ouvrir les outils de développements de Chrome ou Firefox\n",
    "- Onglet Network\n",
    "- Fouiller dans les requêtes"
   ]
  },
  {
   "cell_type": "code",
   "execution_count": 24,
   "metadata": {},
   "outputs": [],
   "source": [
    "import requests,json\n",
    "\n",
    "params = (\n",
    "    ('q', 'esiee'),\n",
    "    ('locale','fr_FR')\n",
    ")\n",
    "headers = {'User-Agent': \"Mozilla/5.0 (Windows NT 10.0; Win64; x64; rv:94.0) Gecko/20100101 Firefox/94.0\"}\n",
    "\n",
    "response = requests.get('https://api.qwant.com/v3/search/web', headers=headers, params=params)\n",
    "\n",
    "#NB. Original query string below. It seems impossible to parse and\n",
    "#reproduce query strings 100% accurately so the one below is given\n",
    "#in case the reproduced version is not \"correct\".\n",
    "# response = requests.get('https://api.qwant.com/v3/search/web?q=esiee')\n",
    "\n",
    "responseJSON = json.loads(response.text) "
   ]
  },
  {
   "cell_type": "code",
   "execution_count": 43,
   "metadata": {},
   "outputs": [
    {
     "name": "stdout",
     "output_type": "stream",
     "text": [
      "ESIEE Paris, l’école de l’innovation technologique | Grande école d’ingénieurs | ESIEE Paris\n",
      "ESIEE\n",
      "ESIEE-Amiens – École d'Ingénieurs à Amiens\n",
      "ESIEE - Jour des Projets 2021\n",
      "ESIEE Games\n",
      "ESIEE-Amiens 2020/2021 - HYPERPLANNING\n",
      "ESIEE : Avis, Formations et Informations !\n",
      "esiee.paris: École d’ingénieurs ESIEE Paris, école de l’innovation | ESIEE Paris\n",
      "esiee.fr: ESIEE Paris, l'école de l'innovation technologique\n",
      "ESIEE IT - Découvrez les formations et le calendrier des stages de cet établissement - Ecole d'Ingénieurs\n"
     ]
    }
   ],
   "source": [
    "responses = responseJSON[\"data\"][\"result\"][\"items\"][\"mainline\"]\n",
    "for response in responses: \n",
    "    if response[\"type\"] == \"web\":\n",
    "        sites = response[\"items\"]\n",
    "        for site in sites : \n",
    "            print(site[\"title\"])"
   ]
  },
  {
   "cell_type": "markdown",
   "metadata": {},
   "source": [
    "# Exercice Final  "
   ]
  },
  {
   "cell_type": "markdown",
   "metadata": {},
   "source": [
    "Exercice Final\n",
    "Utilisez tout ce que vous avez appris pour récupérer des articles de News avec une catégorie. Il est souvent intéressant de partir des flux RSS pour commencer :\n",
    "\n",
    "Les données doivent comprendre :\n",
    "- Le texte important propre\n",
    "- L'url\n",
    "- Le domaine\n",
    "- la catégorie\n",
    "- Le titre de l'article\n",
    "- Le titre de la page\n",
    "- (Facultatif) : les images\n",
    "\n",
    "Tips : \n",
    "\n",
    "- Taper le nom de votre média favoris + RSS (par exemple : https://www.lemonde.fr/rss/)\n",
    "- Aller dans le DOM de la page \n",
    "- Trouver les catégories et les liens vers les articles"
   ]
  },
  {
   "cell_type": "code",
   "execution_count": 159,
   "metadata": {},
   "outputs": [],
   "source": [
    "class requestRSS : \n",
    "    user_agent = \"Mozilla/5.0 (Windows NT 10.0; Win64; x64; rv:94.0) Gecko/20100101 Firefox/94.0\"\n",
    "    def __init__(self):\n",
    "        self.response= None\n",
    "        self.soup = None\n",
    "        self.type=\"xml\"\n",
    "        self.title=None\n",
    "    \n",
    "    def request(self,url,timeout=10):\n",
    "        import requests\n",
    "        headers = {'User-Agent': requestClass.user_agent}\n",
    "        response = requests.get(url, headers=headers, timeout = timeout)\n",
    "        while response.status_code != 200 : \n",
    "            response = requests.get(url, headers=headers, timeout = timeout)\n",
    "            \n",
    "        self.response = response\n",
    "        return self.response\n",
    "    \n",
    "    def get_soup(self,url=None):\n",
    "        if self.response != None :\n",
    "            # Si on a déjà télécharger la page \n",
    "            # on se sert de la sauvegarde pour  éviter de réaliser une seconde requête\n",
    "            self.soup = BeautifulSoup(self.response.text,self.type)\n",
    "            return self.soup\n",
    "        # Sinon on doit faire la requête associée\n",
    "        self.request(url)\n",
    "        self.soup = BeautifulSoup(self.response.text,self.type)\n",
    "        self.title=self.soup.title.string\n",
    "        return self.soup\n",
    "    \n",
    "    def get_tag(self,tag,url=None):\n",
    "        if self.soup == None :\n",
    "            # Si on a déjà télécharger la page \n",
    "            # on se sert de la sauvegarde pour  éviter de réaliser une seconde requête\n",
    "            self.get_soup(url)\n",
    "        tag_list = self.soup.find_all(tag)\n",
    "        tag_content = []\n",
    "        for tag in tag_list:\n",
    "            tag_content.append(tag)\n",
    "        return tag_content\n",
    "    \n",
    "    def print_articles(self,url=None):\n",
    "        articles = RSS.get_tag(\"item\",url)\n",
    "        for article in articles :\n",
    "            print(\"==============================\")\n",
    "            print(self.title + \"\\n\")\n",
    "            print(article.title.string+\"\\n\")\n",
    "            print(article.description.string+\"\\n\")\n",
    "            print(article.find(\"media:content\").get(\"url\")+\"\\n\")\n",
    "            print(article.link.string)\n",
    "            print(\"==============================\")\n",
    "        "
   ]
  },
  {
   "cell_type": "code",
   "execution_count": 160,
   "metadata": {},
   "outputs": [],
   "source": [
    "RSS = requestRSS()\n",
    "categorie = \"sport\"\n",
    "url = \"https://www.lemonde.fr/\"+categorie+\"/rss_full.xml\""
   ]
  },
  {
   "cell_type": "code",
   "execution_count": 161,
   "metadata": {},
   "outputs": [
    {
     "name": "stdout",
     "output_type": "stream",
     "text": [
      "==============================\n",
      "Sport : Toute l’actualité sur Le Monde.fr.\n",
      "\n",
      "JO 2024 : la justice autorise la reprise des travaux de construction d’une piscine d’entraînement à Aubervilliers\n",
      "\n",
      "La cour administrative d’appel de Paris avait suspendu le permis de construire à la fin de septembre, invoquant des « doutes sérieux sur [sa] légalité », après une procédure d’urgence lancée par des opposants au projet.\n",
      "\n",
      "https://img.lemde.fr/2021/11/21/560/0/6720/3360/644/322/60/0/077c489_151229577-211107jbalague-corps-isabelle-12.jpg\n",
      "\n",
      "https://www.lemonde.fr/sport/article/2021/11/23/jo-2024-la-justice-autorise-la-reprise-des-travaux-de-construction-d-une-piscine-d-entrainement-a-aubervilliers_6103289_3242.html\n",
      "==============================\n",
      "==============================\n",
      "Sport : Toute l’actualité sur Le Monde.fr.\n",
      "\n",
      "Interruption du match OL-OM : Gérald Darmanin veut travailler sur les interdictions de stade\n",
      "\n",
      "Les instances du football français se sont réunies au ministère de l’intérieur, mardi, pour commencer à tirer les conclusions de l’incident de dimanche, au Parc OL.\n",
      "\n",
      "https://img.lemde.fr/2021/11/23/444/0/5329/2664/644/322/60/0/8f92317_5068366-01-06.jpg\n",
      "\n",
      "https://www.lemonde.fr/societe/article/2021/11/23/interruption-du-match-ol-om-gerald-darmanin-veut-travailler-sur-les-interdictions-de-stade_6103285_3224.html\n",
      "==============================\n",
      "==============================\n",
      "Sport : Toute l’actualité sur Le Monde.fr.\n",
      "\n",
      "Ski : entre affluence et protection de l’environnement, la station de Flaine sur une ligne de crête\n",
      "\n",
      "La station haut-savoyarde entend faciliter l’accessibilité des skieurs grâce à l’ascenseur valléen Funiflaine, qui devrait être opérationnel en 2025. Parallèlement, elle multiplie les initiatives pour limiter son impact environnemental et préserver la biodiversité.\n",
      "\n",
      "https://img.lemde.fr/2021/11/22/349/0/4187/2093/644/322/60/0/689f976_389623595-000-1e13wx.jpg\n",
      "\n",
      "https://www.lemonde.fr/economie/article/2021/11/23/ski-entre-affluence-et-protection-de-l-environnement-la-station-de-flaine-sur-une-ligne-de-crete_6103266_3234.html\n",
      "==============================\n",
      "==============================\n",
      "Sport : Toute l’actualité sur Le Monde.fr.\n",
      "\n",
      "Après les incidents lors du match OL-OM, le football français en état d’urgence\n",
      "\n",
      "L’interruption du match est le dernier d’une longue liste d’incidents depuis l’été. Une réunion de crise avec le gouvernement a lieu, mardi, pour tenter de trouver des solutions.\n",
      "\n",
      "https://img.lemde.fr/2021/11/22/920/0/3191/1593/644/322/60/0/4015ddb_5062729-01-06.jpg\n",
      "\n",
      "https://www.lemonde.fr/sport/article/2021/11/23/violences-dans-les-stades-le-football-francais-en-etat-d-urgence_6103254_3242.html\n",
      "==============================\n",
      "==============================\n",
      "Sport : Toute l’actualité sur Le Monde.fr.\n",
      "\n",
      "Après l’arrêt d’OL-OM, le football français s’intéresse encore au modèle anglais qui a vaincu l’hooliganisme\n",
      "\n",
      "Vidéosurveillance, fin des grillages et des tribunes debout… La Premier League est citée en exemple. Pour ses détracteurs, elle a éradiqué la violence au prix d’une ambiance aseptisée.\n",
      "\n",
      "https://img.lemde.fr/2021/11/23/170/0/1539/769/644/322/60/0/8e676a3_466471417-000-sapa980630627950.jpg\n",
      "\n",
      "https://www.lemonde.fr/football/article/2021/11/23/apres-l-arret-de-lyon-marseille-le-football-francais-lorgne-encore-le-modele-anglais-des-tribunes_6103253_1616938.html\n",
      "==============================\n",
      "==============================\n",
      "Sport : Toute l’actualité sur Le Monde.fr.\n",
      "\n",
      "Transat Jacques Vabre : « On ne peut être opposé à l’innovation, mais il est parfois bon de l’interroger »\n",
      "\n",
      "Le skippeur Erwan Le Roux, arrivé deuxième avec Xavier Macaire de la flotte des Ocean Fifty, explique le regain d’intérêt pour cette classe, moins coûteuse et plus simple, et s’interroge sur la frénésie de construction.\n",
      "\n",
      "https://img.lemde.fr/2021/11/22/339/0/4500/2250/644/322/60/0/a1ff770_390946569-066-dppi-30121001-046.jpg\n",
      "\n",
      "https://www.lemonde.fr/sport/article/2021/11/23/transat-jacques-vabre-on-ne-peut-etre-oppose-a-l-innovation-mais-il-est-parfois-bon-de-l-interroger_6103243_3242.html\n",
      "==============================\n",
      "==============================\n",
      "Sport : Toute l’actualité sur Le Monde.fr.\n",
      "\n",
      "Transat Jacques Vabre : Sébastien Rogues et Matthieu Souben franchissent la ligne les premiers en Martinique\n",
      "\n",
      "Arrivé dans la nuit à Fort-de-France, le duo s’impose en Ocean Fifty à bord de « Primonial », en un peu plus de quinze jours et treize heures.\n",
      "\n",
      "https://img.lemde.fr/2021/11/22/365/0/4382/2191/644/322/60/0/af2c3fd_5065191-01-06.jpg\n",
      "\n",
      "https://www.lemonde.fr/sport/article/2021/11/23/transat-jacques-vabre-sebastien-rogues-et-mathieu-souben-franchissent-la-ligne-les-premiers-en-martinique_6103241_3242.html\n",
      "==============================\n",
      "==============================\n",
      "Sport : Toute l’actualité sur Le Monde.fr.\n",
      "\n",
      "En montagne, le débat est ouvert sur un avenir sans neige et sans ski\n",
      "\n",
      "La question du changement de modèle de développement agite les montagnes françaises et pousse des opposants historiques à nouer le dialogue. Derrière les poignées de main, les lignes de fracture restent profondes.\n",
      "\n",
      "https://img.lemde.fr/2021/11/22/938/0/5615/2805/644/322/60/0/1270e42_589772417-maury-itemlameije-lemonde-0003.jpg\n",
      "\n",
      "https://www.lemonde.fr/economie/article/2021/11/23/en-montagne-le-debat-est-ouvert-sur-un-avenir-sans-neige-et-sans-ski_6103208_3234.html\n",
      "==============================\n",
      "==============================\n",
      "Sport : Toute l’actualité sur Le Monde.fr.\n",
      "\n",
      "A La Grave, le téléphérique qui divise la Mecque du hors-piste\n",
      "\n",
      "Prévue à la place du téléski actuel pour préserver le glacier de la Girose, la future remontée fait craindre une jonction avec les grandes stations voisines des Deux-Alpes et de l’Alpe-d’Huez, qui partagent le même exploitant.\n",
      "\n",
      "https://img.lemde.fr/2021/11/22/464/0/5568/2784/644/322/60/0/5b15145_705775575-000-vq0bw.jpg\n",
      "\n",
      "https://www.lemonde.fr/economie/article/2021/11/23/a-la-grave-le-telepherique-qui-divise-la-mecque-du-hors-piste_6103207_3234.html\n",
      "==============================\n",
      "==============================\n",
      "Sport : Toute l’actualité sur Le Monde.fr.\n",
      "\n",
      "La Chine tente d’enterrer l’affaire Peng Shuai, avec la bénédiction du Comité international olympique\n",
      "\n",
      "Le président du CIO s’est entretenu avec l’ancienne championne de tennis, disparue depuis deux semaines, sans aborder ses allégations de viol contre un haut responsable chinois.\n",
      "\n",
      "https://img.lemde.fr/2021/11/22/227/0/4800/2394/644/322/60/0/57d119c_262554476-643625.jpg\n",
      "\n",
      "https://www.lemonde.fr/international/article/2021/11/22/la-chine-tente-d-enterrer-l-affaire-peng-shuai-avec-la-benediction-du-cio_6103137_3210.html\n",
      "==============================\n",
      "==============================\n",
      "Sport : Toute l’actualité sur Le Monde.fr.\n",
      "\n",
      "La traversée dantesque de trois nageurs français met en lumière la pollution du lac Titicaca\n",
      "\n",
      "Le vice-champion du monde handisport français Théo Curin, amputé des quatre membres, et ses deux acolytes ont parcouru, pendant dix jours et en totale autonomie, le plus grand lac d’eau douce d’Amérique du Sud, asphyxié par de multiples rejets et déchets.\n",
      "\n",
      "https://img.lemde.fr/2021/11/20/408/0/4896/2448/644/322/60/0/0708ea3_5055268-01-06.jpg\n",
      "\n",
      "https://www.lemonde.fr/planete/article/2021/11/22/la-traversee-dantesque-de-trois-nageurs-francais-met-en-lumiere-la-pollution-du-lac-titicaca_6103129_3244.html\n",
      "==============================\n",
      "==============================\n",
      "Sport : Toute l’actualité sur Le Monde.fr.\n",
      "\n",
      "L’OL sanctionné d’un huis clos total, à titre conservatoire, après l’interruption du match contre l’OM\n",
      "\n",
      "Le match de dimanche entre les deux Olympiques s’est arrêté dès la quatrième minute après que le joueur Dimitri Payet a reçu sur la tête une bouteille d’eau lancée des tribunes.\n",
      "\n",
      "https://img.lemde.fr/2021/11/22/460/0/4000/2000/644/322/60/0/1dfa0fe_5062731-01-06.jpg\n",
      "\n",
      "https://www.lemonde.fr/societe/article/2021/11/22/inadmissible-minable-une-honte-vives-reactions-politiques-apres-l-interruption-du-match-lyon-marseille_6103128_3224.html\n",
      "==============================\n",
      "==============================\n",
      "Sport : Toute l’actualité sur Le Monde.fr.\n",
      "\n",
      "Double dose de plaisir, Blacks matées et rap de la défaite, ce qu’il fallait (aussi) retenir du week-end sportif\n",
      "\n",
      "Parce qu’il n’y a pas que le football dans la vie, tour d’horizon de l’actualité sportive à côté de laquelle vous auriez pu passer.\n",
      "\n",
      "https://img.lemde.fr/2021/11/20/239/0/2874/1437/644/322/60/0/3958b28_5051784-01-06.jpg\n",
      "\n",
      "https://www.lemonde.fr/sport/article/2021/11/22/double-dose-de-plaisir-blacks-matees-et-rap-de-la-defaite-ce-qu-il-fallait-aussi-retenir-du-week-end-sportif_6103105_3242.html\n",
      "==============================\n",
      "==============================\n",
      "Sport : Toute l’actualité sur Le Monde.fr.\n",
      "\n",
      "OL-OM : l’arrêt du match après l’agression sur Payet, une triste soirée qui reflète les problèmes de la Ligue 1\n",
      "\n",
      "Arrêté dès la quatrième minute à la suite d’un jet de bouteille d’eau sur Dimitri Payet, le match n’a jamais repris. Peut-être l’incident de trop dans un championnat marqué par les débordements.\n",
      "\n",
      "https://img.lemde.fr/2021/11/21/492/0/4000/2000/644/322/60/0/2426b76_5060558-01-06.jpg\n",
      "\n",
      "https://www.lemonde.fr/football/article/2021/11/22/match-arrete-entre-lyon-et-marseille-recit-d-une-triste-soiree-symbole-des-maux-de-la-ligue-1_6103088_1616938.html\n",
      "==============================\n",
      "==============================\n",
      "Sport : Toute l’actualité sur Le Monde.fr.\n",
      "\n",
      "« Ils veulent se montrer, gagner des dollars, changer le cours de leur vie » : l’école africaine du MMA\n",
      "\n",
      "Au Sénégal, où la lutte avec frappe à mains nues est une discipline ancestrale, de nombreux jeunes issus de milieux modestes rêvent d’un avenir professionnel dans les « mixed martial arts », un sport de combat bien plus violent.\n",
      "\n",
      "https://img.lemde.fr/2021/11/01/181/0/5274/2633/644/322/60/0/89f0a5b_126654735-cabdali-sen-mma-plage-12.jpg\n",
      "\n",
      "https://www.lemonde.fr/afrique/article/2021/11/22/ils-veulent-se-montrer-gagner-des-dollars-changer-le-cours-de-leur-vie-les-gladiateurs-africains-du-mma_6103084_3212.html\n",
      "==============================\n",
      "==============================\n",
      "Sport : Toute l’actualité sur Le Monde.fr.\n",
      "\n",
      "OL-OM : le match définitivement arrêté après un jet de bouteille sur Dimitri Payet\n",
      "\n",
      "Le joueur marseillais avait déjà subi un incident similaire lors d’un match de championnat à Nice au mois d’août.\n",
      "\n",
      "https://img.lemde.fr/2021/11/21/0/0/3329/1664/644/322/60/0/82ca180_5060556-01-06.jpg\n",
      "\n",
      "https://www.lemonde.fr/sport/article/2021/11/21/football-le-match-lyon-marseille-interrompu-par-un-jet-de-bouteille-sur-payet_6103075_3242.html\n",
      "==============================\n",
      "==============================\n",
      "Sport : Toute l’actualité sur Le Monde.fr.\n",
      "\n",
      "Ligue 1 : Lens victime d’un coup de tonnerre à Brest, Saint-Etienne reverdit\n",
      "\n",
      "La 14e journée du championnat de France a été marquée, dimanche, par la lourde défaite des Lensois et le but exceptionnel du Stéphanois Miguel Trauco.\n",
      "\n",
      "https://img.lemde.fr/2021/11/21/468/0/5296/2648/644/322/60/0/e96e678_5057943-01-06.jpg\n",
      "\n",
      "https://www.lemonde.fr/football/article/2021/11/21/ligue-1-lens-victime-d-un-coup-de-tonnerre-a-brest-saint-etienne-reverdit_6103072_1616938.html\n",
      "==============================\n",
      "==============================\n",
      "Sport : Toute l’actualité sur Le Monde.fr.\n",
      "\n",
      "Coupe du monde 2022 : « Il était totalement impossible pour Nicolas Sarkozy d’influencer mon vote » sur le choix du Qatar, dit Michel Platini\n",
      "\n",
      "Un an avant l’organisation de la Coupe du monde 2022 de football au Qatar, l’ex-président de l’UEFA revient, dans un entretien avec « Le Monde », sur son vote controversé en faveur de l’émirat.\n",
      "\n",
      "https://img.lemde.fr/2015/12/11/31/0/3764/1880/644/322/60/0/c539ef0_5904041-01-06.jpg\n",
      "\n",
      "https://www.lemonde.fr/sport/article/2021/11/21/mondial-2022-au-qatar-il-etait-totalement-impossible-pour-nicolas-sarkozy-d-influencer-mon-vote-assure-michel-platini_6103071_3242.html\n",
      "==============================\n",
      "==============================\n",
      "Sport : Toute l’actualité sur Le Monde.fr.\n",
      "\n",
      "Lyon-Marseille en direct : arrêt définitif de la rencontre\n",
      "\n",
      "La partie entre Lyon et Marseille est définitivement arrêtée, après près de deux heures d’interruption, suite à un jet de bouteille sur le Marseillais Dimitri Payet.\n",
      "\n",
      "https://img.lemde.fr/2021/11/21/502/0/3000/1500/644/322/60/0/237c01b_434b42254bb84ef798e8c7df49f84211-434b42254bb84ef798e8c7df49f84211-0.jpg\n",
      "\n",
      "https://www.lemonde.fr/football/live/2021/11/21/lyon-marseille-en-direct-suivez-le-choc-des-olympiques_6103069_1616938.html\n",
      "==============================\n",
      "==============================\n",
      "Sport : Toute l’actualité sur Le Monde.fr.\n",
      "\n",
      "Rallye : Sébastien Ogier champion du monde pour la huitième fois\n",
      "\n",
      "A Monza, le pilote français, qui ne disputera pas le championnat du monde l’an prochain, a réussi sa sortie. En dépit d’un palmarès exceptionnel, il n’égalera pas le record de neuf titres mondiaux de Sébastien Loeb.\n",
      "\n",
      "https://img.lemde.fr/2021/11/19/464/0/5568/2784/644/322/60/0/dae7138_5043854-01-06.jpg\n",
      "\n",
      "https://www.lemonde.fr/sport/article/2021/11/21/rallye-sebastien-ogier-remporte-son-huitieme-titre-mondial_6103045_3242.html\n",
      "==============================\n"
     ]
    }
   ],
   "source": [
    "RSS.print_articles(url)"
   ]
  },
  {
   "cell_type": "code",
   "execution_count": 150,
   "metadata": {},
   "outputs": [
    {
     "name": "stdout",
     "output_type": "stream",
     "text": [
      "==============================\n",
      "SPORT : Interruption du match OL-OM : Gérald Darmanin veut travailler sur les interdictions de stade\n",
      "\n",
      "Les instances du football français se sont réunies au ministère de l’intérieur, mardi, pour commencer à tirer les conclusions de l’incident de dimanche, au Parc OL.\n",
      "\n",
      "https://img.lemde.fr/2021/11/23/444/0/5329/2664/644/322/60/0/8f92317_5068366-01-06.jpg\n",
      "\n",
      "https://www.lemonde.fr/societe/article/2021/11/23/interruption-du-match-ol-om-gerald-darmanin-veut-travailler-sur-les-interdictions-de-stade_6103285_3224.html\n",
      "==============================\n",
      "SPORT : Ski : entre affluence et protection de l’environnement, la station de Flaine sur une ligne de crête\n",
      "\n",
      "La station haut-savoyarde entend faciliter l’accessibilité des skieurs grâce à l’ascenseur valléen Funiflaine, qui devrait être opérationnel en 2025. Parallèlement, elle multiplie les initiatives pour limiter son impact environnemental et préserver la biodiversité.\n",
      "\n",
      "https://img.lemde.fr/2021/11/22/349/0/4187/2093/644/322/60/0/689f976_389623595-000-1e13wx.jpg\n",
      "\n",
      "https://www.lemonde.fr/economie/article/2021/11/23/ski-entre-affluence-et-protection-de-l-environnement-la-station-de-flaine-sur-une-ligne-de-crete_6103266_3234.html\n",
      "==============================\n",
      "SPORT : Après les incidents lors du match OL-OM, le football français en état d’urgence\n",
      "\n",
      "L’interruption du match est le dernier d’une longue liste d’incidents depuis l’été. Une réunion de crise avec le gouvernement a lieu, mardi, pour tenter de trouver des solutions.\n",
      "\n",
      "https://img.lemde.fr/2021/11/22/920/0/3191/1593/644/322/60/0/4015ddb_5062729-01-06.jpg\n",
      "\n",
      "https://www.lemonde.fr/sport/article/2021/11/23/violences-dans-les-stades-le-football-francais-en-etat-d-urgence_6103254_3242.html\n",
      "==============================\n",
      "SPORT : Après l’arrêt d’OL-OM, le football français s’intéresse encore au modèle anglais qui a vaincu l’hooliganisme\n",
      "\n",
      "Vidéosurveillance, fin des grillages et des tribunes debout… La Premier League est citée en exemple. Pour ses détracteurs, elle a éradiqué la violence au prix d’une ambiance aseptisée.\n",
      "\n",
      "https://img.lemde.fr/2021/11/23/170/0/1539/769/644/322/60/0/8e676a3_466471417-000-sapa980630627950.jpg\n",
      "\n",
      "https://www.lemonde.fr/football/article/2021/11/23/apres-l-arret-de-lyon-marseille-le-football-francais-lorgne-encore-le-modele-anglais-des-tribunes_6103253_1616938.html\n",
      "==============================\n",
      "SPORT : Transat Jacques Vabre : « On ne peut être opposé à l’innovation, mais il est parfois bon de l’interroger »\n",
      "\n",
      "Le skippeur Erwan Le Roux, arrivé deuxième avec Xavier Macaire de la flotte des Ocean Fifty, explique le regain d’intérêt pour cette classe, moins coûteuse et plus simple, et s’interroge sur la frénésie de construction.\n",
      "\n",
      "https://img.lemde.fr/2021/11/22/339/0/4500/2250/644/322/60/0/a1ff770_390946569-066-dppi-30121001-046.jpg\n",
      "\n",
      "https://www.lemonde.fr/sport/article/2021/11/23/transat-jacques-vabre-on-ne-peut-etre-oppose-a-l-innovation-mais-il-est-parfois-bon-de-l-interroger_6103243_3242.html\n",
      "==============================\n",
      "SPORT : Transat Jacques Vabre : Sébastien Rogues et Matthieu Souben franchissent la ligne les premiers en Martinique\n",
      "\n",
      "Arrivé dans la nuit à Fort-de-France, le duo s’impose en Ocean Fifty à bord de « Primonial », en un peu plus de quinze jours et treize heures.\n",
      "\n",
      "https://img.lemde.fr/2021/11/22/365/0/4382/2191/644/322/60/0/af2c3fd_5065191-01-06.jpg\n",
      "\n",
      "https://www.lemonde.fr/sport/article/2021/11/23/transat-jacques-vabre-sebastien-rogues-et-mathieu-souben-franchissent-la-ligne-les-premiers-en-martinique_6103241_3242.html\n",
      "==============================\n",
      "SPORT : En montagne, le débat est ouvert sur un avenir sans neige et sans ski\n",
      "\n",
      "La question du changement de modèle de développement agite les montagnes françaises et pousse des opposants historiques à nouer le dialogue. Derrière les poignées de main, les lignes de fracture restent profondes.\n",
      "\n",
      "https://img.lemde.fr/2021/11/22/938/0/5615/2805/644/322/60/0/1270e42_589772417-maury-itemlameije-lemonde-0003.jpg\n",
      "\n",
      "https://www.lemonde.fr/economie/article/2021/11/23/en-montagne-le-debat-est-ouvert-sur-un-avenir-sans-neige-et-sans-ski_6103208_3234.html\n",
      "==============================\n",
      "SPORT : A La Grave, le téléphérique qui divise la Mecque du hors-piste\n",
      "\n",
      "Prévue à la place du téléski actuel pour préserver le glacier de la Girose, la future remontée fait craindre une jonction avec les grandes stations voisines des Deux-Alpes et de l’Alpe-d’Huez, qui partagent le même exploitant.\n",
      "\n",
      "https://img.lemde.fr/2021/11/22/464/0/5568/2784/644/322/60/0/5b15145_705775575-000-vq0bw.jpg\n",
      "\n",
      "https://www.lemonde.fr/economie/article/2021/11/23/a-la-grave-le-telepherique-qui-divise-la-mecque-du-hors-piste_6103207_3234.html\n",
      "==============================\n",
      "SPORT : La Chine tente d’enterrer l’affaire Peng Shuai, avec la bénédiction du Comité international olympique\n",
      "\n",
      "Le président du CIO s’est entretenu avec l’ancienne championne de tennis, disparue depuis deux semaines, sans aborder ses allégations de viol contre un haut responsable chinois.\n",
      "\n",
      "https://img.lemde.fr/2021/11/22/227/0/4800/2394/644/322/60/0/57d119c_262554476-643625.jpg\n",
      "\n",
      "https://www.lemonde.fr/international/article/2021/11/22/la-chine-tente-d-enterrer-l-affaire-peng-shuai-avec-la-benediction-du-cio_6103137_3210.html\n",
      "==============================\n",
      "SPORT : La traversée dantesque de trois nageurs français met en lumière la pollution du lac Titicaca\n",
      "\n",
      "Le vice-champion du monde handisport français Théo Curin, amputé des quatre membres, et ses deux acolytes ont parcouru, pendant dix jours et en totale autonomie, le plus grand lac d’eau douce d’Amérique du Sud, asphyxié par de multiples rejets et déchets.\n",
      "\n",
      "https://img.lemde.fr/2021/11/20/408/0/4896/2448/644/322/60/0/0708ea3_5055268-01-06.jpg\n",
      "\n",
      "https://www.lemonde.fr/planete/article/2021/11/22/la-traversee-dantesque-de-trois-nageurs-francais-met-en-lumiere-la-pollution-du-lac-titicaca_6103129_3244.html\n",
      "==============================\n",
      "SPORT : L’OL sanctionné d’un huis clos total, à titre conservatoire, après l’interruption du match contre l’OM\n",
      "\n",
      "Le match de dimanche entre les deux Olympiques s’est arrêté dès la quatrième minute après que le joueur Dimitri Payet a reçu sur la tête une bouteille d’eau lancée des tribunes.\n",
      "\n",
      "https://img.lemde.fr/2021/11/22/460/0/4000/2000/644/322/60/0/1dfa0fe_5062731-01-06.jpg\n",
      "\n",
      "https://www.lemonde.fr/societe/article/2021/11/22/inadmissible-minable-une-honte-vives-reactions-politiques-apres-l-interruption-du-match-lyon-marseille_6103128_3224.html\n",
      "==============================\n",
      "SPORT : Double dose de plaisir, Blacks matées et rap de la défaite, ce qu’il fallait (aussi) retenir du week-end sportif\n",
      "\n",
      "Parce qu’il n’y a pas que le football dans la vie, tour d’horizon de l’actualité sportive à côté de laquelle vous auriez pu passer.\n",
      "\n",
      "https://img.lemde.fr/2021/11/20/239/0/2874/1437/644/322/60/0/3958b28_5051784-01-06.jpg\n",
      "\n",
      "https://www.lemonde.fr/sport/article/2021/11/22/double-dose-de-plaisir-blacks-matees-et-rap-de-la-defaite-ce-qu-il-fallait-aussi-retenir-du-week-end-sportif_6103105_3242.html\n",
      "==============================\n",
      "SPORT : OL-OM : l’arrêt du match après l’agression sur Payet, une triste soirée qui reflète les problèmes de la Ligue 1\n",
      "\n",
      "Arrêté dès la quatrième minute à la suite d’un jet de bouteille d’eau sur Dimitri Payet, le match n’a jamais repris. Peut-être l’incident de trop dans un championnat marqué par les débordements.\n",
      "\n",
      "https://img.lemde.fr/2021/11/21/492/0/4000/2000/644/322/60/0/2426b76_5060558-01-06.jpg\n",
      "\n",
      "https://www.lemonde.fr/football/article/2021/11/22/match-arrete-entre-lyon-et-marseille-recit-d-une-triste-soiree-symbole-des-maux-de-la-ligue-1_6103088_1616938.html\n",
      "==============================\n",
      "SPORT : « Ils veulent se montrer, gagner des dollars, changer le cours de leur vie » : l’école africaine du MMA\n",
      "\n",
      "Au Sénégal, où la lutte avec frappe à mains nues est une discipline ancestrale, de nombreux jeunes issus de milieux modestes rêvent d’un avenir professionnel dans les « mixed martial arts », un sport de combat bien plus violent.\n",
      "\n",
      "https://img.lemde.fr/2021/11/01/181/0/5274/2633/644/322/60/0/89f0a5b_126654735-cabdali-sen-mma-plage-12.jpg\n",
      "\n",
      "https://www.lemonde.fr/afrique/article/2021/11/22/ils-veulent-se-montrer-gagner-des-dollars-changer-le-cours-de-leur-vie-les-gladiateurs-africains-du-mma_6103084_3212.html\n",
      "==============================\n",
      "SPORT : OL-OM : le match définitivement arrêté après un jet de bouteille sur Dimitri Payet\n",
      "\n",
      "Le joueur marseillais avait déjà subi un incident similaire lors d’un match de championnat à Nice au mois d’août.\n",
      "\n",
      "https://img.lemde.fr/2021/11/21/0/0/3329/1664/644/322/60/0/82ca180_5060556-01-06.jpg\n",
      "\n",
      "https://www.lemonde.fr/sport/article/2021/11/21/football-le-match-lyon-marseille-interrompu-par-un-jet-de-bouteille-sur-payet_6103075_3242.html\n",
      "==============================\n",
      "SPORT : Ligue 1 : Lens victime d’un coup de tonnerre à Brest, Saint-Etienne reverdit\n",
      "\n",
      "La 14e journée du championnat de France a été marquée, dimanche, par la lourde défaite des Lensois et le but exceptionnel du Stéphanois Miguel Trauco.\n",
      "\n",
      "https://img.lemde.fr/2021/11/21/468/0/5296/2648/644/322/60/0/e96e678_5057943-01-06.jpg\n",
      "\n",
      "https://www.lemonde.fr/football/article/2021/11/21/ligue-1-lens-victime-d-un-coup-de-tonnerre-a-brest-saint-etienne-reverdit_6103072_1616938.html\n",
      "==============================\n",
      "SPORT : Coupe du monde 2022 : « Il était totalement impossible pour Nicolas Sarkozy d’influencer mon vote » sur le choix du Qatar, dit Michel Platini\n",
      "\n",
      "Un an avant l’organisation de la Coupe du monde 2022 de football au Qatar, l’ex-président de l’UEFA revient, dans un entretien avec « Le Monde », sur son vote controversé en faveur de l’émirat.\n",
      "\n",
      "https://img.lemde.fr/2015/12/11/31/0/3764/1880/644/322/60/0/c539ef0_5904041-01-06.jpg\n",
      "\n",
      "https://www.lemonde.fr/sport/article/2021/11/21/mondial-2022-au-qatar-il-etait-totalement-impossible-pour-nicolas-sarkozy-d-influencer-mon-vote-assure-michel-platini_6103071_3242.html\n",
      "==============================\n",
      "SPORT : Lyon-Marseille en direct : arrêt définitif de la rencontre\n",
      "\n",
      "La partie entre Lyon et Marseille est définitivement arrêtée, après près de deux heures d’interruption, suite à un jet de bouteille sur le Marseillais Dimitri Payet.\n",
      "\n",
      "https://img.lemde.fr/2021/11/21/502/0/3000/1500/644/322/60/0/237c01b_434b42254bb84ef798e8c7df49f84211-434b42254bb84ef798e8c7df49f84211-0.jpg\n",
      "\n",
      "https://www.lemonde.fr/football/live/2021/11/21/lyon-marseille-en-direct-suivez-le-choc-des-olympiques_6103069_1616938.html\n",
      "==============================\n",
      "SPORT : Rallye : Sébastien Ogier champion du monde pour la huitième fois\n",
      "\n",
      "A Monza, le pilote français, qui ne disputera pas le championnat du monde l’an prochain, a réussi sa sortie. En dépit d’un palmarès exceptionnel, il n’égalera pas le record de neuf titres mondiaux de Sébastien Loeb.\n",
      "\n",
      "https://img.lemde.fr/2021/11/19/464/0/5568/2784/644/322/60/0/dae7138_5043854-01-06.jpg\n",
      "\n",
      "https://www.lemonde.fr/sport/article/2021/11/21/rallye-sebastien-ogier-remporte-son-huitieme-titre-mondial_6103045_3242.html\n",
      "==============================\n",
      "SPORT : Manchester United renvoie son entraîneur Ole Gunnar Solskjaer\n",
      "\n",
      "Le départ du Norvégien survient après une nouvelle lourde défaite en championnat, la cinquième en seulement 12 matchs. Joueur légendaire du club entre 1996 et 2007, Solskjaer était arrivé à la fin de 2018 pour rebâtir une équipe divisée.\n",
      "\n",
      "https://img.lemde.fr/2021/11/20/283/0/3400/1700/644/322/60/0/04255cf_5052145-01-06.jpg\n",
      "\n",
      "https://www.lemonde.fr/sport/article/2021/11/21/manchester-united-renvoie-son-entraineur-ole-gunnar-solskjaer_6103044_3242.html\n",
      "==============================\n"
     ]
    }
   ],
   "source": [
    "for article in articles :\n",
    "    print(\"==============================\")\n",
    "    print(categorie.upper()+ \" : \"+article.title.string+\"\\n\")\n",
    "    print(article.description.string+\"\\n\")\n",
    "    print(article.find(\"media:content\").get(\"url\")+\"\\n\")\n",
    "    print(article.link.string)\n",
    "print(\"==============================\")"
   ]
  },
  {
   "cell_type": "code",
   "execution_count": null,
   "metadata": {},
   "outputs": [],
   "source": []
  }
 ],
 "metadata": {
  "kernelspec": {
   "display_name": "Python 3 (ipykernel)",
   "language": "python",
   "name": "python3"
  },
  "language_info": {
   "codemirror_mode": {
    "name": "ipython",
    "version": 3
   },
   "file_extension": ".py",
   "mimetype": "text/x-python",
   "name": "python",
   "nbconvert_exporter": "python",
   "pygments_lexer": "ipython3",
   "version": "3.8.12"
  }
 },
 "nbformat": 4,
 "nbformat_minor": 2
}
